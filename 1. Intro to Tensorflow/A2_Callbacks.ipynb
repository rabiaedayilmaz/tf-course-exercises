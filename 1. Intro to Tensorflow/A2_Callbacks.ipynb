{
 "cells": [
  {
   "cell_type": "code",
   "execution_count": 1,
   "id": "6b310950-d92e-4fc2-b16a-9dfb57f7c3ad",
   "metadata": {},
   "outputs": [],
   "source": [
    "import tensorflow as tf\n",
    "import numpy as np"
   ]
  },
  {
   "cell_type": "code",
   "execution_count": 2,
   "id": "84839163-0df9-437e-9cad-727b5ed128a4",
   "metadata": {},
   "outputs": [
    {
     "name": "stdout",
     "output_type": "stream",
     "text": [
      "Downloading data from https://storage.googleapis.com/tensorflow/tf-keras-datasets/mnist.npz\n",
      "11493376/11490434 [==============================] - 1s 0us/step\n",
      "11501568/11490434 [==============================] - 1s 0us/step\n"
     ]
    }
   ],
   "source": [
    "(x_train, y_train), (x_test, y_test) = tf.keras.datasets.mnist.load_data()"
   ]
  },
  {
   "cell_type": "code",
   "execution_count": 4,
   "id": "b2c80b9f-3d02-4560-93bd-65c96e385b36",
   "metadata": {},
   "outputs": [
    {
     "name": "stdout",
     "output_type": "stream",
     "text": [
      "X train:  (60000, 28, 28)\n",
      "y train:  (60000,)\n",
      "X test:  (10000, 28, 28)\n",
      "y test:  (10000,)\n"
     ]
    }
   ],
   "source": [
    "print(\"X train: \", x_train.shape)\n",
    "print(\"y train: \", y_train.shape)\n",
    "print(\"X test: \", x_test.shape)\n",
    "print(\"y test: \", y_test.shape)"
   ]
  },
  {
   "cell_type": "code",
   "execution_count": 19,
   "id": "cb861607-06c4-467f-9d46-027b02dae0f2",
   "metadata": {},
   "outputs": [],
   "source": [
    "x_train = x_train / 255."
   ]
  },
  {
   "cell_type": "code",
   "execution_count": 11,
   "id": "b8f001c7-9c8c-416c-a56a-7daeb398761c",
   "metadata": {},
   "outputs": [
    {
     "name": "stdout",
     "output_type": "stream",
     "text": [
      "There are 10 classes.\n"
     ]
    }
   ],
   "source": [
    "print(f\"There are {len(set(y_train))} classes.\")"
   ]
  },
  {
   "cell_type": "code",
   "execution_count": 5,
   "id": "b15ebba1-321b-4215-af9f-2dc929491fd4",
   "metadata": {},
   "outputs": [],
   "source": [
    "class myCallback(tf.keras.callbacks.Callback):\n",
    "    def on_epoch_end(self, model, logs={}):\n",
    "        if logs.get(\"accuracy\") > 0.9:\n",
    "            print(\"\\nAccuracy is larger than 90%, so stopping.\")\n",
    "            self.model.stop_training = True"
   ]
  },
  {
   "cell_type": "code",
   "execution_count": 20,
   "id": "a3afba24-4848-41b1-a702-a56aae69bdba",
   "metadata": {},
   "outputs": [
    {
     "name": "stdout",
     "output_type": "stream",
     "text": [
      "Epoch 1/10\n",
      "1875/1875 [==============================] - 1s 425us/step - loss: 0.8928 - accuracy: 0.7445\n",
      "Epoch 2/10\n",
      "1875/1875 [==============================] - 1s 414us/step - loss: 0.4030 - accuracy: 0.8867\n",
      "Epoch 3/10\n",
      "1875/1875 [==============================] - 1s 404us/step - loss: 0.3520 - accuracy: 0.8992\n",
      "Epoch 4/10\n",
      "1875/1875 [==============================] - 1s 405us/step - loss: 0.3280 - accuracy: 0.9068\n",
      "\n",
      "Accuracy is larger than 90%, so stopping.\n"
     ]
    }
   ],
   "source": [
    "def train_mnist(x_train, y_train):\n",
    "    callback = myCallback()\n",
    "    model = tf.keras.Sequential([tf.keras.layers.Flatten(),\n",
    "                                tf.keras.layers.Dense(10, activation=\"relu\"),\n",
    "                                tf.keras.layers.Dense(10, activation=\"softmax\")])\n",
    "    model.compile(optimizer=\"sgd\", loss=\"sparse_categorical_crossentropy\", metrics=[\"accuracy\"])\n",
    "    hist = model.fit(x_train, y_train, epochs=10, callbacks=[callback])\n",
    "    \n",
    "    return model, hist\n",
    "\n",
    "model, hist = train_mnist(x_train, y_train)"
   ]
  },
  {
   "cell_type": "code",
   "execution_count": 22,
   "id": "410ec7b1-df6b-4062-a943-a00c70c93ae6",
   "metadata": {},
   "outputs": [],
   "source": [
    "preds = model.predict(x_test)"
   ]
  },
  {
   "cell_type": "code",
   "execution_count": 67,
   "id": "e36c3005-142c-48fd-b88e-89989ee1de38",
   "metadata": {},
   "outputs": [
    {
     "name": "stdout",
     "output_type": "stream",
     "text": [
      "Accuracy: % 90.42999999999999\n"
     ]
    }
   ],
   "source": [
    "accs = np.sum([1 for i in range(len(y_test)) if y_test[i] == np.argmax(preds[i])])\n",
    "print(\"Accuracy: %\", accs / len(y_test) * 100)"
   ]
  },
  {
   "cell_type": "code",
   "execution_count": null,
   "id": "954e1c2d-8292-4877-b6bb-3a4db074db9d",
   "metadata": {},
   "outputs": [],
   "source": []
  }
 ],
 "metadata": {
  "kernelspec": {
   "display_name": "Python 3",
   "language": "python",
   "name": "python3"
  },
  "language_info": {
   "codemirror_mode": {
    "name": "ipython",
    "version": 3
   },
   "file_extension": ".py",
   "mimetype": "text/x-python",
   "name": "python",
   "nbconvert_exporter": "python",
   "pygments_lexer": "ipython3",
   "version": "3.8.8"
  }
 },
 "nbformat": 4,
 "nbformat_minor": 5
}
