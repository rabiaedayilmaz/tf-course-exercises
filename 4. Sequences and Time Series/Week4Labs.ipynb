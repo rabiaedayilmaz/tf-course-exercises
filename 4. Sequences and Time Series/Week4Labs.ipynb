{
  "nbformat": 4,
  "nbformat_minor": 0,
  "metadata": {
    "colab": {
      "provenance": [],
      "collapsed_sections": []
    },
    "kernelspec": {
      "name": "python3",
      "display_name": "Python 3"
    },
    "language_info": {
      "name": "python"
    }
  },
  "cells": [
    {
      "cell_type": "code",
      "execution_count": 1,
      "metadata": {
        "id": "c1k3wdhUrw1c"
      },
      "outputs": [],
      "source": [
        "import numpy as np\n",
        "import matplotlib.pyplot as plt\n",
        "import tensorflow as tf"
      ]
    },
    {
      "cell_type": "markdown",
      "source": [
        "# Lab 1"
      ],
      "metadata": {
        "id": "1tn8HCDwAPAj"
      }
    },
    {
      "cell_type": "code",
      "source": [
        "# UTILITIES\n",
        "def plot_series(time, series, labels=None, format=\"-\", start=0, end=None):\n",
        "  if type(series) is tuple:\n",
        "    for s in series:\n",
        "      plt.plot(time[start:end], s[start:end], format)\n",
        "    plt.legend(labels)\n",
        "  else:\n",
        "    plt.plot(time[start:end], series[start:end], format)\n",
        "  plt.xlabel(\"Time\")\n",
        "  plt.ylabel(\"Value\")\n",
        "  plt.show()\n",
        "\n",
        "def trend(time, slope):\n",
        "  return time*slope\n",
        "\n",
        "def seasonal_pattern(season_time):\n",
        "  return np.where(season_time<0.4,\n",
        "                  np.cos(2*np.pi*season_time),\n",
        "                  1/np.exp(3*season_time))\n",
        "  \n",
        "def seasonality(time, period, amplitude=1, phase=0):\n",
        "  season_time = ((time+phase) % period) / period\n",
        "  return seasonal_pattern(season_time) * amplitude\n",
        "\n",
        "def noise(time, noise_level, seed):\n",
        "  rnd = np.random.RandomState(seed)\n",
        "  return rnd.randn(len(time)) * noise_level\n",
        "\n",
        "# GENERATE DATA\n",
        "def generate_time_series(slope, period, amplitude, noise_level, seed):\n",
        "  time = np.arange(365*4+1, dtype=\"float32\")\n",
        "  series = 10 + trend(time, slope)\n",
        "  series += seasonality(time, period, amplitude)\n",
        "  series += noise(time, noise_level, seed)\n",
        "  return time, series \n",
        "\n",
        "time, series = generate_time_series(0.05, 365, 40, 3, 42)\n",
        "plot_series(time, series)"
      ],
      "metadata": {
        "colab": {
          "base_uri": "https://localhost:8080/",
          "height": 279
        },
        "id": "Ad3HgelqgqVS",
        "outputId": "a4863001-d33e-41f3-8379-2814dc00d23d"
      },
      "execution_count": 66,
      "outputs": [
        {
          "output_type": "display_data",
          "data": {
            "text/plain": [
              "<Figure size 432x288 with 1 Axes>"
            ],
            "image/png": "[encoded data removed]"
          },
          "metadata": {
            "needs_background": "light"
          }
        }
      ]
    },
    {
      "cell_type": "code",
      "source": [
        "def train_val_split(time, series, split_size):\n",
        "  x_train = series[:split_size]\n",
        "  x_test = series[split_size:]\n",
        "  train_time = time[:split_size]\n",
        "  test_time = time[split_size:]\n",
        "  return x_train, x_test, train_time, test_time\n",
        "\n",
        "x_train, x_test, train_time, test_time = train_val_split(time, series, 1000)"
      ],
      "metadata": {
        "id": "FYiAlsRNlq7z"
      },
      "execution_count": 11,
      "outputs": []
    },
    {
      "cell_type": "code",
      "source": [
        "window_size = 20\n",
        "\n",
        "def windowed_data(series):\n",
        "  d = tf.data.Dataset.from_tensor_slices(series)\n",
        "  d = d.window(window_size+1, shift=1, drop_remainder=True)\n",
        "  d = d.flat_map(lambda w: w.batch(window_size+1))\n",
        "  d = d.map(lambda w: (w[:-1], w[-1]))\n",
        "  d = d.shuffle(1000)\n",
        "  d = d.batch(32).prefetch(1)\n",
        "  return d\n",
        "\n",
        "train_set = windowed_data(x_train)"
      ],
      "metadata": {
        "id": "pxzVisUmt55s"
      },
      "execution_count": 12,
      "outputs": []
    },
    {
      "cell_type": "code",
      "source": [
        "model = tf.keras.Sequential([\n",
        "    tf.keras.layers.Conv1D(filters=64, kernel_size=3, strides=1, padding=\"causal\", input_shape=[window_size, 1]),\n",
        "    tf.keras.layers.LSTM(32, return_sequences=True),\n",
        "    tf.keras.layers.LSTM(32),\n",
        "    tf.keras.layers.Dense(32),\n",
        "    tf.keras.layers.Dense(1),\n",
        "    tf.keras.layers.Lambda(lambda x: x*400),\n",
        "])"
      ],
      "metadata": {
        "id": "LdlnHGW3vm6x"
      },
      "execution_count": 14,
      "outputs": []
    },
    {
      "cell_type": "code",
      "source": [
        "lr_schedule = tf.keras.callbacks.LearningRateScheduler(lambda epoch: 1e-8*10**(epoch/20))"
      ],
      "metadata": {
        "id": "gEGlQWpJzhp5"
      },
      "execution_count": 15,
      "outputs": []
    },
    {
      "cell_type": "code",
      "source": [
        "model.compile(optimizer=\"sgd\", loss=tf.keras.losses.Huber(), metrics=[\"mae\"])\n",
        "hist = model.fit(train_set, epochs=100, callbacks=[lr_schedule])"
      ],
      "metadata": {
        "colab": {
          "base_uri": "https://localhost:8080/"
        },
        "id": "M8Gk7IeFzu10",
        "outputId": "f6e310af-1acb-404a-c560-0ac26746c122"
      },
      "execution_count": 17,
      "outputs": [
        {
          "output_type": "stream",
          "name": "stdout",
          "text": [
            "Epoch 1/100\n",
            "31/31 [==============================] - 7s 31ms/step - loss: 228.4064 - mae: 228.9063 - lr: 1.0000e-08\n",
            "Epoch 2/100\n",
            "31/31 [==============================] - 2s 39ms/step - loss: 219.8101 - mae: 220.3101 - lr: 1.1220e-08\n",
            "Epoch 3/100\n",
            "31/31 [==============================] - 1s 34ms/step - loss: 208.5874 - mae: 209.0871 - lr: 1.2589e-08\n",
            "Epoch 4/100\n",
            "31/31 [==============================] - 1s 20ms/step - loss: 158.9064 - mae: 159.4060 - lr: 1.4125e-08\n",
            "Epoch 5/100\n",
            "31/31 [==============================] - 1s 20ms/step - loss: 125.5327 - mae: 126.0323 - lr: 1.5849e-08\n",
            "Epoch 6/100\n",
            "31/31 [==============================] - 1s 32ms/step - loss: 119.9468 - mae: 120.4464 - lr: 1.7783e-08\n",
            "Epoch 7/100\n",
            "31/31 [==============================] - 1s 19ms/step - loss: 114.8819 - mae: 115.3816 - lr: 1.9953e-08\n",
            "Epoch 8/100\n",
            "31/31 [==============================] - 1s 22ms/step - loss: 109.6245 - mae: 110.1241 - lr: 2.2387e-08\n",
            "Epoch 9/100\n",
            "31/31 [==============================] - 1s 23ms/step - loss: 103.9821 - mae: 104.4819 - lr: 2.5119e-08\n",
            "Epoch 10/100\n",
            "31/31 [==============================] - 1s 20ms/step - loss: 97.8502 - mae: 98.3502 - lr: 2.8184e-08\n",
            "Epoch 11/100\n",
            "31/31 [==============================] - 1s 34ms/step - loss: 91.1573 - mae: 91.6573 - lr: 3.1623e-08\n",
            "Epoch 12/100\n",
            "31/31 [==============================] - 1s 23ms/step - loss: 83.8431 - mae: 84.3430 - lr: 3.5481e-08\n",
            "Epoch 13/100\n",
            "31/31 [==============================] - 1s 24ms/step - loss: 75.8338 - mae: 76.3335 - lr: 3.9811e-08\n",
            "Epoch 14/100\n",
            "31/31 [==============================] - 2s 37ms/step - loss: 67.0564 - mae: 67.5557 - lr: 4.4668e-08\n",
            "Epoch 15/100\n",
            "31/31 [==============================] - 2s 38ms/step - loss: 57.4523 - mae: 57.9519 - lr: 5.0119e-08\n",
            "Epoch 16/100\n",
            "31/31 [==============================] - 1s 35ms/step - loss: 46.8192 - mae: 47.3185 - lr: 5.6234e-08\n",
            "Epoch 17/100\n",
            "31/31 [==============================] - 1s 34ms/step - loss: 34.4068 - mae: 34.9060 - lr: 6.3096e-08\n",
            "Epoch 18/100\n",
            "31/31 [==============================] - 1s 22ms/step - loss: 20.3647 - mae: 20.8622 - lr: 7.0795e-08\n",
            "Epoch 19/100\n",
            "31/31 [==============================] - 1s 36ms/step - loss: 11.3703 - mae: 11.8592 - lr: 7.9433e-08\n",
            "Epoch 20/100\n",
            "31/31 [==============================] - 1s 20ms/step - loss: 9.5671 - mae: 10.0553 - lr: 8.9125e-08\n",
            "Epoch 21/100\n",
            "31/31 [==============================] - 1s 20ms/step - loss: 8.9154 - mae: 9.4020 - lr: 1.0000e-07\n",
            "Epoch 22/100\n",
            "31/31 [==============================] - 1s 19ms/step - loss: 8.3046 - mae: 8.7862 - lr: 1.1220e-07\n",
            "Epoch 23/100\n",
            "31/31 [==============================] - 1s 19ms/step - loss: 7.6829 - mae: 8.1634 - lr: 1.2589e-07\n",
            "Epoch 24/100\n",
            "31/31 [==============================] - 1s 19ms/step - loss: 7.0979 - mae: 7.5817 - lr: 1.4125e-07\n",
            "Epoch 25/100\n",
            "31/31 [==============================] - 1s 22ms/step - loss: 6.5657 - mae: 7.0471 - lr: 1.5849e-07\n",
            "Epoch 26/100\n",
            "31/31 [==============================] - 1s 19ms/step - loss: 6.0921 - mae: 6.5704 - lr: 1.7783e-07\n",
            "Epoch 27/100\n",
            "31/31 [==============================] - 1s 23ms/step - loss: 5.8042 - mae: 6.2821 - lr: 1.9953e-07\n",
            "Epoch 28/100\n",
            "31/31 [==============================] - 1s 22ms/step - loss: 5.6658 - mae: 6.1442 - lr: 2.2387e-07\n",
            "Epoch 29/100\n",
            "31/31 [==============================] - 1s 21ms/step - loss: 5.6042 - mae: 6.0837 - lr: 2.5119e-07\n",
            "Epoch 30/100\n",
            "31/31 [==============================] - 1s 21ms/step - loss: 5.5437 - mae: 6.0203 - lr: 2.8184e-07\n",
            "Epoch 31/100\n",
            "31/31 [==============================] - 1s 22ms/step - loss: 5.5108 - mae: 5.9872 - lr: 3.1623e-07\n",
            "Epoch 32/100\n",
            "31/31 [==============================] - 1s 22ms/step - loss: 5.4662 - mae: 5.9432 - lr: 3.5481e-07\n",
            "Epoch 33/100\n",
            "31/31 [==============================] - 1s 23ms/step - loss: 5.4223 - mae: 5.8987 - lr: 3.9811e-07\n",
            "Epoch 34/100\n",
            "31/31 [==============================] - 1s 26ms/step - loss: 5.3660 - mae: 5.8458 - lr: 4.4668e-07\n",
            "Epoch 35/100\n",
            "31/31 [==============================] - 1s 25ms/step - loss: 5.3385 - mae: 5.8164 - lr: 5.0119e-07\n",
            "Epoch 36/100\n",
            "31/31 [==============================] - 1s 33ms/step - loss: 5.2996 - mae: 5.7751 - lr: 5.6234e-07\n",
            "Epoch 37/100\n",
            "31/31 [==============================] - 1s 25ms/step - loss: 5.2357 - mae: 5.7112 - lr: 6.3096e-07\n",
            "Epoch 38/100\n",
            "31/31 [==============================] - 1s 35ms/step - loss: 5.2166 - mae: 5.6900 - lr: 7.0795e-07\n",
            "Epoch 39/100\n",
            "31/31 [==============================] - 2s 63ms/step - loss: 5.1630 - mae: 5.6376 - lr: 7.9433e-07\n",
            "Epoch 40/100\n",
            "31/31 [==============================] - 1s 36ms/step - loss: 5.0784 - mae: 5.5556 - lr: 8.9125e-07\n",
            "Epoch 41/100\n",
            "31/31 [==============================] - 1s 33ms/step - loss: 5.0423 - mae: 5.5176 - lr: 1.0000e-06\n",
            "Epoch 42/100\n",
            "31/31 [==============================] - 2s 40ms/step - loss: 5.0245 - mae: 5.4942 - lr: 1.1220e-06\n",
            "Epoch 43/100\n",
            "31/31 [==============================] - 1s 35ms/step - loss: 4.9465 - mae: 5.4192 - lr: 1.2589e-06\n",
            "Epoch 44/100\n",
            "31/31 [==============================] - 1s 41ms/step - loss: 4.9308 - mae: 5.4044 - lr: 1.4125e-06\n",
            "Epoch 45/100\n",
            "31/31 [==============================] - 2s 37ms/step - loss: 5.1831 - mae: 5.6633 - lr: 1.5849e-06\n",
            "Epoch 46/100\n",
            "31/31 [==============================] - 1s 21ms/step - loss: 4.9405 - mae: 5.4129 - lr: 1.7783e-06\n",
            "Epoch 47/100\n",
            "31/31 [==============================] - 1s 20ms/step - loss: 5.3216 - mae: 5.8013 - lr: 1.9953e-06\n",
            "Epoch 48/100\n",
            "31/31 [==============================] - 1s 23ms/step - loss: 5.4531 - mae: 5.9303 - lr: 2.2387e-06\n",
            "Epoch 49/100\n",
            "31/31 [==============================] - 1s 23ms/step - loss: 5.7748 - mae: 6.2578 - lr: 2.5119e-06\n",
            "Epoch 50/100\n",
            "31/31 [==============================] - 1s 24ms/step - loss: 6.5841 - mae: 7.0713 - lr: 2.8184e-06\n",
            "Epoch 51/100\n",
            "31/31 [==============================] - 2s 52ms/step - loss: 6.7944 - mae: 7.2818 - lr: 3.1623e-06\n",
            "Epoch 52/100\n",
            "31/31 [==============================] - 1s 31ms/step - loss: 7.5479 - mae: 8.0384 - lr: 3.5481e-06\n",
            "Epoch 53/100\n",
            "31/31 [==============================] - 2s 43ms/step - loss: 8.2261 - mae: 8.7209 - lr: 3.9811e-06\n",
            "Epoch 54/100\n",
            "31/31 [==============================] - 2s 43ms/step - loss: 8.1998 - mae: 8.6920 - lr: 4.4668e-06\n",
            "Epoch 55/100\n",
            "31/31 [==============================] - 2s 47ms/step - loss: 9.0148 - mae: 9.5056 - lr: 5.0119e-06\n",
            "Epoch 56/100\n",
            "31/31 [==============================] - 1s 30ms/step - loss: 9.9054 - mae: 10.3989 - lr: 5.6234e-06\n",
            "Epoch 57/100\n",
            "31/31 [==============================] - 2s 52ms/step - loss: 10.9960 - mae: 11.4905 - lr: 6.3096e-06\n",
            "Epoch 58/100\n",
            "31/31 [==============================] - 2s 57ms/step - loss: 10.8267 - mae: 11.3220 - lr: 7.0795e-06\n",
            "Epoch 59/100\n",
            "31/31 [==============================] - 2s 39ms/step - loss: 12.3526 - mae: 12.8476 - lr: 7.9433e-06\n",
            "Epoch 60/100\n",
            "31/31 [==============================] - 1s 19ms/step - loss: 12.3195 - mae: 12.8132 - lr: 8.9125e-06\n",
            "Epoch 61/100\n",
            "31/31 [==============================] - 1s 28ms/step - loss: 13.6449 - mae: 14.1404 - lr: 1.0000e-05\n",
            "Epoch 62/100\n",
            "31/31 [==============================] - 1s 24ms/step - loss: 15.5906 - mae: 16.0853 - lr: 1.1220e-05\n",
            "Epoch 63/100\n",
            "31/31 [==============================] - 2s 36ms/step - loss: 15.4682 - mae: 15.9646 - lr: 1.2589e-05\n",
            "Epoch 64/100\n",
            "31/31 [==============================] - 1s 20ms/step - loss: 18.4939 - mae: 18.9912 - lr: 1.4125e-05\n",
            "Epoch 65/100\n",
            "31/31 [==============================] - 1s 24ms/step - loss: 18.8128 - mae: 19.3099 - lr: 1.5849e-05\n",
            "Epoch 66/100\n",
            "31/31 [==============================] - 1s 23ms/step - loss: 20.3716 - mae: 20.8673 - lr: 1.7783e-05\n",
            "Epoch 67/100\n",
            "31/31 [==============================] - 1s 23ms/step - loss: 23.3581 - mae: 23.8562 - lr: 1.9953e-05\n",
            "Epoch 68/100\n",
            "31/31 [==============================] - 1s 19ms/step - loss: 25.1528 - mae: 25.6515 - lr: 2.2387e-05\n",
            "Epoch 69/100\n",
            "31/31 [==============================] - 1s 24ms/step - loss: 27.1349 - mae: 27.6345 - lr: 2.5119e-05\n",
            "Epoch 70/100\n",
            "31/31 [==============================] - 1s 23ms/step - loss: 26.1837 - mae: 26.6827 - lr: 2.8184e-05\n",
            "Epoch 71/100\n",
            "31/31 [==============================] - 1s 22ms/step - loss: 28.2488 - mae: 28.7463 - lr: 3.1623e-05\n",
            "Epoch 72/100\n",
            "31/31 [==============================] - 1s 19ms/step - loss: 31.0158 - mae: 31.5154 - lr: 3.5481e-05\n",
            "Epoch 73/100\n",
            "31/31 [==============================] - 1s 22ms/step - loss: 32.2344 - mae: 32.7342 - lr: 3.9811e-05\n",
            "Epoch 74/100\n",
            "31/31 [==============================] - 1s 23ms/step - loss: 31.9177 - mae: 32.4176 - lr: 4.4668e-05\n",
            "Epoch 75/100\n",
            "31/31 [==============================] - 1s 24ms/step - loss: 32.5096 - mae: 33.0088 - lr: 5.0119e-05\n",
            "Epoch 76/100\n",
            "31/31 [==============================] - 1s 22ms/step - loss: 31.9731 - mae: 32.4709 - lr: 5.6234e-05\n",
            "Epoch 77/100\n",
            "31/31 [==============================] - 1s 24ms/step - loss: 31.0907 - mae: 31.5894 - lr: 6.3096e-05\n",
            "Epoch 78/100\n",
            "31/31 [==============================] - 1s 23ms/step - loss: 30.6313 - mae: 31.1296 - lr: 7.0795e-05\n",
            "Epoch 79/100\n",
            "31/31 [==============================] - 1s 21ms/step - loss: 28.4886 - mae: 28.9876 - lr: 7.9433e-05\n",
            "Epoch 80/100\n",
            "31/31 [==============================] - 1s 23ms/step - loss: 27.1833 - mae: 27.6823 - lr: 8.9125e-05\n",
            "Epoch 81/100\n",
            "31/31 [==============================] - 1s 23ms/step - loss: 23.8308 - mae: 24.3272 - lr: 1.0000e-04\n",
            "Epoch 82/100\n",
            "31/31 [==============================] - 1s 20ms/step - loss: 23.2545 - mae: 23.7511 - lr: 1.1220e-04\n",
            "Epoch 83/100\n",
            "31/31 [==============================] - 1s 20ms/step - loss: 22.4351 - mae: 22.9305 - lr: 1.2589e-04\n",
            "Epoch 84/100\n",
            "31/31 [==============================] - 1s 20ms/step - loss: 20.6315 - mae: 21.1261 - lr: 1.4125e-04\n",
            "Epoch 85/100\n",
            "31/31 [==============================] - 1s 20ms/step - loss: 21.1214 - mae: 21.6163 - lr: 1.5849e-04\n",
            "Epoch 86/100\n",
            "31/31 [==============================] - 1s 23ms/step - loss: 22.0212 - mae: 22.5170 - lr: 1.7783e-04\n",
            "Epoch 87/100\n",
            "31/31 [==============================] - 1s 22ms/step - loss: 20.3360 - mae: 20.8310 - lr: 1.9953e-04\n",
            "Epoch 88/100\n",
            "31/31 [==============================] - 1s 20ms/step - loss: 21.8927 - mae: 22.3881 - lr: 2.2387e-04\n",
            "Epoch 89/100\n",
            "31/31 [==============================] - 1s 23ms/step - loss: 20.9280 - mae: 21.4197 - lr: 2.5119e-04\n",
            "Epoch 90/100\n",
            "31/31 [==============================] - 1s 23ms/step - loss: 24.7069 - mae: 25.2035 - lr: 2.8184e-04\n",
            "Epoch 91/100\n",
            "31/31 [==============================] - 1s 22ms/step - loss: 26.7474 - mae: 27.2449 - lr: 3.1623e-04\n",
            "Epoch 92/100\n",
            "31/31 [==============================] - 1s 23ms/step - loss: 28.0121 - mae: 28.5095 - lr: 3.5481e-04\n",
            "Epoch 93/100\n",
            "31/31 [==============================] - 1s 20ms/step - loss: 30.2918 - mae: 30.7894 - lr: 3.9811e-04\n",
            "Epoch 94/100\n",
            "31/31 [==============================] - 1s 19ms/step - loss: 34.9349 - mae: 35.4335 - lr: 4.4668e-04\n",
            "Epoch 95/100\n",
            "31/31 [==============================] - 1s 22ms/step - loss: 38.4548 - mae: 38.9539 - lr: 5.0119e-04\n",
            "Epoch 96/100\n",
            "31/31 [==============================] - 1s 23ms/step - loss: 44.1670 - mae: 44.6658 - lr: 5.6234e-04\n",
            "Epoch 97/100\n",
            "31/31 [==============================] - 1s 22ms/step - loss: 50.9443 - mae: 51.4437 - lr: 6.3096e-04\n",
            "Epoch 98/100\n",
            "31/31 [==============================] - 1s 20ms/step - loss: 57.2198 - mae: 57.7195 - lr: 7.0795e-04\n",
            "Epoch 99/100\n",
            "31/31 [==============================] - 1s 23ms/step - loss: 68.1208 - mae: 68.6208 - lr: 7.9433e-04\n",
            "Epoch 100/100\n",
            "31/31 [==============================] - 1s 19ms/step - loss: 74.8963 - mae: 75.3963 - lr: 8.9125e-04\n"
          ]
        }
      ]
    },
    {
      "cell_type": "code",
      "source": [
        "plt.plot(hist.history[\"loss\"])"
      ],
      "metadata": {
        "colab": {
          "base_uri": "https://localhost:8080/",
          "height": 282
        },
        "id": "IhyHupW10VZ3",
        "outputId": "381535b8-621b-4b91-c7f3-a8d107d268c2"
      },
      "execution_count": 19,
      "outputs": [
        {
          "output_type": "execute_result",
          "data": {
            "text/plain": [
              "[<matplotlib.lines.Line2D at 0x7fe2da8e6d50>]"
            ]
          },
          "metadata": {},
          "execution_count": 19
        },
        {
          "output_type": "display_data",
          "data": {
            "text/plain": [
              "<Figure size 432x288 with 1 Axes>"
            ],
            "image/png": "[encoded data removed]"
          },
          "metadata": {
            "needs_background": "light"
          }
        }
      ]
    },
    {
      "cell_type": "code",
      "source": [
        "plt.plot(hist.history[\"lr\"], hist.history[\"loss\"])"
      ],
      "metadata": {
        "colab": {
          "base_uri": "https://localhost:8080/",
          "height": 282
        },
        "id": "C-fRsoq00cCm",
        "outputId": "db730132-0c86-4e44-ce26-4f8b5aa99d1a"
      },
      "execution_count": 21,
      "outputs": [
        {
          "output_type": "execute_result",
          "data": {
            "text/plain": [
              "[<matplotlib.lines.Line2D at 0x7fe2d9f50b10>]"
            ]
          },
          "metadata": {},
          "execution_count": 21
        },
        {
          "output_type": "display_data",
          "data": {
            "text/plain": [
              "<Figure size 432x288 with 1 Axes>"
            ],
            "image/png": "[encoded data removed]"
          },
          "metadata": {
            "needs_background": "light"
          }
        }
      ]
    },
    {
      "cell_type": "code",
      "source": [
        "plt.semilogx(1e-8*10**(np.arange(100)/20), hist.history[\"loss\"])"
      ],
      "metadata": {
        "colab": {
          "base_uri": "https://localhost:8080/",
          "height": 286
        },
        "id": "gidj9WGG0l2J",
        "outputId": "224aadd5-3606-4a37-8858-da2fc96a0078"
      },
      "execution_count": 22,
      "outputs": [
        {
          "output_type": "execute_result",
          "data": {
            "text/plain": [
              "[<matplotlib.lines.Line2D at 0x7fe2d9f20ed0>]"
            ]
          },
          "metadata": {},
          "execution_count": 22
        },
        {
          "output_type": "display_data",
          "data": {
            "text/plain": [
              "<Figure size 432x288 with 1 Axes>"
            ],
            "image/png": "[encoded data removed]"
          },
          "metadata": {
            "needs_background": "light"
          }
        }
      ]
    },
    {
      "cell_type": "code",
      "source": [
        "model2 = tf.keras.Sequential([\n",
        "    tf.keras.layers.Conv1D(filters=64, kernel_size=3, strides=1, padding=\"causal\", input_shape=[window_size, 1]),\n",
        "    tf.keras.layers.LSTM(32, return_sequences=True),\n",
        "    tf.keras.layers.LSTM(32),\n",
        "    tf.keras.layers.Dense(32),\n",
        "    tf.keras.layers.Dense(1),\n",
        "    tf.keras.layers.Lambda(lambda x: x*400),\n",
        "])\n",
        "\n",
        "model2.compile(optimizer=tf.keras.optimizers.SGD(1e-6), loss=tf.keras.losses.Huber(), metrics=[\"mae\"])\n",
        "hist2 = model2.fit(train_set, epochs=100)"
      ],
      "metadata": {
        "colab": {
          "base_uri": "https://localhost:8080/"
        },
        "id": "q3fOHOdS0yiM",
        "outputId": "af4abb07-da91-40ce-cd72-54ab946f5b55"
      },
      "execution_count": 23,
      "outputs": [
        {
          "output_type": "stream",
          "name": "stdout",
          "text": [
            "Epoch 1/100\n",
            "31/31 [==============================] - 5s 30ms/step - loss: 24.0299 - mae: 24.5242\n",
            "Epoch 2/100\n",
            "31/31 [==============================] - 1s 36ms/step - loss: 13.2451 - mae: 13.7309\n",
            "Epoch 3/100\n",
            "31/31 [==============================] - 2s 41ms/step - loss: 10.5331 - mae: 11.0160\n",
            "Epoch 4/100\n",
            "31/31 [==============================] - 1s 37ms/step - loss: 9.8698 - mae: 10.3514\n",
            "Epoch 5/100\n",
            "31/31 [==============================] - 1s 21ms/step - loss: 9.4536 - mae: 9.9311\n",
            "Epoch 6/100\n",
            "31/31 [==============================] - 1s 20ms/step - loss: 9.1585 - mae: 9.6377\n",
            "Epoch 7/100\n",
            "31/31 [==============================] - 1s 20ms/step - loss: 8.8922 - mae: 9.3713\n",
            "Epoch 8/100\n",
            "31/31 [==============================] - 1s 20ms/step - loss: 8.6075 - mae: 9.0835\n",
            "Epoch 9/100\n",
            "31/31 [==============================] - 1s 24ms/step - loss: 8.3272 - mae: 8.8033\n",
            "Epoch 10/100\n",
            "31/31 [==============================] - 1s 21ms/step - loss: 8.0629 - mae: 8.5390\n",
            "Epoch 11/100\n",
            "31/31 [==============================] - 1s 20ms/step - loss: 7.8219 - mae: 8.2990\n",
            "Epoch 12/100\n",
            "31/31 [==============================] - 1s 20ms/step - loss: 7.5664 - mae: 8.0409\n",
            "Epoch 13/100\n",
            "31/31 [==============================] - 1s 20ms/step - loss: 7.3454 - mae: 7.8234\n",
            "Epoch 14/100\n",
            "31/31 [==============================] - 1s 20ms/step - loss: 7.1272 - mae: 7.6053\n",
            "Epoch 15/100\n",
            "31/31 [==============================] - 1s 22ms/step - loss: 6.9020 - mae: 7.3770\n",
            "Epoch 16/100\n",
            "31/31 [==============================] - 1s 19ms/step - loss: 6.7039 - mae: 7.1762\n",
            "Epoch 17/100\n",
            "31/31 [==============================] - 1s 21ms/step - loss: 6.5364 - mae: 7.0135\n",
            "Epoch 18/100\n",
            "31/31 [==============================] - 1s 22ms/step - loss: 6.2946 - mae: 6.7705\n",
            "Epoch 19/100\n",
            "31/31 [==============================] - 1s 22ms/step - loss: 6.1010 - mae: 6.5726\n",
            "Epoch 20/100\n",
            "31/31 [==============================] - 1s 20ms/step - loss: 5.9957 - mae: 6.4717\n",
            "Epoch 21/100\n",
            "31/31 [==============================] - 1s 30ms/step - loss: 5.7797 - mae: 6.2547\n",
            "Epoch 22/100\n",
            "31/31 [==============================] - 1s 33ms/step - loss: 5.6179 - mae: 6.0937\n",
            "Epoch 23/100\n",
            "31/31 [==============================] - 1s 34ms/step - loss: 5.5091 - mae: 5.9857\n",
            "Epoch 24/100\n",
            "31/31 [==============================] - 1s 23ms/step - loss: 5.2576 - mae: 5.7310\n",
            "Epoch 25/100\n",
            "31/31 [==============================] - 1s 21ms/step - loss: 5.1774 - mae: 5.6498\n",
            "Epoch 26/100\n",
            "31/31 [==============================] - 1s 22ms/step - loss: 5.1154 - mae: 5.5871\n",
            "Epoch 27/100\n",
            "31/31 [==============================] - 1s 22ms/step - loss: 4.9431 - mae: 5.4129\n",
            "Epoch 28/100\n",
            "31/31 [==============================] - 1s 21ms/step - loss: 4.8493 - mae: 5.3216\n",
            "Epoch 29/100\n",
            "31/31 [==============================] - 2s 61ms/step - loss: 4.9785 - mae: 5.4506\n",
            "Epoch 30/100\n",
            "31/31 [==============================] - 2s 37ms/step - loss: 4.9195 - mae: 5.3947\n",
            "Epoch 31/100\n",
            "31/31 [==============================] - 2s 40ms/step - loss: 4.8893 - mae: 5.3583\n",
            "Epoch 32/100\n",
            "31/31 [==============================] - 1s 33ms/step - loss: 4.7265 - mae: 5.1995\n",
            "Epoch 33/100\n",
            "31/31 [==============================] - 1s 22ms/step - loss: 4.5990 - mae: 5.0756\n",
            "Epoch 34/100\n",
            "31/31 [==============================] - 1s 20ms/step - loss: 4.6834 - mae: 5.1545\n",
            "Epoch 35/100\n",
            "31/31 [==============================] - 1s 23ms/step - loss: 4.6337 - mae: 5.1049\n",
            "Epoch 36/100\n",
            "31/31 [==============================] - 1s 20ms/step - loss: 4.4770 - mae: 4.9496\n",
            "Epoch 37/100\n",
            "31/31 [==============================] - 1s 21ms/step - loss: 4.5385 - mae: 5.0131\n",
            "Epoch 38/100\n",
            "31/31 [==============================] - 1s 23ms/step - loss: 4.2255 - mae: 4.6992\n",
            "Epoch 39/100\n",
            "31/31 [==============================] - 1s 21ms/step - loss: 4.3600 - mae: 4.8325\n",
            "Epoch 40/100\n",
            "31/31 [==============================] - 1s 20ms/step - loss: 4.4406 - mae: 4.9117\n",
            "Epoch 41/100\n",
            "31/31 [==============================] - 1s 22ms/step - loss: 4.3668 - mae: 4.8423\n",
            "Epoch 42/100\n",
            "31/31 [==============================] - 1s 23ms/step - loss: 4.3224 - mae: 4.7980\n",
            "Epoch 43/100\n",
            "31/31 [==============================] - 1s 21ms/step - loss: 4.1224 - mae: 4.5901\n",
            "Epoch 44/100\n",
            "31/31 [==============================] - 1s 21ms/step - loss: 4.2660 - mae: 4.7404\n",
            "Epoch 45/100\n",
            "31/31 [==============================] - 1s 23ms/step - loss: 4.3461 - mae: 4.8220\n",
            "Epoch 46/100\n",
            "31/31 [==============================] - 1s 23ms/step - loss: 4.1758 - mae: 4.6485\n",
            "Epoch 47/100\n",
            "31/31 [==============================] - 1s 20ms/step - loss: 4.1682 - mae: 4.6402\n",
            "Epoch 48/100\n",
            "31/31 [==============================] - 1s 20ms/step - loss: 4.0788 - mae: 4.5479\n",
            "Epoch 49/100\n",
            "31/31 [==============================] - 1s 20ms/step - loss: 4.1261 - mae: 4.5974\n",
            "Epoch 50/100\n",
            "31/31 [==============================] - 1s 20ms/step - loss: 4.1934 - mae: 4.6616\n",
            "Epoch 51/100\n",
            "31/31 [==============================] - 1s 22ms/step - loss: 4.2072 - mae: 4.6846\n",
            "Epoch 52/100\n",
            "31/31 [==============================] - 1s 24ms/step - loss: 3.9718 - mae: 4.4388\n",
            "Epoch 53/100\n",
            "31/31 [==============================] - 1s 22ms/step - loss: 4.1643 - mae: 4.6384\n",
            "Epoch 54/100\n",
            "31/31 [==============================] - 1s 22ms/step - loss: 4.1258 - mae: 4.6005\n",
            "Epoch 55/100\n",
            "31/31 [==============================] - 1s 21ms/step - loss: 4.0893 - mae: 4.5572\n",
            "Epoch 56/100\n",
            "31/31 [==============================] - 1s 20ms/step - loss: 4.0558 - mae: 4.5254\n",
            "Epoch 57/100\n",
            "31/31 [==============================] - 1s 21ms/step - loss: 3.9841 - mae: 4.4540\n",
            "Epoch 58/100\n",
            "31/31 [==============================] - 1s 21ms/step - loss: 3.9752 - mae: 4.4473\n",
            "Epoch 59/100\n",
            "31/31 [==============================] - 1s 22ms/step - loss: 3.9345 - mae: 4.4047\n",
            "Epoch 60/100\n",
            "31/31 [==============================] - 1s 24ms/step - loss: 4.0200 - mae: 4.4926\n",
            "Epoch 61/100\n",
            "31/31 [==============================] - 1s 24ms/step - loss: 3.9885 - mae: 4.4600\n",
            "Epoch 62/100\n",
            "31/31 [==============================] - 1s 36ms/step - loss: 4.1361 - mae: 4.6090\n",
            "Epoch 63/100\n",
            "31/31 [==============================] - 2s 43ms/step - loss: 4.0157 - mae: 4.4904\n",
            "Epoch 64/100\n",
            "31/31 [==============================] - 2s 46ms/step - loss: 3.9697 - mae: 4.4389\n",
            "Epoch 65/100\n",
            "31/31 [==============================] - 2s 34ms/step - loss: 4.0255 - mae: 4.4975\n",
            "Epoch 66/100\n",
            "31/31 [==============================] - 1s 42ms/step - loss: 3.9493 - mae: 4.4214\n",
            "Epoch 67/100\n",
            "31/31 [==============================] - 2s 45ms/step - loss: 3.9212 - mae: 4.3902\n",
            "Epoch 68/100\n",
            "31/31 [==============================] - 2s 39ms/step - loss: 3.8606 - mae: 4.3288\n",
            "Epoch 69/100\n",
            "31/31 [==============================] - 2s 41ms/step - loss: 3.8647 - mae: 4.3296\n",
            "Epoch 70/100\n",
            "31/31 [==============================] - 2s 39ms/step - loss: 3.7545 - mae: 4.2227\n",
            "Epoch 71/100\n",
            "31/31 [==============================] - 1s 34ms/step - loss: 3.9505 - mae: 4.4226\n",
            "Epoch 72/100\n",
            "31/31 [==============================] - 1s 40ms/step - loss: 3.9589 - mae: 4.4302\n",
            "Epoch 73/100\n",
            "31/31 [==============================] - 1s 34ms/step - loss: 3.8427 - mae: 4.3094\n",
            "Epoch 74/100\n",
            "31/31 [==============================] - 1s 20ms/step - loss: 3.9627 - mae: 4.4350\n",
            "Epoch 75/100\n",
            "31/31 [==============================] - 1s 24ms/step - loss: 3.8371 - mae: 4.3049\n",
            "Epoch 76/100\n",
            "31/31 [==============================] - 1s 22ms/step - loss: 3.9040 - mae: 4.3769\n",
            "Epoch 77/100\n",
            "31/31 [==============================] - 1s 24ms/step - loss: 3.8599 - mae: 4.3268\n",
            "Epoch 78/100\n",
            "31/31 [==============================] - 1s 24ms/step - loss: 3.9640 - mae: 4.4299\n",
            "Epoch 79/100\n",
            "31/31 [==============================] - 1s 20ms/step - loss: 3.8750 - mae: 4.3429\n",
            "Epoch 80/100\n",
            "31/31 [==============================] - 1s 20ms/step - loss: 3.9330 - mae: 4.4019\n",
            "Epoch 81/100\n",
            "31/31 [==============================] - 1s 20ms/step - loss: 3.7873 - mae: 4.2535\n",
            "Epoch 82/100\n",
            "31/31 [==============================] - 1s 20ms/step - loss: 3.9029 - mae: 4.3700\n",
            "Epoch 83/100\n",
            "31/31 [==============================] - 1s 20ms/step - loss: 3.9310 - mae: 4.3997\n",
            "Epoch 84/100\n",
            "31/31 [==============================] - 1s 20ms/step - loss: 3.7945 - mae: 4.2596\n",
            "Epoch 85/100\n",
            "31/31 [==============================] - 1s 20ms/step - loss: 3.7778 - mae: 4.2424\n",
            "Epoch 86/100\n",
            "31/31 [==============================] - 1s 22ms/step - loss: 3.7714 - mae: 4.2376\n",
            "Epoch 87/100\n",
            "31/31 [==============================] - 1s 21ms/step - loss: 3.8821 - mae: 4.3535\n",
            "Epoch 88/100\n",
            "31/31 [==============================] - 1s 24ms/step - loss: 3.7004 - mae: 4.1684\n",
            "Epoch 89/100\n",
            "31/31 [==============================] - 1s 20ms/step - loss: 3.8277 - mae: 4.2946\n",
            "Epoch 90/100\n",
            "31/31 [==============================] - 1s 20ms/step - loss: 3.8024 - mae: 4.2733\n",
            "Epoch 91/100\n",
            "31/31 [==============================] - 1s 21ms/step - loss: 3.7860 - mae: 4.2560\n",
            "Epoch 92/100\n",
            "31/31 [==============================] - 1s 20ms/step - loss: 3.6919 - mae: 4.1570\n",
            "Epoch 93/100\n",
            "31/31 [==============================] - 1s 20ms/step - loss: 3.7953 - mae: 4.2662\n",
            "Epoch 94/100\n",
            "31/31 [==============================] - 1s 20ms/step - loss: 3.7977 - mae: 4.2635\n",
            "Epoch 95/100\n",
            "31/31 [==============================] - 1s 20ms/step - loss: 3.7082 - mae: 4.1736\n",
            "Epoch 96/100\n",
            "31/31 [==============================] - 1s 22ms/step - loss: 3.7002 - mae: 4.1686\n",
            "Epoch 97/100\n",
            "31/31 [==============================] - 1s 35ms/step - loss: 3.6997 - mae: 4.1680\n",
            "Epoch 98/100\n",
            "31/31 [==============================] - 1s 32ms/step - loss: 3.7195 - mae: 4.1852\n",
            "Epoch 99/100\n",
            "31/31 [==============================] - 1s 24ms/step - loss: 3.5933 - mae: 4.0588\n",
            "Epoch 100/100\n",
            "31/31 [==============================] - 1s 24ms/step - loss: 3.6953 - mae: 4.1600\n"
          ]
        }
      ]
    },
    {
      "cell_type": "code",
      "source": [
        "plt.plot(hist2.history[\"loss\"])"
      ],
      "metadata": {
        "colab": {
          "base_uri": "https://localhost:8080/",
          "height": 286
        },
        "id": "NNZfU-j_1WjK",
        "outputId": "bdb3f095-81c8-45ee-e473-775167ac42db"
      },
      "execution_count": 24,
      "outputs": [
        {
          "output_type": "execute_result",
          "data": {
            "text/plain": [
              "[<matplotlib.lines.Line2D at 0x7fe2d807e510>]"
            ]
          },
          "metadata": {},
          "execution_count": 24
        },
        {
          "output_type": "display_data",
          "data": {
            "text/plain": [
              "<Figure size 432x288 with 1 Axes>"
            ],
            "image/png": "[encoded data removed]"
          },
          "metadata": {
            "needs_background": "light"
          }
        }
      ]
    },
    {
      "cell_type": "code",
      "source": [
        "plot_series(np.arange(100), (hist2.history[\"loss\"], hist2.history[\"mae\"]))"
      ],
      "metadata": {
        "colab": {
          "base_uri": "https://localhost:8080/",
          "height": 279
        },
        "id": "1uf7di681Zt_",
        "outputId": "b753bb80-6a87-4eb5-d9fc-82f284ff0900"
      },
      "execution_count": 25,
      "outputs": [
        {
          "output_type": "display_data",
          "data": {
            "text/plain": [
              "<Figure size 432x288 with 1 Axes>"
            ],
            "image/png": "[encoded data removed]"
          },
          "metadata": {
            "needs_background": "light"
          }
        }
      ]
    },
    {
      "cell_type": "code",
      "source": [
        "def model_forecast(model, series, window_size, batch_size):\n",
        "  ds = tf.data.Dataset.from_tensor_slices(series)\n",
        "  ds = ds.window(window_size, shift=1, drop_remainder=True)\n",
        "  ds = ds.flat_map(lambda w: w.batch(window_size))\n",
        "  ds = ds.map(lambda w: (w[:-1], w[-1]))\n",
        "  ds = ds.batch(batch_size).prefetch(1)\n",
        "  f = model.predict(ds)\n",
        "  return f"
      ],
      "metadata": {
        "id": "rArjNQOu376c"
      },
      "execution_count": 27,
      "outputs": []
    },
    {
      "cell_type": "code",
      "source": [
        "forecast_series = series[1000 - window_size: -1]\n",
        "forecast = model_forecast(model2, forecast_series, 20, 32)\n",
        "res = forecast.squeeze()\n",
        "\n",
        "plot_series(test_time, (x_test, res))"
      ],
      "metadata": {
        "colab": {
          "base_uri": "https://localhost:8080/",
          "height": 296
        },
        "id": "_FZ_4rzf47nn",
        "outputId": "f384add9-4947-4636-b990-67ca33eabc1e"
      },
      "execution_count": 28,
      "outputs": [
        {
          "output_type": "stream",
          "name": "stdout",
          "text": [
            "15/15 [==============================] - 2s 10ms/step\n"
          ]
        },
        {
          "output_type": "display_data",
          "data": {
            "text/plain": [
              "<Figure size 432x288 with 1 Axes>"
            ],
            "image/png": "[encoded data removed]"
          },
          "metadata": {
            "needs_background": "light"
          }
        }
      ]
    },
    {
      "cell_type": "code",
      "source": [
        "## Compute the MAE and MSE\n",
        "print(tf.keras.metrics.mean_squared_error(x_test, res).numpy())\n",
        "print(tf.keras.metrics.mean_absolute_error(x_test, res).numpy())"
      ],
      "metadata": {
        "colab": {
          "base_uri": "https://localhost:8080/"
        },
        "id": "ZtItbEJm5jPs",
        "outputId": "6ea7799d-6ce3-490b-8ac9-02c590d151b9"
      },
      "execution_count": 30,
      "outputs": [
        {
          "output_type": "stream",
          "name": "stdout",
          "text": [
            "106.63786\n",
            "6.802815\n"
          ]
        }
      ]
    },
    {
      "cell_type": "code",
      "source": [
        "class myCallback(tf.keras.callbacks.Callback):\n",
        "  def on_epoch_end(self, model, logs={}):\n",
        "    if logs.get(\"val_mae\") < 5.0:\n",
        "      print(\"\\nMae val is less than 5.0, so stopping training!\")\n",
        "      self.model.stop_training = True\n",
        "\n",
        "callback = myCallback()"
      ],
      "metadata": {
        "id": "qGCr3YaF5lf8"
      },
      "execution_count": 41,
      "outputs": []
    },
    {
      "cell_type": "code",
      "source": [
        "val_set = windowed_data(x_test)"
      ],
      "metadata": {
        "id": "afCH0S3B6gaS"
      },
      "execution_count": 32,
      "outputs": []
    },
    {
      "cell_type": "code",
      "source": [
        "model2.compile(optimizer=tf.keras.optimizers.SGD(1e-6), loss=tf.keras.losses.Huber(), metrics=[\"mae\"])\n",
        "hist3 = model2.fit(train_set, epochs=500, callbacks=[callback], validation_data=val_set)"
      ],
      "metadata": {
        "colab": {
          "base_uri": "https://localhost:8080/"
        },
        "id": "uBL4-aFH6Wkb",
        "outputId": "ae13a984-2875-42cd-cf3d-d998aa895352"
      },
      "execution_count": 42,
      "outputs": [
        {
          "output_type": "stream",
          "name": "stdout",
          "text": [
            "Epoch 1/500\n",
            "31/31 [==============================] - 6s 71ms/step - loss: 3.6974 - mae: 4.1669 - val_loss: 6.8649 - val_mae: 7.3493\n",
            "Epoch 2/500\n",
            "31/31 [==============================] - 1s 33ms/step - loss: 3.7050 - mae: 4.1708 - val_loss: 6.1942 - val_mae: 6.6749\n",
            "Epoch 3/500\n",
            "31/31 [==============================] - 1s 28ms/step - loss: 3.7162 - mae: 4.1847 - val_loss: 6.1503 - val_mae: 6.6291\n",
            "Epoch 4/500\n",
            "31/31 [==============================] - 1s 28ms/step - loss: 3.7348 - mae: 4.2037 - val_loss: 5.6501 - val_mae: 6.1327\n",
            "Epoch 5/500\n",
            "31/31 [==============================] - 1s 25ms/step - loss: 3.6580 - mae: 4.1263 - val_loss: 5.4029 - val_mae: 5.8796\n",
            "Epoch 6/500\n",
            "31/31 [==============================] - 1s 25ms/step - loss: 3.6644 - mae: 4.1322 - val_loss: 5.6547 - val_mae: 6.1371\n",
            "Epoch 7/500\n",
            "31/31 [==============================] - 1s 29ms/step - loss: 3.7361 - mae: 4.2027 - val_loss: 5.7354 - val_mae: 6.2153\n",
            "Epoch 8/500\n",
            "31/31 [==============================] - 1s 25ms/step - loss: 3.6639 - mae: 4.1320 - val_loss: 5.9342 - val_mae: 6.4125\n",
            "Epoch 9/500\n",
            "31/31 [==============================] - 1s 26ms/step - loss: 3.5873 - mae: 4.0498 - val_loss: 5.6897 - val_mae: 6.1697\n",
            "Epoch 10/500\n",
            "31/31 [==============================] - 1s 28ms/step - loss: 3.6253 - mae: 4.0930 - val_loss: 5.4767 - val_mae: 5.9567\n",
            "Epoch 11/500\n",
            "31/31 [==============================] - 1s 29ms/step - loss: 3.6417 - mae: 4.1090 - val_loss: 5.7873 - val_mae: 6.2674\n",
            "Epoch 12/500\n",
            "31/31 [==============================] - 1s 24ms/step - loss: 3.6603 - mae: 4.1315 - val_loss: 5.8297 - val_mae: 6.3099\n",
            "Epoch 13/500\n",
            "31/31 [==============================] - 1s 28ms/step - loss: 3.6561 - mae: 4.1223 - val_loss: 7.3959 - val_mae: 7.8798\n",
            "Epoch 14/500\n",
            "31/31 [==============================] - 1s 28ms/step - loss: 3.7205 - mae: 4.1856 - val_loss: 6.7045 - val_mae: 7.1890\n",
            "Epoch 15/500\n",
            "31/31 [==============================] - 1s 28ms/step - loss: 3.6672 - mae: 4.1357 - val_loss: 7.2695 - val_mae: 7.7543\n",
            "Epoch 16/500\n",
            "31/31 [==============================] - 1s 27ms/step - loss: 3.6139 - mae: 4.0765 - val_loss: 6.9632 - val_mae: 7.4482\n",
            "Epoch 17/500\n",
            "31/31 [==============================] - 1s 26ms/step - loss: 3.7927 - mae: 4.2636 - val_loss: 6.3299 - val_mae: 6.8116\n",
            "Epoch 18/500\n",
            "31/31 [==============================] - 1s 28ms/step - loss: 3.5998 - mae: 4.0689 - val_loss: 5.8468 - val_mae: 6.3251\n",
            "Epoch 19/500\n",
            "31/31 [==============================] - 1s 29ms/step - loss: 3.6846 - mae: 4.1505 - val_loss: 7.5143 - val_mae: 7.9977\n",
            "Epoch 20/500\n",
            "31/31 [==============================] - 1s 29ms/step - loss: 3.6050 - mae: 4.0724 - val_loss: 5.8281 - val_mae: 6.3069\n",
            "Epoch 21/500\n",
            "31/31 [==============================] - 1s 29ms/step - loss: 3.5434 - mae: 4.0103 - val_loss: 5.7619 - val_mae: 6.2413\n",
            "Epoch 22/500\n",
            "31/31 [==============================] - 1s 27ms/step - loss: 3.5880 - mae: 4.0613 - val_loss: 5.7842 - val_mae: 6.2645\n",
            "Epoch 23/500\n",
            "31/31 [==============================] - 1s 25ms/step - loss: 3.6102 - mae: 4.0785 - val_loss: 5.8399 - val_mae: 6.3187\n",
            "Epoch 24/500\n",
            "31/31 [==============================] - 1s 28ms/step - loss: 3.5733 - mae: 4.0409 - val_loss: 5.4813 - val_mae: 5.9629\n",
            "Epoch 25/500\n",
            "31/31 [==============================] - 1s 25ms/step - loss: 3.6128 - mae: 4.0810 - val_loss: 8.2111 - val_mae: 8.7052\n",
            "Epoch 26/500\n",
            "31/31 [==============================] - 1s 26ms/step - loss: 3.7428 - mae: 4.2133 - val_loss: 6.4553 - val_mae: 6.9378\n",
            "Epoch 27/500\n",
            "31/31 [==============================] - 1s 25ms/step - loss: 3.4885 - mae: 3.9540 - val_loss: 5.9220 - val_mae: 6.4024\n",
            "Epoch 28/500\n",
            "31/31 [==============================] - 1s 25ms/step - loss: 3.6800 - mae: 4.1491 - val_loss: 5.4937 - val_mae: 5.9758\n",
            "Epoch 29/500\n",
            "31/31 [==============================] - 1s 25ms/step - loss: 3.6903 - mae: 4.1573 - val_loss: 5.5376 - val_mae: 6.0193\n",
            "Epoch 30/500\n",
            "31/31 [==============================] - 1s 27ms/step - loss: 3.5288 - mae: 3.9955 - val_loss: 6.2325 - val_mae: 6.7131\n",
            "Epoch 31/500\n",
            "31/31 [==============================] - 1s 25ms/step - loss: 3.5577 - mae: 4.0226 - val_loss: 5.5677 - val_mae: 6.0491\n",
            "Epoch 32/500\n",
            "31/31 [==============================] - 1s 27ms/step - loss: 3.6142 - mae: 4.0842 - val_loss: 6.0816 - val_mae: 6.5613\n",
            "Epoch 33/500\n",
            "31/31 [==============================] - 1s 30ms/step - loss: 3.6466 - mae: 4.1119 - val_loss: 6.0672 - val_mae: 6.5469\n",
            "Epoch 34/500\n",
            "31/31 [==============================] - 1s 30ms/step - loss: 3.6164 - mae: 4.0802 - val_loss: 6.0954 - val_mae: 6.5760\n",
            "Epoch 35/500\n",
            "31/31 [==============================] - 1s 26ms/step - loss: 3.5780 - mae: 4.0425 - val_loss: 6.4302 - val_mae: 6.9137\n",
            "Epoch 36/500\n",
            "31/31 [==============================] - 1s 39ms/step - loss: 3.5702 - mae: 4.0379 - val_loss: 5.7608 - val_mae: 6.2399\n",
            "Epoch 37/500\n",
            "31/31 [==============================] - 2s 57ms/step - loss: 3.5478 - mae: 4.0131 - val_loss: 5.8171 - val_mae: 6.2974\n",
            "Epoch 38/500\n",
            "31/31 [==============================] - 2s 41ms/step - loss: 3.5075 - mae: 3.9731 - val_loss: 6.2777 - val_mae: 6.7610\n",
            "Epoch 39/500\n",
            "31/31 [==============================] - 2s 64ms/step - loss: 3.6216 - mae: 4.0902 - val_loss: 6.0922 - val_mae: 6.5725\n",
            "Epoch 40/500\n",
            "31/31 [==============================] - 1s 27ms/step - loss: 3.5353 - mae: 3.9997 - val_loss: 6.7479 - val_mae: 7.2334\n",
            "Epoch 41/500\n",
            "31/31 [==============================] - 1s 26ms/step - loss: 3.4604 - mae: 3.9256 - val_loss: 5.9216 - val_mae: 6.4011\n",
            "Epoch 42/500\n",
            "31/31 [==============================] - 2s 45ms/step - loss: 3.7841 - mae: 4.2568 - val_loss: 5.8451 - val_mae: 6.3240\n",
            "Epoch 43/500\n",
            "31/31 [==============================] - 2s 54ms/step - loss: 3.5071 - mae: 3.9760 - val_loss: 6.1586 - val_mae: 6.6407\n",
            "Epoch 44/500\n",
            "31/31 [==============================] - 2s 55ms/step - loss: 3.5760 - mae: 4.0408 - val_loss: 5.5614 - val_mae: 6.0418\n",
            "Epoch 45/500\n",
            "31/31 [==============================] - 2s 51ms/step - loss: 3.6119 - mae: 4.0791 - val_loss: 6.4769 - val_mae: 6.9617\n",
            "Epoch 46/500\n",
            "31/31 [==============================] - 2s 45ms/step - loss: 3.4717 - mae: 3.9392 - val_loss: 5.6311 - val_mae: 6.1106\n",
            "Epoch 47/500\n",
            "31/31 [==============================] - 2s 56ms/step - loss: 3.5309 - mae: 3.9976 - val_loss: 6.2219 - val_mae: 6.7027\n",
            "Epoch 48/500\n",
            "31/31 [==============================] - 1s 28ms/step - loss: 3.5870 - mae: 4.0567 - val_loss: 5.4228 - val_mae: 5.9048\n",
            "Epoch 49/500\n",
            "31/31 [==============================] - 1s 29ms/step - loss: 3.5230 - mae: 3.9927 - val_loss: 6.3176 - val_mae: 6.8017\n",
            "Epoch 50/500\n",
            "31/31 [==============================] - 1s 24ms/step - loss: 3.5190 - mae: 3.9916 - val_loss: 5.8083 - val_mae: 6.2888\n",
            "Epoch 51/500\n",
            "31/31 [==============================] - 1s 28ms/step - loss: 3.4651 - mae: 3.9326 - val_loss: 5.6911 - val_mae: 6.1703\n",
            "Epoch 52/500\n",
            "31/31 [==============================] - 1s 27ms/step - loss: 3.4861 - mae: 3.9561 - val_loss: 5.4512 - val_mae: 5.9318\n",
            "Epoch 53/500\n",
            "31/31 [==============================] - 1s 28ms/step - loss: 3.4607 - mae: 3.9270 - val_loss: 5.4509 - val_mae: 5.9313\n",
            "Epoch 54/500\n",
            "31/31 [==============================] - 1s 26ms/step - loss: 3.5362 - mae: 4.0058 - val_loss: 5.3900 - val_mae: 5.8710\n",
            "Epoch 55/500\n",
            "31/31 [==============================] - 1s 28ms/step - loss: 3.4940 - mae: 3.9602 - val_loss: 5.7322 - val_mae: 6.2130\n",
            "Epoch 56/500\n",
            "31/31 [==============================] - 1s 25ms/step - loss: 3.5188 - mae: 3.9843 - val_loss: 5.6412 - val_mae: 6.1216\n",
            "Epoch 57/500\n",
            "31/31 [==============================] - 1s 28ms/step - loss: 3.4688 - mae: 3.9406 - val_loss: 5.2229 - val_mae: 5.6998\n",
            "Epoch 58/500\n",
            "31/31 [==============================] - 1s 28ms/step - loss: 3.4933 - mae: 3.9554 - val_loss: 6.4482 - val_mae: 6.9327\n",
            "Epoch 59/500\n",
            "31/31 [==============================] - 1s 29ms/step - loss: 3.4128 - mae: 3.8771 - val_loss: 6.4994 - val_mae: 6.9839\n",
            "Epoch 60/500\n",
            "31/31 [==============================] - 1s 29ms/step - loss: 3.5736 - mae: 4.0421 - val_loss: 5.1300 - val_mae: 5.6073\n",
            "Epoch 61/500\n",
            "31/31 [==============================] - 1s 28ms/step - loss: 3.6756 - mae: 4.1466 - val_loss: 5.8926 - val_mae: 6.3729\n",
            "Epoch 62/500\n",
            "31/31 [==============================] - 1s 28ms/step - loss: 3.4369 - mae: 3.9015 - val_loss: 6.8038 - val_mae: 7.2890\n",
            "Epoch 63/500\n",
            "31/31 [==============================] - 1s 26ms/step - loss: 3.4811 - mae: 3.9434 - val_loss: 5.5238 - val_mae: 6.0038\n",
            "Epoch 64/500\n",
            "31/31 [==============================] - 1s 25ms/step - loss: 3.4063 - mae: 3.8711 - val_loss: 6.1206 - val_mae: 6.6016\n",
            "Epoch 65/500\n",
            "31/31 [==============================] - 1s 28ms/step - loss: 3.4508 - mae: 3.9153 - val_loss: 6.6816 - val_mae: 7.1676\n",
            "Epoch 66/500\n",
            "31/31 [==============================] - 1s 26ms/step - loss: 3.4925 - mae: 3.9602 - val_loss: 5.6317 - val_mae: 6.1117\n",
            "Epoch 67/500\n",
            "31/31 [==============================] - 1s 25ms/step - loss: 3.4882 - mae: 3.9554 - val_loss: 6.6267 - val_mae: 7.1116\n",
            "Epoch 68/500\n",
            "31/31 [==============================] - 1s 26ms/step - loss: 3.3991 - mae: 3.8662 - val_loss: 5.3876 - val_mae: 5.8688\n",
            "Epoch 69/500\n",
            "31/31 [==============================] - 1s 26ms/step - loss: 3.4378 - mae: 3.9067 - val_loss: 8.0747 - val_mae: 8.5670\n",
            "Epoch 70/500\n",
            "31/31 [==============================] - 1s 28ms/step - loss: 3.3726 - mae: 3.8388 - val_loss: 5.2415 - val_mae: 5.7209\n",
            "Epoch 71/500\n",
            "31/31 [==============================] - 1s 25ms/step - loss: 3.4410 - mae: 3.9086 - val_loss: 6.0332 - val_mae: 6.5160\n",
            "Epoch 72/500\n",
            "31/31 [==============================] - 1s 25ms/step - loss: 3.4633 - mae: 3.9332 - val_loss: 5.6930 - val_mae: 6.1734\n",
            "Epoch 73/500\n",
            "31/31 [==============================] - 1s 26ms/step - loss: 3.5329 - mae: 4.0013 - val_loss: 6.7014 - val_mae: 7.1867\n",
            "Epoch 74/500\n",
            "31/31 [==============================] - 1s 30ms/step - loss: 3.4311 - mae: 3.8993 - val_loss: 6.1521 - val_mae: 6.6356\n",
            "Epoch 75/500\n",
            "31/31 [==============================] - 1s 26ms/step - loss: 3.4294 - mae: 3.8929 - val_loss: 6.2980 - val_mae: 6.7823\n",
            "Epoch 76/500\n",
            "31/31 [==============================] - 1s 29ms/step - loss: 3.3528 - mae: 3.8210 - val_loss: 5.7264 - val_mae: 6.2066\n",
            "Epoch 77/500\n",
            "31/31 [==============================] - 1s 27ms/step - loss: 3.3255 - mae: 3.7926 - val_loss: 5.2067 - val_mae: 5.6850\n",
            "Epoch 78/500\n",
            "31/31 [==============================] - 1s 26ms/step - loss: 3.4742 - mae: 3.9416 - val_loss: 6.0572 - val_mae: 6.5403\n",
            "Epoch 79/500\n",
            "31/31 [==============================] - 1s 28ms/step - loss: 3.4673 - mae: 3.9353 - val_loss: 6.2073 - val_mae: 6.6910\n",
            "Epoch 80/500\n",
            "31/31 [==============================] - 1s 27ms/step - loss: 3.3986 - mae: 3.8662 - val_loss: 6.8637 - val_mae: 7.3480\n",
            "Epoch 81/500\n",
            "31/31 [==============================] - 1s 29ms/step - loss: 3.4669 - mae: 3.9368 - val_loss: 6.1356 - val_mae: 6.6187\n",
            "Epoch 82/500\n",
            "31/31 [==============================] - 1s 27ms/step - loss: 3.4142 - mae: 3.8828 - val_loss: 6.1753 - val_mae: 6.6594\n",
            "Epoch 83/500\n",
            "31/31 [==============================] - 1s 24ms/step - loss: 3.4011 - mae: 3.8664 - val_loss: 7.0581 - val_mae: 7.5409\n",
            "Epoch 84/500\n",
            "31/31 [==============================] - 1s 28ms/step - loss: 3.4402 - mae: 3.9082 - val_loss: 6.1770 - val_mae: 6.6611\n",
            "Epoch 85/500\n",
            "31/31 [==============================] - 1s 28ms/step - loss: 3.3610 - mae: 3.8280 - val_loss: 5.2708 - val_mae: 5.7516\n",
            "Epoch 86/500\n",
            "31/31 [==============================] - 1s 28ms/step - loss: 3.4105 - mae: 3.8769 - val_loss: 5.1262 - val_mae: 5.6022\n",
            "Epoch 87/500\n",
            "31/31 [==============================] - 1s 25ms/step - loss: 3.4554 - mae: 3.9273 - val_loss: 5.6492 - val_mae: 6.1302\n",
            "Epoch 88/500\n",
            "31/31 [==============================] - 1s 25ms/step - loss: 3.3963 - mae: 3.8591 - val_loss: 7.1165 - val_mae: 7.5993\n",
            "Epoch 89/500\n",
            "31/31 [==============================] - 1s 27ms/step - loss: 3.4484 - mae: 3.9155 - val_loss: 6.7143 - val_mae: 7.1996\n",
            "Epoch 90/500\n",
            "31/31 [==============================] - 1s 27ms/step - loss: 3.3981 - mae: 3.8642 - val_loss: 5.7039 - val_mae: 6.1858\n",
            "Epoch 91/500\n",
            "31/31 [==============================] - 1s 29ms/step - loss: 3.4997 - mae: 3.9699 - val_loss: 6.7263 - val_mae: 7.2118\n",
            "Epoch 92/500\n",
            "31/31 [==============================] - 1s 29ms/step - loss: 3.3274 - mae: 3.7967 - val_loss: 5.4326 - val_mae: 5.9116\n",
            "Epoch 93/500\n",
            "31/31 [==============================] - 1s 30ms/step - loss: 3.3379 - mae: 3.8036 - val_loss: 5.1686 - val_mae: 5.6452\n",
            "Epoch 94/500\n",
            "31/31 [==============================] - 1s 25ms/step - loss: 3.4138 - mae: 3.8827 - val_loss: 5.6002 - val_mae: 6.0817\n",
            "Epoch 95/500\n",
            "31/31 [==============================] - 1s 25ms/step - loss: 3.4683 - mae: 3.9358 - val_loss: 6.1979 - val_mae: 6.6825\n",
            "Epoch 96/500\n",
            "31/31 [==============================] - 1s 27ms/step - loss: 3.2489 - mae: 3.7109 - val_loss: 5.9282 - val_mae: 6.4094\n",
            "Epoch 97/500\n",
            "31/31 [==============================] - 1s 31ms/step - loss: 3.3362 - mae: 3.8042 - val_loss: 5.6069 - val_mae: 6.0890\n",
            "Epoch 98/500\n",
            "31/31 [==============================] - 1s 29ms/step - loss: 3.4245 - mae: 3.8908 - val_loss: 5.9974 - val_mae: 6.4803\n",
            "Epoch 99/500\n",
            "31/31 [==============================] - 1s 30ms/step - loss: 3.3019 - mae: 3.7657 - val_loss: 6.6486 - val_mae: 7.1338\n",
            "Epoch 100/500\n",
            "31/31 [==============================] - 1s 29ms/step - loss: 3.3692 - mae: 3.8380 - val_loss: 6.7211 - val_mae: 7.2055\n",
            "Epoch 101/500\n",
            "31/31 [==============================] - 1s 29ms/step - loss: 3.3504 - mae: 3.8216 - val_loss: 5.5424 - val_mae: 6.0230\n",
            "Epoch 102/500\n",
            "31/31 [==============================] - 1s 25ms/step - loss: 3.3247 - mae: 3.7879 - val_loss: 6.6257 - val_mae: 7.1105\n",
            "Epoch 103/500\n",
            "31/31 [==============================] - 1s 31ms/step - loss: 3.2668 - mae: 3.7346 - val_loss: 6.5419 - val_mae: 7.0280\n",
            "Epoch 104/500\n",
            "31/31 [==============================] - 1s 29ms/step - loss: 3.3267 - mae: 3.7967 - val_loss: 5.4347 - val_mae: 5.9146\n",
            "Epoch 105/500\n",
            "31/31 [==============================] - 1s 30ms/step - loss: 3.3418 - mae: 3.8113 - val_loss: 5.2534 - val_mae: 5.7339\n",
            "Epoch 106/500\n",
            "31/31 [==============================] - 1s 29ms/step - loss: 3.3192 - mae: 3.7852 - val_loss: 5.1869 - val_mae: 5.6666\n",
            "Epoch 107/500\n",
            "31/31 [==============================] - 1s 28ms/step - loss: 3.3005 - mae: 3.7639 - val_loss: 5.8840 - val_mae: 6.3670\n",
            "Epoch 108/500\n",
            "31/31 [==============================] - 1s 28ms/step - loss: 3.4119 - mae: 3.8768 - val_loss: 5.8457 - val_mae: 6.3261\n",
            "Epoch 109/500\n",
            "31/31 [==============================] - 1s 27ms/step - loss: 3.3752 - mae: 3.8442 - val_loss: 6.6167 - val_mae: 7.1023\n",
            "Epoch 110/500\n",
            "31/31 [==============================] - 1s 25ms/step - loss: 3.3076 - mae: 3.7745 - val_loss: 5.0851 - val_mae: 5.5609\n",
            "Epoch 111/500\n",
            "31/31 [==============================] - 1s 28ms/step - loss: 3.4902 - mae: 3.9552 - val_loss: 4.9800 - val_mae: 5.4569\n",
            "Epoch 112/500\n",
            "31/31 [==============================] - 1s 25ms/step - loss: 3.3364 - mae: 3.8026 - val_loss: 5.0758 - val_mae: 5.5504\n",
            "Epoch 113/500\n",
            "31/31 [==============================] - 1s 25ms/step - loss: 3.2554 - mae: 3.7211 - val_loss: 5.1897 - val_mae: 5.6693\n",
            "Epoch 114/500\n",
            "31/31 [==============================] - 1s 24ms/step - loss: 3.3106 - mae: 3.7727 - val_loss: 5.4044 - val_mae: 5.8849\n",
            "Epoch 115/500\n",
            "31/31 [==============================] - 1s 24ms/step - loss: 3.2744 - mae: 3.7400 - val_loss: 5.1902 - val_mae: 5.6698\n",
            "Epoch 116/500\n",
            "31/31 [==============================] - 1s 25ms/step - loss: 3.2975 - mae: 3.7650 - val_loss: 5.4714 - val_mae: 5.9540\n",
            "Epoch 117/500\n",
            "31/31 [==============================] - 1s 29ms/step - loss: 3.2970 - mae: 3.7614 - val_loss: 6.3317 - val_mae: 6.8145\n",
            "Epoch 118/500\n",
            "31/31 [==============================] - 1s 28ms/step - loss: 3.3757 - mae: 3.8434 - val_loss: 5.6127 - val_mae: 6.0922\n",
            "Epoch 119/500\n",
            "31/31 [==============================] - 1s 30ms/step - loss: 3.2821 - mae: 3.7469 - val_loss: 7.0201 - val_mae: 7.5028\n",
            "Epoch 120/500\n",
            "31/31 [==============================] - 1s 30ms/step - loss: 3.2947 - mae: 3.7617 - val_loss: 5.5595 - val_mae: 6.0388\n",
            "Epoch 121/500\n",
            "31/31 [==============================] - 2s 45ms/step - loss: 3.4194 - mae: 3.8920 - val_loss: 4.9820 - val_mae: 5.4545\n",
            "Epoch 122/500\n",
            "31/31 [==============================] - 1s 28ms/step - loss: 3.2924 - mae: 3.7614 - val_loss: 5.7072 - val_mae: 6.1884\n",
            "Epoch 123/500\n",
            "31/31 [==============================] - 1s 30ms/step - loss: 3.3311 - mae: 3.8020 - val_loss: 5.4560 - val_mae: 5.9387\n",
            "Epoch 124/500\n",
            "31/31 [==============================] - 1s 25ms/step - loss: 3.2966 - mae: 3.7659 - val_loss: 6.7282 - val_mae: 7.2113\n",
            "Epoch 125/500\n",
            "31/31 [==============================] - 1s 29ms/step - loss: 3.2710 - mae: 3.7374 - val_loss: 5.2219 - val_mae: 5.6994\n",
            "Epoch 126/500\n",
            "31/31 [==============================] - 1s 29ms/step - loss: 3.3127 - mae: 3.7812 - val_loss: 6.0080 - val_mae: 6.4926\n",
            "Epoch 127/500\n",
            "31/31 [==============================] - 1s 26ms/step - loss: 3.2920 - mae: 3.7586 - val_loss: 4.8150 - val_mae: 5.2922\n",
            "Epoch 128/500\n",
            "31/31 [==============================] - 1s 27ms/step - loss: 3.3233 - mae: 3.7867 - val_loss: 5.0979 - val_mae: 5.5750\n",
            "Epoch 129/500\n",
            "31/31 [==============================] - 1s 31ms/step - loss: 3.3425 - mae: 3.8037 - val_loss: 5.1651 - val_mae: 5.6414\n",
            "Epoch 130/500\n",
            "31/31 [==============================] - 1s 31ms/step - loss: 3.3177 - mae: 3.7793 - val_loss: 5.7591 - val_mae: 6.2417\n",
            "Epoch 131/500\n",
            "31/31 [==============================] - 1s 26ms/step - loss: 3.2594 - mae: 3.7263 - val_loss: 5.7588 - val_mae: 6.2393\n",
            "Epoch 132/500\n",
            "31/31 [==============================] - 1s 30ms/step - loss: 3.2138 - mae: 3.6810 - val_loss: 5.1794 - val_mae: 5.6562\n",
            "Epoch 133/500\n",
            "31/31 [==============================] - 1s 28ms/step - loss: 3.2920 - mae: 3.7556 - val_loss: 4.9750 - val_mae: 5.4481\n",
            "Epoch 134/500\n",
            "31/31 [==============================] - 1s 26ms/step - loss: 3.4052 - mae: 3.8681 - val_loss: 4.8309 - val_mae: 5.3109\n",
            "Epoch 135/500\n",
            "31/31 [==============================] - 1s 29ms/step - loss: 3.3184 - mae: 3.7854 - val_loss: 4.8160 - val_mae: 5.2933\n",
            "Epoch 136/500\n",
            "31/31 [==============================] - 1s 29ms/step - loss: 3.2403 - mae: 3.7073 - val_loss: 6.2137 - val_mae: 6.6960\n",
            "Epoch 137/500\n",
            "31/31 [==============================] - 1s 26ms/step - loss: 3.2554 - mae: 3.7185 - val_loss: 5.4750 - val_mae: 5.9567\n",
            "Epoch 138/500\n",
            "31/31 [==============================] - 1s 26ms/step - loss: 3.3391 - mae: 3.8018 - val_loss: 5.0270 - val_mae: 5.5038\n",
            "Epoch 139/500\n",
            "31/31 [==============================] - 1s 29ms/step - loss: 3.2132 - mae: 3.6771 - val_loss: 5.3171 - val_mae: 5.7994\n",
            "Epoch 140/500\n",
            "31/31 [==============================] - 1s 27ms/step - loss: 3.2323 - mae: 3.6966 - val_loss: 5.9041 - val_mae: 6.3884\n",
            "Epoch 141/500\n",
            "31/31 [==============================] - 1s 27ms/step - loss: 3.2354 - mae: 3.7008 - val_loss: 6.4632 - val_mae: 6.9474\n",
            "Epoch 142/500\n",
            "31/31 [==============================] - 1s 28ms/step - loss: 3.2041 - mae: 3.6703 - val_loss: 5.5517 - val_mae: 6.0333\n",
            "Epoch 143/500\n",
            "31/31 [==============================] - 1s 26ms/step - loss: 3.3249 - mae: 3.7922 - val_loss: 5.8715 - val_mae: 6.3558\n",
            "Epoch 144/500\n",
            "31/31 [==============================] - 1s 29ms/step - loss: 3.2068 - mae: 3.6729 - val_loss: 5.8524 - val_mae: 6.3365\n",
            "Epoch 145/500\n",
            "31/31 [==============================] - 1s 27ms/step - loss: 3.2536 - mae: 3.7171 - val_loss: 5.1717 - val_mae: 5.6494\n",
            "Epoch 146/500\n",
            "31/31 [==============================] - 1s 30ms/step - loss: 3.3673 - mae: 3.8346 - val_loss: 4.9854 - val_mae: 5.4612\n",
            "Epoch 147/500\n",
            "31/31 [==============================] - 1s 26ms/step - loss: 3.2442 - mae: 3.7049 - val_loss: 5.6119 - val_mae: 6.0943\n",
            "Epoch 148/500\n",
            "31/31 [==============================] - 1s 29ms/step - loss: 3.2312 - mae: 3.6960 - val_loss: 5.4578 - val_mae: 5.9395\n",
            "Epoch 149/500\n",
            "31/31 [==============================] - 1s 26ms/step - loss: 3.2009 - mae: 3.6670 - val_loss: 7.0027 - val_mae: 7.4860\n",
            "Epoch 150/500\n",
            "31/31 [==============================] - 1s 29ms/step - loss: 3.2270 - mae: 3.6901 - val_loss: 5.9835 - val_mae: 6.4650\n",
            "Epoch 151/500\n",
            "31/31 [==============================] - 1s 29ms/step - loss: 3.1786 - mae: 3.6468 - val_loss: 5.6864 - val_mae: 6.1703\n",
            "Epoch 152/500\n",
            "31/31 [==============================] - 1s 27ms/step - loss: 3.3452 - mae: 3.8112 - val_loss: 5.6761 - val_mae: 6.1584\n",
            "Epoch 153/500\n",
            "31/31 [==============================] - 1s 25ms/step - loss: 3.1854 - mae: 3.6477 - val_loss: 5.0257 - val_mae: 5.5022\n",
            "Epoch 154/500\n",
            "31/31 [==============================] - 1s 25ms/step - loss: 3.1932 - mae: 3.6602 - val_loss: 6.0553 - val_mae: 6.5370\n",
            "Epoch 155/500\n",
            "31/31 [==============================] - 1s 27ms/step - loss: 3.2461 - mae: 3.7076 - val_loss: 4.9283 - val_mae: 5.4035\n",
            "Epoch 156/500\n",
            "31/31 [==============================] - 1s 25ms/step - loss: 3.1711 - mae: 3.6366 - val_loss: 4.8847 - val_mae: 5.3595\n",
            "Epoch 157/500\n",
            "31/31 [==============================] - 1s 26ms/step - loss: 3.2160 - mae: 3.6825 - val_loss: 5.9448 - val_mae: 6.4267\n",
            "Epoch 158/500\n",
            "31/31 [==============================] - 1s 26ms/step - loss: 3.1420 - mae: 3.6040 - val_loss: 5.5379 - val_mae: 6.0219\n",
            "Epoch 159/500\n",
            "31/31 [==============================] - 1s 25ms/step - loss: 3.2410 - mae: 3.7050 - val_loss: 5.2275 - val_mae: 5.7081\n",
            "Epoch 160/500\n",
            "31/31 [==============================] - 1s 25ms/step - loss: 3.2073 - mae: 3.6737 - val_loss: 5.5294 - val_mae: 6.0143\n",
            "Epoch 161/500\n",
            "31/31 [==============================] - 1s 30ms/step - loss: 3.1816 - mae: 3.6492 - val_loss: 5.7032 - val_mae: 6.1867\n",
            "Epoch 162/500\n",
            "31/31 [==============================] - 1s 26ms/step - loss: 3.2244 - mae: 3.6901 - val_loss: 5.6309 - val_mae: 6.1143\n",
            "Epoch 163/500\n",
            "31/31 [==============================] - 1s 29ms/step - loss: 3.2237 - mae: 3.6924 - val_loss: 5.8847 - val_mae: 6.3663\n",
            "Epoch 164/500\n",
            "31/31 [==============================] - 1s 29ms/step - loss: 3.3427 - mae: 3.8146 - val_loss: 5.3795 - val_mae: 5.8617\n",
            "Epoch 165/500\n",
            "31/31 [==============================] - 1s 28ms/step - loss: 3.1383 - mae: 3.6015 - val_loss: 4.7505 - val_mae: 5.2258\n",
            "Epoch 166/500\n",
            "31/31 [==============================] - 1s 26ms/step - loss: 3.2401 - mae: 3.7068 - val_loss: 5.0193 - val_mae: 5.4959\n",
            "Epoch 167/500\n",
            "31/31 [==============================] - 1s 27ms/step - loss: 3.2492 - mae: 3.7133 - val_loss: 5.4122 - val_mae: 5.8953\n",
            "Epoch 168/500\n",
            "31/31 [==============================] - 1s 30ms/step - loss: 3.1547 - mae: 3.6243 - val_loss: 4.9978 - val_mae: 5.4745\n",
            "Epoch 169/500\n",
            "31/31 [==============================] - 1s 30ms/step - loss: 3.2450 - mae: 3.7122 - val_loss: 5.3502 - val_mae: 5.8328\n",
            "Epoch 170/500\n",
            "31/31 [==============================] - 1s 30ms/step - loss: 3.1618 - mae: 3.6246 - val_loss: 6.2644 - val_mae: 6.7490\n",
            "Epoch 171/500\n",
            "31/31 [==============================] - 1s 27ms/step - loss: 3.2084 - mae: 3.6717 - val_loss: 5.0379 - val_mae: 5.5157\n",
            "Epoch 172/500\n",
            "31/31 [==============================] - 1s 26ms/step - loss: 3.1106 - mae: 3.5722 - val_loss: 5.0190 - val_mae: 5.4965\n",
            "Epoch 173/500\n",
            "31/31 [==============================] - 1s 28ms/step - loss: 3.1311 - mae: 3.5942 - val_loss: 5.5105 - val_mae: 5.9953\n",
            "Epoch 174/500\n",
            "31/31 [==============================] - 1s 27ms/step - loss: 3.1559 - mae: 3.6166 - val_loss: 4.6199 - val_mae: 5.0990\n",
            "Epoch 175/500\n",
            "31/31 [==============================] - 1s 30ms/step - loss: 3.2956 - mae: 3.7653 - val_loss: 5.4883 - val_mae: 5.9722\n",
            "Epoch 176/500\n",
            "31/31 [==============================] - 1s 29ms/step - loss: 3.1970 - mae: 3.6655 - val_loss: 4.7088 - val_mae: 5.1788\n",
            "Epoch 177/500\n",
            "31/31 [==============================] - 1s 30ms/step - loss: 3.1578 - mae: 3.6188 - val_loss: 5.7402 - val_mae: 6.2227\n",
            "Epoch 178/500\n",
            "31/31 [==============================] - 1s 30ms/step - loss: 3.1395 - mae: 3.6044 - val_loss: 4.9884 - val_mae: 5.4656\n",
            "Epoch 179/500\n",
            "31/31 [==============================] - 1s 30ms/step - loss: 3.1741 - mae: 3.6412 - val_loss: 5.8785 - val_mae: 6.3601\n",
            "Epoch 180/500\n",
            "31/31 [==============================] - 1s 27ms/step - loss: 3.1768 - mae: 3.6444 - val_loss: 5.3473 - val_mae: 5.8302\n",
            "Epoch 181/500\n",
            "31/31 [==============================] - 1s 31ms/step - loss: 3.2231 - mae: 3.6908 - val_loss: 4.7545 - val_mae: 5.2268\n",
            "Epoch 182/500\n",
            "31/31 [==============================] - 1s 34ms/step - loss: 3.1268 - mae: 3.5858 - val_loss: 5.4932 - val_mae: 5.9753\n",
            "Epoch 183/500\n",
            "31/31 [==============================] - 1s 27ms/step - loss: 3.1515 - mae: 3.6198 - val_loss: 7.9934 - val_mae: 8.4846\n",
            "Epoch 184/500\n",
            "31/31 [==============================] - 1s 31ms/step - loss: 3.1845 - mae: 3.6509 - val_loss: 5.0774 - val_mae: 5.5568\n",
            "Epoch 185/500\n",
            "31/31 [==============================] - 1s 26ms/step - loss: 3.2562 - mae: 3.7223 - val_loss: 5.6625 - val_mae: 6.1456\n",
            "Epoch 186/500\n",
            "31/31 [==============================] - 1s 32ms/step - loss: 3.1343 - mae: 3.6012 - val_loss: 5.4436 - val_mae: 5.9254\n",
            "Epoch 187/500\n",
            "31/31 [==============================] - 1s 28ms/step - loss: 3.1737 - mae: 3.6378 - val_loss: 4.9575 - val_mae: 5.4339\n",
            "Epoch 188/500\n",
            "31/31 [==============================] - 1s 27ms/step - loss: 3.1568 - mae: 3.6254 - val_loss: 5.3297 - val_mae: 5.8132\n",
            "Epoch 189/500\n",
            "31/31 [==============================] - 1s 29ms/step - loss: 3.1380 - mae: 3.6043 - val_loss: 5.8695 - val_mae: 6.3514\n",
            "Epoch 190/500\n",
            "31/31 [==============================] - 1s 32ms/step - loss: 3.0685 - mae: 3.5313 - val_loss: 5.3339 - val_mae: 5.8174\n",
            "Epoch 191/500\n",
            "31/31 [==============================] - 1s 33ms/step - loss: 3.1557 - mae: 3.6204 - val_loss: 5.4443 - val_mae: 5.9280\n",
            "Epoch 192/500\n",
            "31/31 [==============================] - 1s 31ms/step - loss: 3.1679 - mae: 3.6334 - val_loss: 5.2208 - val_mae: 5.7038\n",
            "Epoch 193/500\n",
            "31/31 [==============================] - 1s 26ms/step - loss: 3.2161 - mae: 3.6834 - val_loss: 4.9419 - val_mae: 5.4185\n",
            "Epoch 194/500\n",
            "31/31 [==============================] - 1s 26ms/step - loss: 3.2481 - mae: 3.7169 - val_loss: 5.2767 - val_mae: 5.7602\n",
            "Epoch 195/500\n",
            "31/31 [==============================] - 1s 26ms/step - loss: 3.2112 - mae: 3.6766 - val_loss: 5.4451 - val_mae: 5.9278\n",
            "Epoch 196/500\n",
            "31/31 [==============================] - 1s 26ms/step - loss: 3.0732 - mae: 3.5390 - val_loss: 6.0084 - val_mae: 6.4910\n",
            "Epoch 197/500\n",
            "31/31 [==============================] - 1s 26ms/step - loss: 3.1890 - mae: 3.6545 - val_loss: 5.2454 - val_mae: 5.7285\n",
            "Epoch 198/500\n",
            "31/31 [==============================] - 1s 26ms/step - loss: 3.2112 - mae: 3.6797 - val_loss: 5.5205 - val_mae: 6.0040\n",
            "Epoch 199/500\n",
            "31/31 [==============================] - 1s 29ms/step - loss: 3.1229 - mae: 3.5920 - val_loss: 5.8585 - val_mae: 6.3400\n",
            "Epoch 200/500\n",
            "31/31 [==============================] - 1s 26ms/step - loss: 3.1251 - mae: 3.5921 - val_loss: 5.6168 - val_mae: 6.0991\n",
            "Epoch 201/500\n",
            "31/31 [==============================] - 1s 31ms/step - loss: 3.1436 - mae: 3.6049 - val_loss: 6.3451 - val_mae: 6.8272\n",
            "Epoch 202/500\n",
            "31/31 [==============================] - 1s 31ms/step - loss: 3.1823 - mae: 3.6506 - val_loss: 5.3655 - val_mae: 5.8490\n",
            "Epoch 203/500\n",
            "31/31 [==============================] - 1s 30ms/step - loss: 3.1840 - mae: 3.6498 - val_loss: 5.3986 - val_mae: 5.8820\n",
            "Epoch 204/500\n",
            "31/31 [==============================] - 1s 26ms/step - loss: 3.0921 - mae: 3.5565 - val_loss: 5.1749 - val_mae: 5.6569\n",
            "Epoch 205/500\n",
            "31/31 [==============================] - 1s 31ms/step - loss: 3.2022 - mae: 3.6708 - val_loss: 4.6318 - val_mae: 5.1012\n",
            "Epoch 206/500\n",
            "31/31 [==============================] - 1s 31ms/step - loss: 3.1503 - mae: 3.6168 - val_loss: 4.6765 - val_mae: 5.1485\n",
            "Epoch 207/500\n",
            "31/31 [==============================] - 1s 27ms/step - loss: 3.2343 - mae: 3.7021 - val_loss: 5.4235 - val_mae: 5.9070\n",
            "Epoch 208/500\n",
            "31/31 [==============================] - 1s 28ms/step - loss: 3.2042 - mae: 3.6648 - val_loss: 5.1379 - val_mae: 5.6207\n",
            "Epoch 209/500\n",
            "31/31 [==============================] - 1s 30ms/step - loss: 3.1496 - mae: 3.6140 - val_loss: 5.6443 - val_mae: 6.1255\n",
            "Epoch 210/500\n",
            "31/31 [==============================] - 1s 28ms/step - loss: 3.1260 - mae: 3.5909 - val_loss: 5.3990 - val_mae: 5.8823\n",
            "Epoch 211/500\n",
            "31/31 [==============================] - 1s 25ms/step - loss: 3.1002 - mae: 3.5624 - val_loss: 4.8871 - val_mae: 5.3626\n",
            "Epoch 212/500\n",
            "31/31 [==============================] - 1s 26ms/step - loss: 3.0288 - mae: 3.4919 - val_loss: 4.7399 - val_mae: 5.2166\n",
            "Epoch 213/500\n",
            "31/31 [==============================] - 1s 26ms/step - loss: 3.1425 - mae: 3.6072 - val_loss: 5.4065 - val_mae: 5.8898\n",
            "Epoch 214/500\n",
            "31/31 [==============================] - 1s 30ms/step - loss: 3.1041 - mae: 3.5674 - val_loss: 5.7115 - val_mae: 6.1934\n",
            "Epoch 215/500\n",
            "31/31 [==============================] - 1s 35ms/step - loss: 3.0886 - mae: 3.5500 - val_loss: 4.8609 - val_mae: 5.3358\n",
            "Epoch 216/500\n",
            "31/31 [==============================] - 1s 29ms/step - loss: 3.0420 - mae: 3.5043 - val_loss: 5.0837 - val_mae: 5.5652\n",
            "Epoch 217/500\n",
            "31/31 [==============================] - 1s 30ms/step - loss: 3.1599 - mae: 3.6267 - val_loss: 5.4594 - val_mae: 5.9421\n",
            "Epoch 218/500\n",
            "31/31 [==============================] - 1s 31ms/step - loss: 3.1063 - mae: 3.5706 - val_loss: 5.1673 - val_mae: 5.6506\n",
            "Epoch 219/500\n",
            "31/31 [==============================] - 1s 30ms/step - loss: 3.1403 - mae: 3.6098 - val_loss: 5.8841 - val_mae: 6.3657\n",
            "Epoch 220/500\n",
            "31/31 [==============================] - 1s 30ms/step - loss: 3.0874 - mae: 3.5514 - val_loss: 5.5060 - val_mae: 5.9881\n",
            "Epoch 221/500\n",
            "31/31 [==============================] - 1s 30ms/step - loss: 3.1630 - mae: 3.6330 - val_loss: 5.2821 - val_mae: 5.7661\n",
            "Epoch 222/500\n",
            "31/31 [==============================] - 1s 27ms/step - loss: 3.0491 - mae: 3.5146 - val_loss: 5.3820 - val_mae: 5.8641\n",
            "Epoch 223/500\n",
            "31/31 [==============================] - 1s 31ms/step - loss: 3.1037 - mae: 3.5718 - val_loss: 5.3919 - val_mae: 5.8750\n",
            "Epoch 224/500\n",
            "30/31 [============================>.] - ETA: 0s - loss: 3.0308 - mae: 3.4934\n",
            "Mae val is less than 5.0, so stopping training!\n",
            "31/31 [==============================] - 1s 26ms/step - loss: 3.0586 - mae: 3.5209 - val_loss: 4.4134 - val_mae: 4.8890\n"
          ]
        }
      ]
    },
    {
      "cell_type": "code",
      "source": [
        "plot_series(np.arange(len(hist3.history[\"loss\"])), (hist3.history[\"loss\"], hist3.history[\"mae\"], hist3.history[\"val_mae\"]), labels=[\"loss\", \"mae\", \"val_mae\"],)"
      ],
      "metadata": {
        "colab": {
          "base_uri": "https://localhost:8080/",
          "height": 279
        },
        "id": "pyhYqKIv6r-G",
        "outputId": "def4c480-cfcb-4cfd-fdbf-c20606b549fa"
      },
      "execution_count": 67,
      "outputs": [
        {
          "output_type": "display_data",
          "data": {
            "text/plain": [
              "<Figure size 432x288 with 1 Axes>"
            ],
            "image/png": "[encoded data removed]"
          },
          "metadata": {
            "needs_background": "light"
          }
        }
      ]
    },
    {
      "cell_type": "markdown",
      "source": [
        "# Lab 2 & 3"
      ],
      "metadata": {
        "id": "Pg5R1_DfAVOf"
      }
    },
    {
      "cell_type": "code",
      "source": [
        "import numpy as np\n",
        "import matplotlib.pyplot as plt\n",
        "import csv\n",
        "import tensorflow as tf"
      ],
      "metadata": {
        "id": "dcF4p-c3-PtI"
      },
      "execution_count": 68,
      "outputs": []
    },
    {
      "cell_type": "code",
      "source": [
        "# Download the dataset\n",
        "!wget https://storage.googleapis.com/tensorflow-1-public/course4/Sunspots.csv"
      ],
      "metadata": {
        "colab": {
          "base_uri": "https://localhost:8080/"
        },
        "id": "-6OcL_3zM6U7",
        "outputId": "eb645d98-0032-4393-81fd-3a7062b298e4"
      },
      "execution_count": 69,
      "outputs": [
        {
          "output_type": "stream",
          "name": "stdout",
          "text": [
            "--2022-10-15 15:12:45--  https://storage.googleapis.com/tensorflow-1-public/course4/Sunspots.csv\n",
            "Resolving storage.googleapis.com (storage.googleapis.com)... 74.125.20.128, 74.125.197.128, 74.125.135.128, ...\n",
            "Connecting to storage.googleapis.com (storage.googleapis.com)|74.125.20.128|:443... connected.\n",
            "HTTP request sent, awaiting response... 200 OK\n",
            "Length: 70827 (69K) [text/csv]\n",
            "Saving to: ‘Sunspots.csv’\n",
            "\n",
            "\rSunspots.csv          0%[                    ]       0  --.-KB/s               \rSunspots.csv        100%[===================>]  69.17K  --.-KB/s    in 0.001s  \n",
            "\n",
            "2022-10-15 15:12:45 (66.8 MB/s) - ‘Sunspots.csv’ saved [70827/70827]\n",
            "\n"
          ]
        }
      ]
    },
    {
      "cell_type": "code",
      "source": [
        "!head Sunspots.csv"
      ],
      "metadata": {
        "colab": {
          "base_uri": "https://localhost:8080/"
        },
        "id": "soNdvrR3NGtn",
        "outputId": "9eec0ce9-e7f3-44f1-85b6-c217f235b6b2"
      },
      "execution_count": 70,
      "outputs": [
        {
          "output_type": "stream",
          "name": "stdout",
          "text": [
            ",Date,Monthly Mean Total Sunspot Number\r\n",
            "0,1749-01-31,96.7\r\n",
            "1,1749-02-28,104.3\r\n",
            "2,1749-03-31,116.7\r\n",
            "3,1749-04-30,92.8\r\n",
            "4,1749-05-31,141.7\r\n",
            "5,1749-06-30,139.2\r\n",
            "6,1749-07-31,158.0\r\n",
            "7,1749-08-31,110.5\r\n",
            "8,1749-09-30,126.5\r\n"
          ]
        }
      ]
    },
    {
      "cell_type": "code",
      "source": [
        "time_steps = []\n",
        "sunspots = []\n",
        "\n",
        "with open(\"/content/Sunspots.csv\") as f:\n",
        "  reader = csv.reader(f, delimiter=\",\")\n",
        "  next(reader)\n",
        "  for row in reader:\n",
        "    time_steps.append(int(row[0]))\n",
        "    sunspots.append(float(row[2]))\n",
        "\n",
        "time = np.array(time_steps)\n",
        "series = np.array(sunspots)\n",
        "\n",
        "plt.plot(time, series)\n",
        "plt.xlabel(\"month\")\n",
        "plt.ylabel(\"sunspot number\")"
      ],
      "metadata": {
        "colab": {
          "base_uri": "https://localhost:8080/",
          "height": 296
        },
        "id": "Q3KKGs6QNLhU",
        "outputId": "af1b7544-b840-4cbc-b5e9-09fb4d4fd318"
      },
      "execution_count": 73,
      "outputs": [
        {
          "output_type": "execute_result",
          "data": {
            "text/plain": [
              "Text(0, 0.5, 'sunspot number')"
            ]
          },
          "metadata": {},
          "execution_count": 73
        },
        {
          "output_type": "display_data",
          "data": {
            "text/plain": [
              "<Figure size 432x288 with 1 Axes>"
            ],
            "image/png": "[encoded data removed]"
          },
          "metadata": {
            "needs_background": "light"
          }
        }
      ]
    },
    {
      "cell_type": "code",
      "source": [
        "split_time = 3000\n",
        "\n",
        "x_train = series[:split_time]\n",
        "x_test = series[split_time:]\n",
        "\n",
        "train_time = time[:split_time]\n",
        "test_time = time[split_time:]"
      ],
      "metadata": {
        "id": "w-oNO_jWOqpk"
      },
      "execution_count": 74,
      "outputs": []
    },
    {
      "cell_type": "code",
      "source": [
        "train_set = windowed_data(x_train)\n",
        "test_set = windowed_data(x_test)"
      ],
      "metadata": {
        "id": "c1DTssdIQ7yc"
      },
      "execution_count": 75,
      "outputs": []
    },
    {
      "cell_type": "code",
      "source": [
        "model_3 = tf.keras.Sequential([\n",
        "    tf.keras.layers.Conv1D(32, 3, input_shape=[window_size, 1], activation=\"relu\", padding=\"causal\"),\n",
        "    tf.keras.layers.LSTM(64, return_sequences=True),\n",
        "    tf.keras.layers.LSTM(64),\n",
        "    tf.keras.layers.Dense(30, activation=\"relu\"),\n",
        "    tf.keras.layers.Dense(1),\n",
        "    tf.keras.layers.Lambda(lambda x: x*400),\n",
        "])\n",
        "\n",
        "lr_scheduler = tf.keras.callbacks.LearningRateScheduler(lambda epoch: 1e-8*10**(epoch/20))\n",
        "\n",
        "model_3.compile(optimizer=\"sgd\", loss=tf.keras.losses.Huber(), metrics=[\"mae\"]) \n",
        "hist4 = model_3.fit(train_set, epochs=100, callbacks=lr_scheduler)"
      ],
      "metadata": {
        "colab": {
          "base_uri": "https://localhost:8080/"
        },
        "id": "gRPSeCsYRGsn",
        "outputId": "d8beaba4-71b4-48d6-af70-dc8015ef319e"
      },
      "execution_count": 84,
      "outputs": [
        {
          "output_type": "stream",
          "name": "stdout",
          "text": [
            "Epoch 1/100\n",
            "94/94 [==============================] - 7s 30ms/step - loss: 124.2127 - mae: 124.7120 - lr: 1.0000e-08\n",
            "Epoch 2/100\n",
            "94/94 [==============================] - 3s 30ms/step - loss: 115.3152 - mae: 115.8140 - lr: 1.1220e-08\n",
            "Epoch 3/100\n",
            "94/94 [==============================] - 3s 29ms/step - loss: 104.2935 - mae: 104.7928 - lr: 1.2589e-08\n",
            "Epoch 4/100\n",
            "94/94 [==============================] - 3s 28ms/step - loss: 92.4464 - mae: 92.9441 - lr: 1.4125e-08\n",
            "Epoch 5/100\n",
            "94/94 [==============================] - 3s 31ms/step - loss: 82.2379 - mae: 82.7352 - lr: 1.5849e-08\n",
            "Epoch 6/100\n",
            "94/94 [==============================] - 3s 31ms/step - loss: 73.9128 - mae: 74.4089 - lr: 1.7783e-08\n",
            "Epoch 7/100\n",
            "94/94 [==============================] - 4s 43ms/step - loss: 67.2270 - mae: 67.7238 - lr: 1.9953e-08\n",
            "Epoch 8/100\n",
            "94/94 [==============================] - 4s 41ms/step - loss: 61.6030 - mae: 62.0986 - lr: 2.2387e-08\n",
            "Epoch 9/100\n",
            "94/94 [==============================] - 3s 27ms/step - loss: 57.0046 - mae: 57.5012 - lr: 2.5119e-08\n",
            "Epoch 10/100\n",
            "94/94 [==============================] - 3s 28ms/step - loss: 53.2052 - mae: 53.7017 - lr: 2.8184e-08\n",
            "Epoch 11/100\n",
            "94/94 [==============================] - 3s 27ms/step - loss: 49.9671 - mae: 50.4654 - lr: 3.1623e-08\n",
            "Epoch 12/100\n",
            "94/94 [==============================] - 3s 30ms/step - loss: 47.0938 - mae: 47.5912 - lr: 3.5481e-08\n",
            "Epoch 13/100\n",
            "94/94 [==============================] - 3s 33ms/step - loss: 44.2987 - mae: 44.7962 - lr: 3.9811e-08\n",
            "Epoch 14/100\n",
            "94/94 [==============================] - 3s 29ms/step - loss: 41.4583 - mae: 41.9557 - lr: 4.4668e-08\n",
            "Epoch 15/100\n",
            "94/94 [==============================] - 3s 28ms/step - loss: 38.4825 - mae: 38.9801 - lr: 5.0119e-08\n",
            "Epoch 16/100\n",
            "94/94 [==============================] - 3s 31ms/step - loss: 35.3648 - mae: 35.8611 - lr: 5.6234e-08\n",
            "Epoch 17/100\n",
            "94/94 [==============================] - 3s 30ms/step - loss: 32.8139 - mae: 33.3103 - lr: 6.3096e-08\n",
            "Epoch 18/100\n",
            "94/94 [==============================] - 3s 30ms/step - loss: 30.9082 - mae: 31.4049 - lr: 7.0795e-08\n",
            "Epoch 19/100\n",
            "94/94 [==============================] - 3s 30ms/step - loss: 29.5155 - mae: 30.0102 - lr: 7.9433e-08\n",
            "Epoch 20/100\n",
            "94/94 [==============================] - 3s 30ms/step - loss: 28.4453 - mae: 28.9389 - lr: 8.9125e-08\n",
            "Epoch 21/100\n",
            "94/94 [==============================] - 3s 28ms/step - loss: 27.5618 - mae: 28.0563 - lr: 1.0000e-07\n",
            "Epoch 22/100\n",
            "94/94 [==============================] - 3s 29ms/step - loss: 26.7121 - mae: 27.2075 - lr: 1.1220e-07\n",
            "Epoch 23/100\n",
            "94/94 [==============================] - 3s 29ms/step - loss: 25.8587 - mae: 26.3535 - lr: 1.2589e-07\n",
            "Epoch 24/100\n",
            "94/94 [==============================] - 3s 28ms/step - loss: 24.9809 - mae: 25.4753 - lr: 1.4125e-07\n",
            "Epoch 25/100\n",
            "94/94 [==============================] - 3s 29ms/step - loss: 24.1764 - mae: 24.6718 - lr: 1.5849e-07\n",
            "Epoch 26/100\n",
            "94/94 [==============================] - 3s 29ms/step - loss: 23.5167 - mae: 24.0122 - lr: 1.7783e-07\n",
            "Epoch 27/100\n",
            "94/94 [==============================] - 3s 29ms/step - loss: 23.0397 - mae: 23.5349 - lr: 1.9953e-07\n",
            "Epoch 28/100\n",
            "94/94 [==============================] - 3s 29ms/step - loss: 22.6440 - mae: 23.1382 - lr: 2.2387e-07\n",
            "Epoch 29/100\n",
            "94/94 [==============================] - 3s 28ms/step - loss: 22.3060 - mae: 22.8014 - lr: 2.5119e-07\n",
            "Epoch 30/100\n",
            "94/94 [==============================] - 3s 31ms/step - loss: 21.9951 - mae: 22.4898 - lr: 2.8184e-07\n",
            "Epoch 31/100\n",
            "94/94 [==============================] - 3s 31ms/step - loss: 21.6727 - mae: 22.1664 - lr: 3.1623e-07\n",
            "Epoch 32/100\n",
            "94/94 [==============================] - 3s 31ms/step - loss: 21.4269 - mae: 21.9215 - lr: 3.5481e-07\n",
            "Epoch 33/100\n",
            "94/94 [==============================] - 3s 31ms/step - loss: 21.2345 - mae: 21.7296 - lr: 3.9811e-07\n",
            "Epoch 34/100\n",
            "94/94 [==============================] - 3s 29ms/step - loss: 20.9811 - mae: 21.4743 - lr: 4.4668e-07\n",
            "Epoch 35/100\n",
            "94/94 [==============================] - 3s 28ms/step - loss: 20.7322 - mae: 21.2255 - lr: 5.0119e-07\n",
            "Epoch 36/100\n",
            "94/94 [==============================] - 3s 31ms/step - loss: 20.6363 - mae: 21.1295 - lr: 5.6234e-07\n",
            "Epoch 37/100\n",
            "94/94 [==============================] - 3s 28ms/step - loss: 20.4700 - mae: 20.9646 - lr: 6.3096e-07\n",
            "Epoch 38/100\n",
            "94/94 [==============================] - 3s 29ms/step - loss: 20.3047 - mae: 20.7979 - lr: 7.0795e-07\n",
            "Epoch 39/100\n",
            "94/94 [==============================] - 3s 29ms/step - loss: 20.1989 - mae: 20.6930 - lr: 7.9433e-07\n",
            "Epoch 40/100\n",
            "94/94 [==============================] - 3s 30ms/step - loss: 20.1088 - mae: 20.6031 - lr: 8.9125e-07\n",
            "Epoch 41/100\n",
            "94/94 [==============================] - 3s 29ms/step - loss: 19.9806 - mae: 20.4751 - lr: 1.0000e-06\n",
            "Epoch 42/100\n",
            "94/94 [==============================] - 3s 31ms/step - loss: 19.8889 - mae: 20.3828 - lr: 1.1220e-06\n",
            "Epoch 43/100\n",
            "94/94 [==============================] - 3s 32ms/step - loss: 19.7407 - mae: 20.2340 - lr: 1.2589e-06\n",
            "Epoch 44/100\n",
            "94/94 [==============================] - 3s 30ms/step - loss: 19.6395 - mae: 20.1312 - lr: 1.4125e-06\n",
            "Epoch 45/100\n",
            "94/94 [==============================] - 3s 30ms/step - loss: 19.8666 - mae: 20.3606 - lr: 1.5849e-06\n",
            "Epoch 46/100\n",
            "94/94 [==============================] - 3s 32ms/step - loss: 19.6771 - mae: 20.1688 - lr: 1.7783e-06\n",
            "Epoch 47/100\n",
            "94/94 [==============================] - 3s 29ms/step - loss: 19.9490 - mae: 20.4416 - lr: 1.9953e-06\n",
            "Epoch 48/100\n",
            "94/94 [==============================] - 3s 30ms/step - loss: 19.6247 - mae: 20.1184 - lr: 2.2387e-06\n",
            "Epoch 49/100\n",
            "94/94 [==============================] - 3s 29ms/step - loss: 20.0455 - mae: 20.5389 - lr: 2.5119e-06\n",
            "Epoch 50/100\n",
            "94/94 [==============================] - 3s 31ms/step - loss: 19.8406 - mae: 20.3341 - lr: 2.8184e-06\n",
            "Epoch 51/100\n",
            "94/94 [==============================] - 3s 32ms/step - loss: 19.5313 - mae: 20.0229 - lr: 3.1623e-06\n",
            "Epoch 52/100\n",
            "94/94 [==============================] - 3s 31ms/step - loss: 20.2392 - mae: 20.7332 - lr: 3.5481e-06\n",
            "Epoch 53/100\n",
            "94/94 [==============================] - 3s 32ms/step - loss: 19.8415 - mae: 20.3357 - lr: 3.9811e-06\n",
            "Epoch 54/100\n",
            "94/94 [==============================] - 3s 30ms/step - loss: 20.7967 - mae: 21.2913 - lr: 4.4668e-06\n",
            "Epoch 55/100\n",
            "94/94 [==============================] - 3s 31ms/step - loss: 20.2193 - mae: 20.7132 - lr: 5.0119e-06\n",
            "Epoch 56/100\n",
            "94/94 [==============================] - 3s 31ms/step - loss: 20.0145 - mae: 20.5091 - lr: 5.6234e-06\n",
            "Epoch 57/100\n",
            "94/94 [==============================] - 3s 30ms/step - loss: 20.0063 - mae: 20.4989 - lr: 6.3096e-06\n",
            "Epoch 58/100\n",
            "94/94 [==============================] - 3s 31ms/step - loss: 20.6267 - mae: 21.1204 - lr: 7.0795e-06\n",
            "Epoch 59/100\n",
            "94/94 [==============================] - 3s 29ms/step - loss: 20.4301 - mae: 20.9222 - lr: 7.9433e-06\n",
            "Epoch 60/100\n",
            "94/94 [==============================] - 3s 34ms/step - loss: 20.7085 - mae: 21.2019 - lr: 8.9125e-06\n",
            "Epoch 61/100\n",
            "94/94 [==============================] - 3s 32ms/step - loss: 21.2870 - mae: 21.7789 - lr: 1.0000e-05\n",
            "Epoch 62/100\n",
            "94/94 [==============================] - 3s 30ms/step - loss: 20.9044 - mae: 21.3989 - lr: 1.1220e-05\n",
            "Epoch 63/100\n",
            "94/94 [==============================] - 3s 32ms/step - loss: 20.7620 - mae: 21.2547 - lr: 1.2589e-05\n",
            "Epoch 64/100\n",
            "94/94 [==============================] - 3s 29ms/step - loss: 21.6321 - mae: 22.1259 - lr: 1.4125e-05\n",
            "Epoch 65/100\n",
            "94/94 [==============================] - 3s 29ms/step - loss: 20.7432 - mae: 21.2360 - lr: 1.5849e-05\n",
            "Epoch 66/100\n",
            "94/94 [==============================] - 3s 31ms/step - loss: 20.6839 - mae: 21.1774 - lr: 1.7783e-05\n",
            "Epoch 67/100\n",
            "94/94 [==============================] - 3s 33ms/step - loss: 22.0905 - mae: 22.5856 - lr: 1.9953e-05\n",
            "Epoch 68/100\n",
            "94/94 [==============================] - 3s 31ms/step - loss: 21.3174 - mae: 21.8110 - lr: 2.2387e-05\n",
            "Epoch 69/100\n",
            "94/94 [==============================] - 3s 30ms/step - loss: 21.9301 - mae: 22.4240 - lr: 2.5119e-05\n",
            "Epoch 70/100\n",
            "94/94 [==============================] - 3s 30ms/step - loss: 22.0653 - mae: 22.5587 - lr: 2.8184e-05\n",
            "Epoch 71/100\n",
            "94/94 [==============================] - 3s 30ms/step - loss: 22.4147 - mae: 22.9078 - lr: 3.1623e-05\n",
            "Epoch 72/100\n",
            "94/94 [==============================] - 3s 29ms/step - loss: 21.4813 - mae: 21.9766 - lr: 3.5481e-05\n",
            "Epoch 73/100\n",
            "94/94 [==============================] - 3s 31ms/step - loss: 22.2843 - mae: 22.7771 - lr: 3.9811e-05\n",
            "Epoch 74/100\n",
            "94/94 [==============================] - 3s 31ms/step - loss: 23.0250 - mae: 23.5194 - lr: 4.4668e-05\n",
            "Epoch 75/100\n",
            "94/94 [==============================] - 3s 32ms/step - loss: 22.6264 - mae: 23.1200 - lr: 5.0119e-05\n",
            "Epoch 76/100\n",
            "94/94 [==============================] - 3s 29ms/step - loss: 23.0776 - mae: 23.5723 - lr: 5.6234e-05\n",
            "Epoch 77/100\n",
            "94/94 [==============================] - 3s 30ms/step - loss: 22.9266 - mae: 23.4209 - lr: 6.3096e-05\n",
            "Epoch 78/100\n",
            "94/94 [==============================] - 3s 30ms/step - loss: 23.5559 - mae: 24.0506 - lr: 7.0795e-05\n",
            "Epoch 79/100\n",
            "94/94 [==============================] - 3s 32ms/step - loss: 24.1786 - mae: 24.6723 - lr: 7.9433e-05\n",
            "Epoch 80/100\n",
            "94/94 [==============================] - 3s 32ms/step - loss: 24.0897 - mae: 24.5833 - lr: 8.9125e-05\n",
            "Epoch 81/100\n",
            "94/94 [==============================] - 3s 28ms/step - loss: 24.8041 - mae: 25.2986 - lr: 1.0000e-04\n",
            "Epoch 82/100\n",
            "94/94 [==============================] - 3s 31ms/step - loss: 26.4512 - mae: 26.9466 - lr: 1.1220e-04\n",
            "Epoch 83/100\n",
            "94/94 [==============================] - 3s 28ms/step - loss: 28.4508 - mae: 28.9466 - lr: 1.2589e-04\n",
            "Epoch 84/100\n",
            "94/94 [==============================] - 3s 30ms/step - loss: 27.0379 - mae: 27.5332 - lr: 1.4125e-04\n",
            "Epoch 85/100\n",
            "94/94 [==============================] - 3s 29ms/step - loss: 27.7639 - mae: 28.2598 - lr: 1.5849e-04\n",
            "Epoch 86/100\n",
            "94/94 [==============================] - 3s 28ms/step - loss: 28.2610 - mae: 28.7554 - lr: 1.7783e-04\n",
            "Epoch 87/100\n",
            "94/94 [==============================] - 3s 32ms/step - loss: 29.2350 - mae: 29.7309 - lr: 1.9953e-04\n",
            "Epoch 88/100\n",
            "94/94 [==============================] - 3s 32ms/step - loss: 30.0652 - mae: 30.5608 - lr: 2.2387e-04\n",
            "Epoch 89/100\n",
            "94/94 [==============================] - 3s 31ms/step - loss: 32.4238 - mae: 32.9204 - lr: 2.5119e-04\n",
            "Epoch 90/100\n",
            "94/94 [==============================] - 3s 29ms/step - loss: 35.7373 - mae: 36.2351 - lr: 2.8184e-04\n",
            "Epoch 91/100\n",
            "94/94 [==============================] - 3s 28ms/step - loss: 37.0505 - mae: 37.5482 - lr: 3.1623e-04\n",
            "Epoch 92/100\n",
            "94/94 [==============================] - 3s 32ms/step - loss: 39.6472 - mae: 40.1446 - lr: 3.5481e-04\n",
            "Epoch 93/100\n",
            "94/94 [==============================] - 3s 31ms/step - loss: 40.0551 - mae: 40.5527 - lr: 3.9811e-04\n",
            "Epoch 94/100\n",
            "94/94 [==============================] - 3s 31ms/step - loss: 50.8944 - mae: 51.3924 - lr: 4.4668e-04\n",
            "Epoch 95/100\n",
            "94/94 [==============================] - 3s 30ms/step - loss: 49.5839 - mae: 50.0820 - lr: 5.0119e-04\n",
            "Epoch 96/100\n",
            "94/94 [==============================] - 3s 30ms/step - loss: 51.5361 - mae: 52.0339 - lr: 5.6234e-04\n",
            "Epoch 97/100\n",
            "94/94 [==============================] - 3s 30ms/step - loss: 52.7427 - mae: 53.2406 - lr: 6.3096e-04\n",
            "Epoch 98/100\n",
            "94/94 [==============================] - 3s 32ms/step - loss: 58.2328 - mae: 58.7310 - lr: 7.0795e-04\n",
            "Epoch 99/100\n",
            "94/94 [==============================] - 5s 53ms/step - loss: 64.1367 - mae: 64.6349 - lr: 7.9433e-04\n",
            "Epoch 100/100\n",
            "94/94 [==============================] - 5s 53ms/step - loss: 68.0281 - mae: 68.5257 - lr: 8.9125e-04\n"
          ]
        }
      ]
    },
    {
      "cell_type": "code",
      "source": [
        "plt.plot(hist4.history[\"loss\"])\n",
        "plt.plot(hist4.history[\"mae\"])"
      ],
      "metadata": {
        "colab": {
          "base_uri": "https://localhost:8080/",
          "height": 282
        },
        "id": "CtGpUJ77UXY8",
        "outputId": "1423f30f-4336-4ce6-8b95-e1f7bc37a065"
      },
      "execution_count": 87,
      "outputs": [
        {
          "output_type": "execute_result",
          "data": {
            "text/plain": [
              "[<matplotlib.lines.Line2D at 0x7fe2d297df50>]"
            ]
          },
          "metadata": {},
          "execution_count": 87
        },
        {
          "output_type": "display_data",
          "data": {
            "text/plain": [
              "<Figure size 432x288 with 1 Axes>"
            ],
            "image/png": "[encoded data removed]"
          },
          "metadata": {
            "needs_background": "light"
          }
        }
      ]
    },
    {
      "cell_type": "code",
      "source": [
        "plt.plot(hist4.history[\"lr\"], hist4.history[\"loss\"])"
      ],
      "metadata": {
        "colab": {
          "base_uri": "https://localhost:8080/",
          "height": 282
        },
        "id": "Z6f5nL_BUXbS",
        "outputId": "afea3e0d-a628-455a-b368-7ff44fa55ea6"
      },
      "execution_count": 88,
      "outputs": [
        {
          "output_type": "execute_result",
          "data": {
            "text/plain": [
              "[<matplotlib.lines.Line2D at 0x7fe2d294ec90>]"
            ]
          },
          "metadata": {},
          "execution_count": 88
        },
        {
          "output_type": "display_data",
          "data": {
            "text/plain": [
              "<Figure size 432x288 with 1 Axes>"
            ],
            "image/png": "[encoded data removed]"
          },
          "metadata": {
            "needs_background": "light"
          }
        }
      ]
    },
    {
      "cell_type": "code",
      "source": [
        "np.argmin(hist4.history[\"loss\"]), hist4.history[\"lr\"][50] # best -> 3.1622776e-06"
      ],
      "metadata": {
        "colab": {
          "base_uri": "https://localhost:8080/"
        },
        "id": "zXl3cpmZUXdw",
        "outputId": "2fc19caa-578d-41aa-f4de-c0455eedcfd2"
      },
      "execution_count": 90,
      "outputs": [
        {
          "output_type": "execute_result",
          "data": {
            "text/plain": [
              "(50, 3.1622776e-06)"
            ]
          },
          "metadata": {},
          "execution_count": 90
        }
      ]
    },
    {
      "cell_type": "code",
      "source": [
        "model_4 = tf.keras.Sequential([\n",
        "    tf.keras.layers.Lambda(lambda x: tf.expand_dims(x, axis=-1),  input_shape=[window_size]),\n",
        "    tf.keras.layers.LSTM(64, return_sequences=True),\n",
        "    tf.keras.layers.LSTM(64),\n",
        "    tf.keras.layers.Dense(30, activation=\"relu\"),\n",
        "    tf.keras.layers.Dense(1),\n",
        "    tf.keras.layers.Lambda(lambda x: x*400),\n",
        "])\n",
        "\n",
        "lr_scheduler = tf.keras.callbacks.LearningRateScheduler(lambda epoch: 1e-8*10**(epoch/20))\n",
        "\n",
        "model_4.compile(optimizer=\"sgd\", loss=tf.keras.losses.Huber(), metrics=[\"mae\"]) \n",
        "hist5 = model_4.fit(train_set, epochs=100, callbacks=lr_scheduler)"
      ],
      "metadata": {
        "colab": {
          "base_uri": "https://localhost:8080/"
        },
        "id": "5ZhLY_NLTGL_",
        "outputId": "697efb8a-456e-408e-dc4b-67dd75e96024"
      },
      "execution_count": 92,
      "outputs": [
        {
          "output_type": "stream",
          "name": "stdout",
          "text": [
            "Epoch 1/100\n",
            "94/94 [==============================] - 7s 28ms/step - loss: 57.5521 - mae: 58.0507 - lr: 1.0000e-08\n",
            "Epoch 2/100\n",
            "94/94 [==============================] - 3s 27ms/step - loss: 56.3207 - mae: 56.8187 - lr: 1.1220e-08\n",
            "Epoch 3/100\n",
            "94/94 [==============================] - 3s 27ms/step - loss: 55.0079 - mae: 55.5059 - lr: 1.2589e-08\n",
            "Epoch 4/100\n",
            "94/94 [==============================] - 3s 27ms/step - loss: 53.5642 - mae: 54.0627 - lr: 1.4125e-08\n",
            "Epoch 5/100\n",
            "94/94 [==============================] - 3s 28ms/step - loss: 51.9862 - mae: 52.4844 - lr: 1.5849e-08\n",
            "Epoch 6/100\n",
            "94/94 [==============================] - 3s 26ms/step - loss: 50.3411 - mae: 50.8395 - lr: 1.7783e-08\n",
            "Epoch 7/100\n",
            "94/94 [==============================] - 3s 26ms/step - loss: 48.5857 - mae: 49.0841 - lr: 1.9953e-08\n",
            "Epoch 8/100\n",
            "94/94 [==============================] - 2s 25ms/step - loss: 46.7666 - mae: 47.2649 - lr: 2.2387e-08\n",
            "Epoch 9/100\n",
            "94/94 [==============================] - 3s 25ms/step - loss: 44.9189 - mae: 45.4178 - lr: 2.5119e-08\n",
            "Epoch 10/100\n",
            "94/94 [==============================] - 3s 27ms/step - loss: 43.0426 - mae: 43.5410 - lr: 2.8184e-08\n",
            "Epoch 11/100\n",
            "94/94 [==============================] - 3s 29ms/step - loss: 41.1976 - mae: 41.6958 - lr: 3.1623e-08\n",
            "Epoch 12/100\n",
            "94/94 [==============================] - 3s 27ms/step - loss: 39.3794 - mae: 39.8771 - lr: 3.5481e-08\n",
            "Epoch 13/100\n",
            "94/94 [==============================] - 3s 26ms/step - loss: 37.7001 - mae: 38.1968 - lr: 3.9811e-08\n",
            "Epoch 14/100\n",
            "94/94 [==============================] - 3s 26ms/step - loss: 36.2405 - mae: 36.7380 - lr: 4.4668e-08\n",
            "Epoch 15/100\n",
            "94/94 [==============================] - 2s 25ms/step - loss: 34.9045 - mae: 35.4015 - lr: 5.0119e-08\n",
            "Epoch 16/100\n",
            "94/94 [==============================] - 3s 27ms/step - loss: 33.7723 - mae: 34.2694 - lr: 5.6234e-08\n",
            "Epoch 17/100\n",
            "94/94 [==============================] - 3s 27ms/step - loss: 32.8750 - mae: 33.3723 - lr: 6.3096e-08\n",
            "Epoch 18/100\n",
            "94/94 [==============================] - 3s 29ms/step - loss: 32.1465 - mae: 32.6433 - lr: 7.0795e-08\n",
            "Epoch 19/100\n",
            "94/94 [==============================] - 3s 26ms/step - loss: 31.6292 - mae: 32.1262 - lr: 7.9433e-08\n",
            "Epoch 20/100\n",
            "94/94 [==============================] - 2s 25ms/step - loss: 31.2262 - mae: 31.7222 - lr: 8.9125e-08\n",
            "Epoch 21/100\n",
            "94/94 [==============================] - 3s 28ms/step - loss: 30.9344 - mae: 31.4309 - lr: 1.0000e-07\n",
            "Epoch 22/100\n",
            "94/94 [==============================] - 3s 29ms/step - loss: 30.6908 - mae: 31.1868 - lr: 1.1220e-07\n",
            "Epoch 23/100\n",
            "94/94 [==============================] - 3s 27ms/step - loss: 30.4607 - mae: 30.9557 - lr: 1.2589e-07\n",
            "Epoch 24/100\n",
            "94/94 [==============================] - 3s 27ms/step - loss: 30.2624 - mae: 30.7581 - lr: 1.4125e-07\n",
            "Epoch 25/100\n",
            "94/94 [==============================] - 3s 26ms/step - loss: 30.0410 - mae: 30.5357 - lr: 1.5849e-07\n",
            "Epoch 26/100\n",
            "94/94 [==============================] - 3s 29ms/step - loss: 29.7688 - mae: 30.2638 - lr: 1.7783e-07\n",
            "Epoch 27/100\n",
            "94/94 [==============================] - 3s 28ms/step - loss: 29.5294 - mae: 30.0254 - lr: 1.9953e-07\n",
            "Epoch 28/100\n",
            "94/94 [==============================] - 3s 29ms/step - loss: 29.2643 - mae: 29.7598 - lr: 2.2387e-07\n",
            "Epoch 29/100\n",
            "94/94 [==============================] - 3s 29ms/step - loss: 28.9872 - mae: 29.4831 - lr: 2.5119e-07\n",
            "Epoch 30/100\n",
            "94/94 [==============================] - 3s 30ms/step - loss: 28.6554 - mae: 29.1498 - lr: 2.8184e-07\n",
            "Epoch 31/100\n",
            "94/94 [==============================] - 3s 26ms/step - loss: 28.3386 - mae: 28.8332 - lr: 3.1623e-07\n",
            "Epoch 32/100\n",
            "94/94 [==============================] - 3s 27ms/step - loss: 27.9851 - mae: 28.4792 - lr: 3.5481e-07\n",
            "Epoch 33/100\n",
            "94/94 [==============================] - 3s 29ms/step - loss: 27.5666 - mae: 28.0615 - lr: 3.9811e-07\n",
            "Epoch 34/100\n",
            "94/94 [==============================] - 3s 28ms/step - loss: 27.2414 - mae: 27.7361 - lr: 4.4668e-07\n",
            "Epoch 35/100\n",
            "94/94 [==============================] - 3s 26ms/step - loss: 26.8200 - mae: 27.3144 - lr: 5.0119e-07\n",
            "Epoch 36/100\n",
            "94/94 [==============================] - 3s 26ms/step - loss: 26.3638 - mae: 26.8579 - lr: 5.6234e-07\n",
            "Epoch 37/100\n",
            "94/94 [==============================] - 3s 28ms/step - loss: 25.9239 - mae: 26.4187 - lr: 6.3096e-07\n",
            "Epoch 38/100\n",
            "94/94 [==============================] - 3s 26ms/step - loss: 25.4499 - mae: 25.9445 - lr: 7.0795e-07\n",
            "Epoch 39/100\n",
            "94/94 [==============================] - 3s 28ms/step - loss: 25.0021 - mae: 25.4966 - lr: 7.9433e-07\n",
            "Epoch 40/100\n",
            "94/94 [==============================] - 3s 30ms/step - loss: 24.4221 - mae: 24.9157 - lr: 8.9125e-07\n",
            "Epoch 41/100\n",
            "94/94 [==============================] - 3s 26ms/step - loss: 23.9071 - mae: 24.4016 - lr: 1.0000e-06\n",
            "Epoch 42/100\n",
            "94/94 [==============================] - 3s 27ms/step - loss: 23.4445 - mae: 23.9391 - lr: 1.1220e-06\n",
            "Epoch 43/100\n",
            "94/94 [==============================] - 3s 28ms/step - loss: 22.9796 - mae: 23.4758 - lr: 1.2589e-06\n",
            "Epoch 44/100\n",
            "94/94 [==============================] - 3s 33ms/step - loss: 22.3872 - mae: 22.8808 - lr: 1.4125e-06\n",
            "Epoch 45/100\n",
            "94/94 [==============================] - 3s 28ms/step - loss: 21.8586 - mae: 22.3530 - lr: 1.5849e-06\n",
            "Epoch 46/100\n",
            "94/94 [==============================] - 3s 30ms/step - loss: 21.6062 - mae: 22.1004 - lr: 1.7783e-06\n",
            "Epoch 47/100\n",
            "94/94 [==============================] - 3s 28ms/step - loss: 21.0914 - mae: 21.5851 - lr: 1.9953e-06\n",
            "Epoch 48/100\n",
            "94/94 [==============================] - 3s 27ms/step - loss: 20.7886 - mae: 21.2817 - lr: 2.2387e-06\n",
            "Epoch 49/100\n",
            "94/94 [==============================] - 3s 26ms/step - loss: 20.5172 - mae: 21.0108 - lr: 2.5119e-06\n",
            "Epoch 50/100\n",
            "94/94 [==============================] - 3s 29ms/step - loss: 20.3145 - mae: 20.8074 - lr: 2.8184e-06\n",
            "Epoch 51/100\n",
            "94/94 [==============================] - 3s 25ms/step - loss: 20.4762 - mae: 20.9687 - lr: 3.1623e-06\n",
            "Epoch 52/100\n",
            "94/94 [==============================] - 3s 28ms/step - loss: 20.1111 - mae: 20.6046 - lr: 3.5481e-06\n",
            "Epoch 53/100\n",
            "94/94 [==============================] - 3s 26ms/step - loss: 20.4084 - mae: 20.9021 - lr: 3.9811e-06\n",
            "Epoch 54/100\n",
            "94/94 [==============================] - 3s 28ms/step - loss: 20.4534 - mae: 20.9473 - lr: 4.4668e-06\n",
            "Epoch 55/100\n",
            "94/94 [==============================] - 3s 28ms/step - loss: 20.7978 - mae: 21.2906 - lr: 5.0119e-06\n",
            "Epoch 56/100\n",
            "94/94 [==============================] - 3s 28ms/step - loss: 20.4130 - mae: 20.9049 - lr: 5.6234e-06\n",
            "Epoch 57/100\n",
            "94/94 [==============================] - 3s 26ms/step - loss: 21.0289 - mae: 21.5243 - lr: 6.3096e-06\n",
            "Epoch 58/100\n",
            "94/94 [==============================] - 3s 29ms/step - loss: 21.0501 - mae: 21.5434 - lr: 7.0795e-06\n",
            "Epoch 59/100\n",
            "94/94 [==============================] - 3s 28ms/step - loss: 20.9293 - mae: 21.4224 - lr: 7.9433e-06\n",
            "Epoch 60/100\n",
            "94/94 [==============================] - 3s 26ms/step - loss: 21.9917 - mae: 22.4853 - lr: 8.9125e-06\n",
            "Epoch 61/100\n",
            "94/94 [==============================] - 3s 26ms/step - loss: 22.1447 - mae: 22.6377 - lr: 1.0000e-05\n",
            "Epoch 62/100\n",
            "94/94 [==============================] - 3s 31ms/step - loss: 23.1323 - mae: 23.6264 - lr: 1.1220e-05\n",
            "Epoch 63/100\n",
            "94/94 [==============================] - 3s 31ms/step - loss: 23.6942 - mae: 24.1888 - lr: 1.2589e-05\n",
            "Epoch 64/100\n",
            "94/94 [==============================] - 3s 29ms/step - loss: 22.9565 - mae: 23.4507 - lr: 1.4125e-05\n",
            "Epoch 65/100\n",
            "94/94 [==============================] - 3s 27ms/step - loss: 24.4696 - mae: 24.9645 - lr: 1.5849e-05\n",
            "Epoch 66/100\n",
            "94/94 [==============================] - 3s 29ms/step - loss: 23.1867 - mae: 23.6817 - lr: 1.7783e-05\n",
            "Epoch 67/100\n",
            "94/94 [==============================] - 3s 26ms/step - loss: 23.3141 - mae: 23.8072 - lr: 1.9953e-05\n",
            "Epoch 68/100\n",
            "94/94 [==============================] - 3s 27ms/step - loss: 23.1013 - mae: 23.5958 - lr: 2.2387e-05\n",
            "Epoch 69/100\n",
            "94/94 [==============================] - 3s 26ms/step - loss: 25.4785 - mae: 25.9734 - lr: 2.5119e-05\n",
            "Epoch 70/100\n",
            "94/94 [==============================] - 3s 27ms/step - loss: 24.1528 - mae: 24.6463 - lr: 2.8184e-05\n",
            "Epoch 71/100\n",
            "94/94 [==============================] - 3s 28ms/step - loss: 25.8286 - mae: 26.3241 - lr: 3.1623e-05\n",
            "Epoch 72/100\n",
            "94/94 [==============================] - 3s 26ms/step - loss: 26.3535 - mae: 26.8501 - lr: 3.5481e-05\n",
            "Epoch 73/100\n",
            "94/94 [==============================] - 3s 26ms/step - loss: 25.7957 - mae: 26.2898 - lr: 3.9811e-05\n",
            "Epoch 74/100\n",
            "94/94 [==============================] - 3s 28ms/step - loss: 24.7714 - mae: 25.2661 - lr: 4.4668e-05\n",
            "Epoch 75/100\n",
            "94/94 [==============================] - 3s 26ms/step - loss: 25.8296 - mae: 26.3245 - lr: 5.0119e-05\n",
            "Epoch 76/100\n",
            "94/94 [==============================] - 3s 29ms/step - loss: 25.3841 - mae: 25.8801 - lr: 5.6234e-05\n",
            "Epoch 77/100\n",
            "94/94 [==============================] - 3s 29ms/step - loss: 25.1852 - mae: 25.6798 - lr: 6.3096e-05\n",
            "Epoch 78/100\n",
            "94/94 [==============================] - 3s 28ms/step - loss: 25.7745 - mae: 26.2696 - lr: 7.0795e-05\n",
            "Epoch 79/100\n",
            "94/94 [==============================] - 2s 25ms/step - loss: 25.7772 - mae: 26.2718 - lr: 7.9433e-05\n",
            "Epoch 80/100\n",
            "94/94 [==============================] - 3s 28ms/step - loss: 26.0792 - mae: 26.5739 - lr: 8.9125e-05\n",
            "Epoch 81/100\n",
            "94/94 [==============================] - 3s 25ms/step - loss: 26.9449 - mae: 27.4402 - lr: 1.0000e-04\n",
            "Epoch 82/100\n",
            "94/94 [==============================] - 3s 27ms/step - loss: 27.9616 - mae: 28.4570 - lr: 1.1220e-04\n",
            "Epoch 83/100\n",
            "94/94 [==============================] - 3s 29ms/step - loss: 28.6529 - mae: 29.1467 - lr: 1.2589e-04\n",
            "Epoch 84/100\n",
            "94/94 [==============================] - 3s 29ms/step - loss: 30.0241 - mae: 30.5192 - lr: 1.4125e-04\n",
            "Epoch 85/100\n",
            "94/94 [==============================] - 3s 26ms/step - loss: 36.8727 - mae: 37.3688 - lr: 1.5849e-04\n",
            "Epoch 86/100\n",
            "94/94 [==============================] - 3s 30ms/step - loss: 31.5836 - mae: 32.0798 - lr: 1.7783e-04\n",
            "Epoch 87/100\n",
            "94/94 [==============================] - 3s 28ms/step - loss: 31.7391 - mae: 32.2354 - lr: 1.9953e-04\n",
            "Epoch 88/100\n",
            "94/94 [==============================] - 3s 30ms/step - loss: 34.6591 - mae: 35.1544 - lr: 2.2387e-04\n",
            "Epoch 89/100\n",
            "94/94 [==============================] - 3s 27ms/step - loss: 35.2185 - mae: 35.7146 - lr: 2.5119e-04\n",
            "Epoch 90/100\n",
            "94/94 [==============================] - 3s 27ms/step - loss: 36.8171 - mae: 37.3130 - lr: 2.8184e-04\n",
            "Epoch 91/100\n",
            "94/94 [==============================] - 3s 29ms/step - loss: 37.2484 - mae: 37.7457 - lr: 3.1623e-04\n",
            "Epoch 92/100\n",
            "94/94 [==============================] - 3s 28ms/step - loss: 40.4548 - mae: 40.9518 - lr: 3.5481e-04\n",
            "Epoch 93/100\n",
            "94/94 [==============================] - 3s 29ms/step - loss: 42.0265 - mae: 42.5244 - lr: 3.9811e-04\n",
            "Epoch 94/100\n",
            "94/94 [==============================] - 3s 32ms/step - loss: 46.3769 - mae: 46.8743 - lr: 4.4668e-04\n",
            "Epoch 95/100\n",
            "94/94 [==============================] - 4s 38ms/step - loss: 49.5950 - mae: 50.0934 - lr: 5.0119e-04\n",
            "Epoch 96/100\n",
            "94/94 [==============================] - 5s 51ms/step - loss: 52.3958 - mae: 52.8938 - lr: 5.6234e-04\n",
            "Epoch 97/100\n",
            "94/94 [==============================] - 4s 40ms/step - loss: 58.7330 - mae: 59.2310 - lr: 6.3096e-04\n",
            "Epoch 98/100\n",
            "94/94 [==============================] - 4s 39ms/step - loss: 58.1940 - mae: 58.6917 - lr: 7.0795e-04\n",
            "Epoch 99/100\n",
            "94/94 [==============================] - 4s 38ms/step - loss: 61.6867 - mae: 62.1852 - lr: 7.9433e-04\n",
            "Epoch 100/100\n",
            "94/94 [==============================] - 3s 29ms/step - loss: 65.6456 - mae: 66.1439 - lr: 8.9125e-04\n"
          ]
        }
      ]
    },
    {
      "cell_type": "code",
      "source": [
        "plt.plot(hist5.history[\"loss\"])\n",
        "plt.plot(hist5.history[\"mae\"])"
      ],
      "metadata": {
        "colab": {
          "base_uri": "https://localhost:8080/",
          "height": 282
        },
        "id": "hXdmj0wIUsdt",
        "outputId": "1185b828-cca0-4cd5-ccc9-58a7f5fa25a9"
      },
      "execution_count": 93,
      "outputs": [
        {
          "output_type": "execute_result",
          "data": {
            "text/plain": [
              "[<matplotlib.lines.Line2D at 0x7fe2d1f90450>]"
            ]
          },
          "metadata": {},
          "execution_count": 93
        },
        {
          "output_type": "display_data",
          "data": {
            "text/plain": [
              "<Figure size 432x288 with 1 Axes>"
            ],
            "image/png": "[encoded data removed]"
          },
          "metadata": {
            "needs_background": "light"
          }
        }
      ]
    },
    {
      "cell_type": "code",
      "source": [
        "plt.plot(hist5.history[\"lr\"], hist5.history[\"loss\"])"
      ],
      "metadata": {
        "colab": {
          "base_uri": "https://localhost:8080/",
          "height": 282
        },
        "id": "ZPHY-YZ5UshJ",
        "outputId": "4ee645f7-d828-462c-92c1-85391168315a"
      },
      "execution_count": 94,
      "outputs": [
        {
          "output_type": "execute_result",
          "data": {
            "text/plain": [
              "[<matplotlib.lines.Line2D at 0x7fe2d1eeee50>]"
            ]
          },
          "metadata": {},
          "execution_count": 94
        },
        {
          "output_type": "display_data",
          "data": {
            "text/plain": [
              "<Figure size 432x288 with 1 Axes>"
            ],
            "image/png": "[encoded data removed]"
          },
          "metadata": {
            "needs_background": "light"
          }
        }
      ]
    },
    {
      "cell_type": "code",
      "source": [
        "tf.keras.backend.clear_session()\n",
        "\n",
        "model_5 = tf.keras.Sequential([\n",
        "    tf.keras.layers.Lambda(lambda x: tf.expand_dims(x, axis=-1),  input_shape=[window_size]),\n",
        "    tf.keras.layers.Bidirectional(tf.keras.layers.LSTM(64, return_sequences=True)),\n",
        "    tf.keras.layers.Bidirectional(tf.keras.layers.LSTM(64)),\n",
        "    tf.keras.layers.Dropout(0.2),\n",
        "    tf.keras.layers.Dense(30, activation=\"relu\"),\n",
        "    tf.keras.layers.Dense(1),\n",
        "    tf.keras.layers.Lambda(lambda x: x*400),\n",
        "])\n",
        "\n",
        "lr_scheduler = tf.keras.callbacks.LearningRateScheduler(lambda epoch: 1e-8*10**(epoch/20))\n",
        "\n",
        "model_5.compile(optimizer=\"sgd\", loss=tf.keras.losses.Huber(), metrics=[\"mae\"]) \n",
        "hist6 = model_5.fit(train_set, epochs=100, callbacks=lr_scheduler)"
      ],
      "metadata": {
        "colab": {
          "base_uri": "https://localhost:8080/"
        },
        "id": "aVAkn9SIYlZ-",
        "outputId": "b8cd1321-216d-436e-856a-2c0c6fd8b6d8"
      },
      "execution_count": 96,
      "outputs": [
        {
          "output_type": "stream",
          "name": "stdout",
          "text": [
            "Epoch 1/100\n",
            "94/94 [==============================] - 14s 57ms/step - loss: 103.0532 - mae: 103.5519 - lr: 1.0000e-08\n",
            "Epoch 2/100\n",
            "94/94 [==============================] - 5s 53ms/step - loss: 97.5409 - mae: 98.0390 - lr: 1.1220e-08\n",
            "Epoch 3/100\n",
            "94/94 [==============================] - 5s 48ms/step - loss: 97.1108 - mae: 97.6102 - lr: 1.2589e-08\n",
            "Epoch 4/100\n",
            "94/94 [==============================] - 5s 48ms/step - loss: 95.3725 - mae: 95.8713 - lr: 1.4125e-08\n",
            "Epoch 5/100\n",
            "94/94 [==============================] - 5s 46ms/step - loss: 92.5704 - mae: 93.0679 - lr: 1.5849e-08\n",
            "Epoch 6/100\n",
            "94/94 [==============================] - 5s 49ms/step - loss: 90.3431 - mae: 90.8417 - lr: 1.7783e-08\n",
            "Epoch 7/100\n",
            "94/94 [==============================] - 5s 48ms/step - loss: 88.8162 - mae: 89.3146 - lr: 1.9953e-08\n",
            "Epoch 8/100\n",
            "94/94 [==============================] - 5s 49ms/step - loss: 87.8859 - mae: 88.3840 - lr: 2.2387e-08\n",
            "Epoch 9/100\n",
            "94/94 [==============================] - 5s 46ms/step - loss: 85.3210 - mae: 85.8196 - lr: 2.5119e-08\n",
            "Epoch 10/100\n",
            "94/94 [==============================] - 5s 48ms/step - loss: 83.7794 - mae: 84.2785 - lr: 2.8184e-08\n",
            "Epoch 11/100\n",
            "94/94 [==============================] - 5s 48ms/step - loss: 80.9391 - mae: 81.4378 - lr: 3.1623e-08\n",
            "Epoch 12/100\n",
            "94/94 [==============================] - 5s 47ms/step - loss: 78.6635 - mae: 79.1612 - lr: 3.5481e-08\n",
            "Epoch 13/100\n",
            "94/94 [==============================] - 5s 51ms/step - loss: 77.6116 - mae: 78.1101 - lr: 3.9811e-08\n",
            "Epoch 14/100\n",
            "94/94 [==============================] - 5s 47ms/step - loss: 75.6192 - mae: 76.1179 - lr: 4.4668e-08\n",
            "Epoch 15/100\n",
            "94/94 [==============================] - 7s 72ms/step - loss: 72.2353 - mae: 72.7338 - lr: 5.0119e-08\n",
            "Epoch 16/100\n",
            "94/94 [==============================] - 4s 46ms/step - loss: 70.2049 - mae: 70.7033 - lr: 5.6234e-08\n",
            "Epoch 17/100\n",
            "94/94 [==============================] - 5s 47ms/step - loss: 68.2579 - mae: 68.7568 - lr: 6.3096e-08\n",
            "Epoch 18/100\n",
            "94/94 [==============================] - 5s 49ms/step - loss: 64.8963 - mae: 65.3946 - lr: 7.0795e-08\n",
            "Epoch 19/100\n",
            "94/94 [==============================] - 5s 51ms/step - loss: 65.1760 - mae: 65.6744 - lr: 7.9433e-08\n",
            "Epoch 20/100\n",
            "94/94 [==============================] - 5s 47ms/step - loss: 64.0631 - mae: 64.5615 - lr: 8.9125e-08\n",
            "Epoch 21/100\n",
            "94/94 [==============================] - 4s 46ms/step - loss: 63.0623 - mae: 63.5611 - lr: 1.0000e-07\n",
            "Epoch 22/100\n",
            "94/94 [==============================] - 5s 50ms/step - loss: 61.1713 - mae: 61.6690 - lr: 1.1220e-07\n",
            "Epoch 23/100\n",
            "94/94 [==============================] - 5s 47ms/step - loss: 62.4183 - mae: 62.9169 - lr: 1.2589e-07\n",
            "Epoch 24/100\n",
            "94/94 [==============================] - 5s 47ms/step - loss: 59.6657 - mae: 60.1642 - lr: 1.4125e-07\n",
            "Epoch 25/100\n",
            "94/94 [==============================] - 5s 52ms/step - loss: 58.9373 - mae: 59.4347 - lr: 1.5849e-07\n",
            "Epoch 26/100\n",
            "94/94 [==============================] - 5s 51ms/step - loss: 58.7104 - mae: 59.2090 - lr: 1.7783e-07\n",
            "Epoch 27/100\n",
            "94/94 [==============================] - 4s 45ms/step - loss: 57.2664 - mae: 57.7648 - lr: 1.9953e-07\n",
            "Epoch 28/100\n",
            "94/94 [==============================] - 5s 48ms/step - loss: 57.4400 - mae: 57.9379 - lr: 2.2387e-07\n",
            "Epoch 29/100\n",
            "94/94 [==============================] - 5s 50ms/step - loss: 56.1172 - mae: 56.6161 - lr: 2.5119e-07\n",
            "Epoch 30/100\n",
            "94/94 [==============================] - 5s 49ms/step - loss: 53.6658 - mae: 54.1639 - lr: 2.8184e-07\n",
            "Epoch 31/100\n",
            "94/94 [==============================] - 5s 49ms/step - loss: 52.2095 - mae: 52.7072 - lr: 3.1623e-07\n",
            "Epoch 32/100\n",
            "94/94 [==============================] - 5s 49ms/step - loss: 52.3825 - mae: 52.8802 - lr: 3.5481e-07\n",
            "Epoch 33/100\n",
            "94/94 [==============================] - 4s 45ms/step - loss: 50.8513 - mae: 51.3496 - lr: 3.9811e-07\n",
            "Epoch 34/100\n",
            "94/94 [==============================] - 5s 50ms/step - loss: 49.2441 - mae: 49.7419 - lr: 4.4668e-07\n",
            "Epoch 35/100\n",
            "94/94 [==============================] - 5s 53ms/step - loss: 48.3941 - mae: 48.8921 - lr: 5.0119e-07\n",
            "Epoch 36/100\n",
            "94/94 [==============================] - 5s 52ms/step - loss: 45.9310 - mae: 46.4286 - lr: 5.6234e-07\n",
            "Epoch 37/100\n",
            "94/94 [==============================] - 5s 48ms/step - loss: 44.2109 - mae: 44.7086 - lr: 6.3096e-07\n",
            "Epoch 38/100\n",
            "94/94 [==============================] - 4s 46ms/step - loss: 42.0905 - mae: 42.5881 - lr: 7.0795e-07\n",
            "Epoch 39/100\n",
            "94/94 [==============================] - 4s 46ms/step - loss: 40.0987 - mae: 40.5955 - lr: 7.9433e-07\n",
            "Epoch 40/100\n",
            "94/94 [==============================] - 5s 48ms/step - loss: 39.7420 - mae: 40.2390 - lr: 8.9125e-07\n",
            "Epoch 41/100\n",
            "94/94 [==============================] - 5s 48ms/step - loss: 39.5622 - mae: 40.0588 - lr: 1.0000e-06\n",
            "Epoch 42/100\n",
            "94/94 [==============================] - 5s 47ms/step - loss: 38.2233 - mae: 38.7211 - lr: 1.1220e-06\n",
            "Epoch 43/100\n",
            "94/94 [==============================] - 5s 50ms/step - loss: 36.4937 - mae: 36.9909 - lr: 1.2589e-06\n",
            "Epoch 44/100\n",
            "94/94 [==============================] - 5s 52ms/step - loss: 37.1664 - mae: 37.6627 - lr: 1.4125e-06\n",
            "Epoch 45/100\n",
            "94/94 [==============================] - 5s 49ms/step - loss: 34.8180 - mae: 35.3141 - lr: 1.5849e-06\n",
            "Epoch 46/100\n",
            "94/94 [==============================] - 4s 46ms/step - loss: 34.2655 - mae: 34.7620 - lr: 1.7783e-06\n",
            "Epoch 47/100\n",
            "94/94 [==============================] - 5s 51ms/step - loss: 33.1511 - mae: 33.6480 - lr: 1.9953e-06\n",
            "Epoch 48/100\n",
            "94/94 [==============================] - 5s 49ms/step - loss: 32.9447 - mae: 33.4404 - lr: 2.2387e-06\n",
            "Epoch 49/100\n",
            "94/94 [==============================] - 4s 45ms/step - loss: 32.5938 - mae: 33.0898 - lr: 2.5119e-06\n",
            "Epoch 50/100\n",
            "94/94 [==============================] - 5s 55ms/step - loss: 32.0330 - mae: 32.5289 - lr: 2.8184e-06\n",
            "Epoch 51/100\n",
            "94/94 [==============================] - 5s 48ms/step - loss: 31.0591 - mae: 31.5558 - lr: 3.1623e-06\n",
            "Epoch 52/100\n",
            "94/94 [==============================] - 5s 49ms/step - loss: 29.6211 - mae: 30.1172 - lr: 3.5481e-06\n",
            "Epoch 53/100\n",
            "94/94 [==============================] - 5s 53ms/step - loss: 29.3844 - mae: 29.8793 - lr: 3.9811e-06\n",
            "Epoch 54/100\n",
            "94/94 [==============================] - 5s 51ms/step - loss: 29.3021 - mae: 29.7989 - lr: 4.4668e-06\n",
            "Epoch 55/100\n",
            "94/94 [==============================] - 5s 50ms/step - loss: 28.5357 - mae: 29.0306 - lr: 5.0119e-06\n",
            "Epoch 56/100\n",
            "94/94 [==============================] - 5s 50ms/step - loss: 27.8460 - mae: 28.3413 - lr: 5.6234e-06\n",
            "Epoch 57/100\n",
            "94/94 [==============================] - 5s 53ms/step - loss: 27.4043 - mae: 27.9009 - lr: 6.3096e-06\n",
            "Epoch 58/100\n",
            "94/94 [==============================] - 5s 52ms/step - loss: 28.1376 - mae: 28.6336 - lr: 7.0795e-06\n",
            "Epoch 59/100\n",
            "94/94 [==============================] - 5s 49ms/step - loss: 26.8075 - mae: 27.3028 - lr: 7.9433e-06\n",
            "Epoch 60/100\n",
            "94/94 [==============================] - 5s 51ms/step - loss: 26.4430 - mae: 26.9381 - lr: 8.9125e-06\n",
            "Epoch 61/100\n",
            "94/94 [==============================] - 5s 51ms/step - loss: 27.6691 - mae: 28.1656 - lr: 1.0000e-05\n",
            "Epoch 62/100\n",
            "94/94 [==============================] - 5s 51ms/step - loss: 26.0834 - mae: 26.5772 - lr: 1.1220e-05\n",
            "Epoch 63/100\n",
            "94/94 [==============================] - 5s 48ms/step - loss: 26.6921 - mae: 27.1893 - lr: 1.2589e-05\n",
            "Epoch 64/100\n",
            "94/94 [==============================] - 5s 50ms/step - loss: 26.2525 - mae: 26.7485 - lr: 1.4125e-05\n",
            "Epoch 65/100\n",
            "94/94 [==============================] - 5s 47ms/step - loss: 25.7312 - mae: 26.2251 - lr: 1.5849e-05\n",
            "Epoch 66/100\n",
            "94/94 [==============================] - 5s 53ms/step - loss: 26.3403 - mae: 26.8352 - lr: 1.7783e-05\n",
            "Epoch 67/100\n",
            "94/94 [==============================] - 5s 49ms/step - loss: 25.0568 - mae: 25.5513 - lr: 1.9953e-05\n",
            "Epoch 68/100\n",
            "94/94 [==============================] - 5s 49ms/step - loss: 25.5116 - mae: 26.0070 - lr: 2.2387e-05\n",
            "Epoch 69/100\n",
            "94/94 [==============================] - 5s 51ms/step - loss: 25.3477 - mae: 25.8416 - lr: 2.5119e-05\n",
            "Epoch 70/100\n",
            "94/94 [==============================] - 5s 47ms/step - loss: 26.4920 - mae: 26.9869 - lr: 2.8184e-05\n",
            "Epoch 71/100\n",
            "94/94 [==============================] - 5s 52ms/step - loss: 25.4868 - mae: 25.9834 - lr: 3.1623e-05\n",
            "Epoch 72/100\n",
            "94/94 [==============================] - 5s 53ms/step - loss: 24.4428 - mae: 24.9386 - lr: 3.5481e-05\n",
            "Epoch 73/100\n",
            "94/94 [==============================] - 5s 49ms/step - loss: 25.5760 - mae: 26.0718 - lr: 3.9811e-05\n",
            "Epoch 74/100\n",
            "94/94 [==============================] - 4s 46ms/step - loss: 25.2111 - mae: 25.7066 - lr: 4.4668e-05\n",
            "Epoch 75/100\n",
            "94/94 [==============================] - 4s 44ms/step - loss: 24.9974 - mae: 25.4923 - lr: 5.0119e-05\n",
            "Epoch 76/100\n",
            "94/94 [==============================] - 4s 45ms/step - loss: 25.6665 - mae: 26.1619 - lr: 5.6234e-05\n",
            "Epoch 77/100\n",
            "94/94 [==============================] - 4s 45ms/step - loss: 26.4195 - mae: 26.9144 - lr: 6.3096e-05\n",
            "Epoch 78/100\n",
            "94/94 [==============================] - 5s 48ms/step - loss: 25.8255 - mae: 26.3215 - lr: 7.0795e-05\n",
            "Epoch 79/100\n",
            "94/94 [==============================] - 5s 50ms/step - loss: 25.3267 - mae: 25.8224 - lr: 7.9433e-05\n",
            "Epoch 80/100\n",
            "94/94 [==============================] - 5s 48ms/step - loss: 26.3442 - mae: 26.8391 - lr: 8.9125e-05\n",
            "Epoch 81/100\n",
            "94/94 [==============================] - 5s 49ms/step - loss: 26.3384 - mae: 26.8333 - lr: 1.0000e-04\n",
            "Epoch 82/100\n",
            "94/94 [==============================] - 4s 45ms/step - loss: 25.9754 - mae: 26.4712 - lr: 1.1220e-04\n",
            "Epoch 83/100\n",
            "94/94 [==============================] - 4s 45ms/step - loss: 27.4008 - mae: 27.8959 - lr: 1.2589e-04\n",
            "Epoch 84/100\n",
            "94/94 [==============================] - 4s 46ms/step - loss: 31.4337 - mae: 31.9288 - lr: 1.4125e-04\n",
            "Epoch 85/100\n",
            "94/94 [==============================] - 5s 48ms/step - loss: 28.7393 - mae: 29.2344 - lr: 1.5849e-04\n",
            "Epoch 86/100\n",
            "94/94 [==============================] - 5s 49ms/step - loss: 30.5340 - mae: 31.0300 - lr: 1.7783e-04\n",
            "Epoch 87/100\n",
            "94/94 [==============================] - 5s 51ms/step - loss: 29.9257 - mae: 30.4216 - lr: 1.9953e-04\n",
            "Epoch 88/100\n",
            "94/94 [==============================] - 5s 51ms/step - loss: 31.4517 - mae: 31.9475 - lr: 2.2387e-04\n",
            "Epoch 89/100\n",
            "94/94 [==============================] - 5s 47ms/step - loss: 32.9443 - mae: 33.4408 - lr: 2.5119e-04\n",
            "Epoch 90/100\n",
            "94/94 [==============================] - 4s 46ms/step - loss: 35.3876 - mae: 35.8840 - lr: 2.8184e-04\n",
            "Epoch 91/100\n",
            "94/94 [==============================] - 5s 47ms/step - loss: 38.1916 - mae: 38.6890 - lr: 3.1623e-04\n",
            "Epoch 92/100\n",
            "94/94 [==============================] - 5s 49ms/step - loss: 39.6588 - mae: 40.1556 - lr: 3.5481e-04\n",
            "Epoch 93/100\n",
            "94/94 [==============================] - 5s 49ms/step - loss: 42.5345 - mae: 43.0321 - lr: 3.9811e-04\n",
            "Epoch 94/100\n",
            "94/94 [==============================] - 5s 50ms/step - loss: 42.9436 - mae: 43.4405 - lr: 4.4668e-04\n",
            "Epoch 95/100\n",
            "94/94 [==============================] - 5s 52ms/step - loss: 48.5467 - mae: 49.0447 - lr: 5.0119e-04\n",
            "Epoch 96/100\n",
            "94/94 [==============================] - 5s 50ms/step - loss: 51.4686 - mae: 51.9669 - lr: 5.6234e-04\n",
            "Epoch 97/100\n",
            "94/94 [==============================] - 5s 53ms/step - loss: 56.7113 - mae: 57.2092 - lr: 6.3096e-04\n",
            "Epoch 98/100\n",
            "94/94 [==============================] - 5s 47ms/step - loss: 60.1757 - mae: 60.6735 - lr: 7.0795e-04\n",
            "Epoch 99/100\n",
            "94/94 [==============================] - 5s 49ms/step - loss: 63.5438 - mae: 64.0417 - lr: 7.9433e-04\n",
            "Epoch 100/100\n",
            "94/94 [==============================] - 5s 47ms/step - loss: 69.4998 - mae: 69.9984 - lr: 8.9125e-04\n"
          ]
        }
      ]
    },
    {
      "cell_type": "code",
      "source": [
        "plt.plot(hist6.history[\"loss\"])\n",
        "plt.plot(hist6.history[\"mae\"])"
      ],
      "metadata": {
        "colab": {
          "base_uri": "https://localhost:8080/",
          "height": 282
        },
        "id": "po7aoem5Y9_A",
        "outputId": "a6fca4d8-6cbf-410d-ab6f-770eacdea71b"
      },
      "execution_count": 116,
      "outputs": [
        {
          "output_type": "execute_result",
          "data": {
            "text/plain": [
              "[<matplotlib.lines.Line2D at 0x7fe2ca968290>]"
            ]
          },
          "metadata": {},
          "execution_count": 116
        },
        {
          "output_type": "display_data",
          "data": {
            "text/plain": [
              "<Figure size 432x288 with 1 Axes>"
            ],
            "image/png": "[encoded data removed]"
          },
          "metadata": {
            "needs_background": "light"
          }
        }
      ]
    },
    {
      "cell_type": "code",
      "source": [
        "forecast_series = series[split_time - window_size: -1]\n",
        "forecast = model_forecast(model_5, forecast_series, 20, 32)\n",
        "res = forecast.squeeze()\n",
        "\n",
        "plt.plot(test_time, x_test)\n",
        "plt.plot(test_time, res)"
      ],
      "metadata": {
        "colab": {
          "base_uri": "https://localhost:8080/",
          "height": 300
        },
        "id": "KCPwSA6kbLgr",
        "outputId": "eeba8331-0007-4957-b782-b363f1ebf82f"
      },
      "execution_count": 99,
      "outputs": [
        {
          "output_type": "stream",
          "name": "stdout",
          "text": [
            "8/8 [==============================] - 0s 26ms/step\n"
          ]
        },
        {
          "output_type": "execute_result",
          "data": {
            "text/plain": [
              "[<matplotlib.lines.Line2D at 0x7fe2d59d1210>]"
            ]
          },
          "metadata": {},
          "execution_count": 99
        },
        {
          "output_type": "display_data",
          "data": {
            "text/plain": [
              "<Figure size 432x288 with 1 Axes>"
            ],
            "image/png": "[encoded data removed]"
          },
          "metadata": {
            "needs_background": "light"
          }
        }
      ]
    },
    {
      "cell_type": "markdown",
      "source": [
        "## Decaying Learning Rate"
      ],
      "metadata": {
        "id": "F8xbNHN8dgIJ"
      }
    },
    {
      "cell_type": "markdown",
      "source": [
        "\n",
        "\n",
        "```\n",
        "def decayed_learning_rate(step):\n",
        "  return initial_learning_rate * decay_rate ^ (step / decay_steps)```\n",
        "\n"
      ],
      "metadata": {
        "id": "_cXtb9mPdl8d"
      }
    },
    {
      "cell_type": "code",
      "source": [
        "test_set"
      ],
      "metadata": {
        "colab": {
          "base_uri": "https://localhost:8080/"
        },
        "id": "UULAuT4_h4Sm",
        "outputId": "04ce4d11-3957-4c04-c8b4-1aac6ac8f2be"
      },
      "execution_count": 114,
      "outputs": [
        {
          "output_type": "execute_result",
          "data": {
            "text/plain": [
              "<PrefetchDataset element_spec=(TensorSpec(shape=(None, None), dtype=tf.float64, name=None), TensorSpec(shape=(None,), dtype=tf.float64, name=None))>"
            ]
          },
          "metadata": {},
          "execution_count": 114
        }
      ]
    },
    {
      "cell_type": "code",
      "source": [
        "%%time\n",
        "\n",
        "initial_lr = 1e-7\n",
        "\n",
        "lr_s = tf.keras.optimizers.schedules.ExponentialDecay(\n",
        "    initial_lr,\n",
        "    decay_steps=400,\n",
        "    decay_rate=0.95,\n",
        "    staircase=True\n",
        ")\n",
        "\n",
        "opt = tf.keras.optimizers.SGD(learning_rate=lr_s)\n",
        "\n",
        "model_5.compile(opt, loss=tf.keras.losses.Huber(), metrics=[\"mae\"])\n",
        "hist_7 = model_5.fit(train_set, epochs=70, validation_data=val_set)"
      ],
      "metadata": {
        "colab": {
          "base_uri": "https://localhost:8080/"
        },
        "id": "fMH3cSKTdNkH",
        "outputId": "7dc317fe-ff2e-4f2c-ea3d-1c82a77c3a18"
      },
      "execution_count": 118,
      "outputs": [
        {
          "output_type": "stream",
          "name": "stdout",
          "text": [
            "Epoch 1/70\n",
            "94/94 [==============================] - 19s 92ms/step - loss: 27.5167 - mae: 28.0118 - val_loss: 15.9277 - val_mae: 16.4245\n",
            "Epoch 2/70\n",
            "94/94 [==============================] - 7s 72ms/step - loss: 27.3302 - mae: 27.8257 - val_loss: 15.8763 - val_mae: 16.3733\n",
            "Epoch 3/70\n",
            "94/94 [==============================] - 7s 68ms/step - loss: 27.2699 - mae: 27.7647 - val_loss: 15.7856 - val_mae: 16.2831\n",
            "Epoch 4/70\n",
            "94/94 [==============================] - 5s 49ms/step - loss: 26.8696 - mae: 27.3645 - val_loss: 15.7385 - val_mae: 16.2363\n",
            "Epoch 5/70\n",
            "94/94 [==============================] - 5s 53ms/step - loss: 26.8135 - mae: 27.3092 - val_loss: 15.6869 - val_mae: 16.1849\n",
            "Epoch 6/70\n",
            "94/94 [==============================] - 5s 48ms/step - loss: 27.2044 - mae: 27.6984 - val_loss: 15.6237 - val_mae: 16.1219\n",
            "Epoch 7/70\n",
            "94/94 [==============================] - 4s 46ms/step - loss: 26.7610 - mae: 27.2564 - val_loss: 15.5575 - val_mae: 16.0559\n",
            "Epoch 8/70\n",
            "94/94 [==============================] - 5s 49ms/step - loss: 27.3479 - mae: 27.8433 - val_loss: 15.4692 - val_mae: 15.9677\n",
            "Epoch 9/70\n",
            "94/94 [==============================] - 5s 53ms/step - loss: 26.9768 - mae: 27.4718 - val_loss: 15.3665 - val_mae: 15.8650\n",
            "Epoch 10/70\n",
            "94/94 [==============================] - 5s 48ms/step - loss: 27.2198 - mae: 27.7150 - val_loss: 15.3238 - val_mae: 15.8223\n",
            "Epoch 11/70\n",
            "94/94 [==============================] - 5s 50ms/step - loss: 26.9314 - mae: 27.4253 - val_loss: 15.2616 - val_mae: 15.7603\n",
            "Epoch 12/70\n",
            "94/94 [==============================] - 5s 51ms/step - loss: 27.3100 - mae: 27.8049 - val_loss: 15.2067 - val_mae: 15.7056\n",
            "Epoch 13/70\n",
            "94/94 [==============================] - 5s 53ms/step - loss: 27.1893 - mae: 27.6829 - val_loss: 15.1657 - val_mae: 15.6646\n",
            "Epoch 14/70\n",
            "94/94 [==============================] - 5s 51ms/step - loss: 27.0746 - mae: 27.5699 - val_loss: 15.1134 - val_mae: 15.6124\n",
            "Epoch 15/70\n",
            "94/94 [==============================] - 5s 49ms/step - loss: 27.0315 - mae: 27.5262 - val_loss: 15.0642 - val_mae: 15.5633\n",
            "Epoch 16/70\n",
            "94/94 [==============================] - 5s 48ms/step - loss: 26.8570 - mae: 27.3513 - val_loss: 15.0094 - val_mae: 15.5085\n",
            "Epoch 17/70\n",
            "94/94 [==============================] - 5s 51ms/step - loss: 26.9695 - mae: 27.4636 - val_loss: 14.9656 - val_mae: 15.4647\n",
            "Epoch 18/70\n",
            "94/94 [==============================] - 5s 51ms/step - loss: 26.8580 - mae: 27.3523 - val_loss: 14.9311 - val_mae: 15.4303\n",
            "Epoch 19/70\n",
            "94/94 [==============================] - 5s 51ms/step - loss: 26.6807 - mae: 27.1756 - val_loss: 14.9018 - val_mae: 15.4010\n",
            "Epoch 20/70\n",
            "94/94 [==============================] - 5s 49ms/step - loss: 27.1877 - mae: 27.6833 - val_loss: 14.8931 - val_mae: 15.3923\n",
            "Epoch 21/70\n",
            "94/94 [==============================] - 5s 51ms/step - loss: 26.7533 - mae: 27.2467 - val_loss: 14.8642 - val_mae: 15.3634\n",
            "Epoch 22/70\n",
            "94/94 [==============================] - 5s 47ms/step - loss: 26.8149 - mae: 27.3087 - val_loss: 14.8471 - val_mae: 15.3463\n",
            "Epoch 23/70\n",
            "94/94 [==============================] - 5s 50ms/step - loss: 26.4422 - mae: 26.9361 - val_loss: 14.8070 - val_mae: 15.3062\n",
            "Epoch 24/70\n",
            "94/94 [==============================] - 5s 50ms/step - loss: 26.6034 - mae: 27.0977 - val_loss: 14.7695 - val_mae: 15.2687\n",
            "Epoch 25/70\n",
            "94/94 [==============================] - 5s 55ms/step - loss: 26.8437 - mae: 27.3379 - val_loss: 14.7509 - val_mae: 15.2501\n",
            "Epoch 26/70\n",
            "94/94 [==============================] - 5s 54ms/step - loss: 26.7359 - mae: 27.2310 - val_loss: 14.7236 - val_mae: 15.2229\n",
            "Epoch 27/70\n",
            "94/94 [==============================] - 5s 51ms/step - loss: 26.7772 - mae: 27.2714 - val_loss: 14.7056 - val_mae: 15.2048\n",
            "Epoch 28/70\n",
            "94/94 [==============================] - 5s 47ms/step - loss: 26.9657 - mae: 27.4601 - val_loss: 14.6901 - val_mae: 15.1893\n",
            "Epoch 29/70\n",
            "94/94 [==============================] - 5s 48ms/step - loss: 26.6470 - mae: 27.1419 - val_loss: 14.6625 - val_mae: 15.1618\n",
            "Epoch 30/70\n",
            "94/94 [==============================] - 5s 53ms/step - loss: 26.5851 - mae: 27.0802 - val_loss: 14.6128 - val_mae: 15.1120\n",
            "Epoch 31/70\n",
            "94/94 [==============================] - 5s 52ms/step - loss: 26.6912 - mae: 27.1859 - val_loss: 14.5929 - val_mae: 15.0922\n",
            "Epoch 32/70\n",
            "94/94 [==============================] - 6s 56ms/step - loss: 26.6105 - mae: 27.1045 - val_loss: 14.5581 - val_mae: 15.0573\n",
            "Epoch 33/70\n",
            "94/94 [==============================] - 5s 50ms/step - loss: 26.3429 - mae: 26.8386 - val_loss: 14.5042 - val_mae: 15.0035\n",
            "Epoch 34/70\n",
            "94/94 [==============================] - 5s 47ms/step - loss: 26.5891 - mae: 27.0840 - val_loss: 14.4740 - val_mae: 14.9733\n",
            "Epoch 35/70\n",
            "94/94 [==============================] - 5s 50ms/step - loss: 26.6616 - mae: 27.1564 - val_loss: 14.4438 - val_mae: 14.9431\n",
            "Epoch 36/70\n",
            "94/94 [==============================] - 5s 47ms/step - loss: 26.5772 - mae: 27.0729 - val_loss: 14.4220 - val_mae: 14.9213\n",
            "Epoch 37/70\n",
            "94/94 [==============================] - 5s 51ms/step - loss: 26.5752 - mae: 27.0703 - val_loss: 14.3893 - val_mae: 14.8885\n",
            "Epoch 38/70\n",
            "94/94 [==============================] - 5s 48ms/step - loss: 26.2478 - mae: 26.7427 - val_loss: 14.3606 - val_mae: 14.8598\n",
            "Epoch 39/70\n",
            "94/94 [==============================] - 5s 47ms/step - loss: 26.7994 - mae: 27.2938 - val_loss: 14.3329 - val_mae: 14.8322\n",
            "Epoch 40/70\n",
            "94/94 [==============================] - 5s 47ms/step - loss: 26.4125 - mae: 26.9081 - val_loss: 14.3205 - val_mae: 14.8197\n",
            "Epoch 41/70\n",
            "94/94 [==============================] - 5s 49ms/step - loss: 26.8236 - mae: 27.3183 - val_loss: 14.2984 - val_mae: 14.7976\n",
            "Epoch 42/70\n",
            "94/94 [==============================] - 5s 53ms/step - loss: 26.4060 - mae: 26.9010 - val_loss: 14.2694 - val_mae: 14.7686\n",
            "Epoch 43/70\n",
            "94/94 [==============================] - 5s 50ms/step - loss: 26.5239 - mae: 27.0192 - val_loss: 14.2324 - val_mae: 14.7316\n",
            "Epoch 44/70\n",
            "94/94 [==============================] - 5s 50ms/step - loss: 26.6433 - mae: 27.1384 - val_loss: 14.2274 - val_mae: 14.7266\n",
            "Epoch 45/70\n",
            "94/94 [==============================] - 5s 50ms/step - loss: 26.5443 - mae: 27.0372 - val_loss: 14.2082 - val_mae: 14.7074\n",
            "Epoch 46/70\n",
            "94/94 [==============================] - 5s 53ms/step - loss: 26.5331 - mae: 27.0276 - val_loss: 14.1948 - val_mae: 14.6940\n",
            "Epoch 47/70\n",
            "94/94 [==============================] - 5s 47ms/step - loss: 26.5511 - mae: 27.0469 - val_loss: 14.1718 - val_mae: 14.6710\n",
            "Epoch 48/70\n",
            "94/94 [==============================] - 5s 53ms/step - loss: 26.5446 - mae: 27.0401 - val_loss: 14.1602 - val_mae: 14.6594\n",
            "Epoch 49/70\n",
            "94/94 [==============================] - 5s 50ms/step - loss: 26.2145 - mae: 26.7090 - val_loss: 14.1257 - val_mae: 14.6249\n",
            "Epoch 50/70\n",
            "94/94 [==============================] - 5s 51ms/step - loss: 26.2334 - mae: 26.7277 - val_loss: 14.1070 - val_mae: 14.6062\n",
            "Epoch 51/70\n",
            "94/94 [==============================] - 5s 50ms/step - loss: 26.1088 - mae: 26.6040 - val_loss: 14.0725 - val_mae: 14.5717\n",
            "Epoch 52/70\n",
            "94/94 [==============================] - 5s 51ms/step - loss: 26.6093 - mae: 27.1045 - val_loss: 14.0215 - val_mae: 14.5207\n",
            "Epoch 53/70\n",
            "94/94 [==============================] - 5s 50ms/step - loss: 26.4875 - mae: 26.9833 - val_loss: 14.0076 - val_mae: 14.5068\n",
            "Epoch 54/70\n",
            "94/94 [==============================] - 5s 51ms/step - loss: 26.5650 - mae: 27.0609 - val_loss: 13.9835 - val_mae: 14.4826\n",
            "Epoch 55/70\n",
            "94/94 [==============================] - 5s 52ms/step - loss: 26.4015 - mae: 26.8947 - val_loss: 13.9580 - val_mae: 14.4571\n",
            "Epoch 56/70\n",
            "94/94 [==============================] - 5s 55ms/step - loss: 26.1801 - mae: 26.6751 - val_loss: 13.9361 - val_mae: 14.4352\n",
            "Epoch 57/70\n",
            "94/94 [==============================] - 5s 53ms/step - loss: 26.5642 - mae: 27.0591 - val_loss: 13.9344 - val_mae: 14.4335\n",
            "Epoch 58/70\n",
            "94/94 [==============================] - 5s 53ms/step - loss: 26.4508 - mae: 26.9453 - val_loss: 13.9180 - val_mae: 14.4171\n",
            "Epoch 59/70\n",
            "94/94 [==============================] - 5s 48ms/step - loss: 26.3626 - mae: 26.8565 - val_loss: 13.9041 - val_mae: 14.4032\n",
            "Epoch 60/70\n",
            "94/94 [==============================] - 5s 49ms/step - loss: 26.4257 - mae: 26.9196 - val_loss: 13.8848 - val_mae: 14.3839\n",
            "Epoch 61/70\n",
            "94/94 [==============================] - 5s 52ms/step - loss: 26.5197 - mae: 27.0140 - val_loss: 13.8397 - val_mae: 14.3387\n",
            "Epoch 62/70\n",
            "94/94 [==============================] - 5s 52ms/step - loss: 26.2329 - mae: 26.7265 - val_loss: 13.8363 - val_mae: 14.3354\n",
            "Epoch 63/70\n",
            "94/94 [==============================] - 6s 65ms/step - loss: 26.2442 - mae: 26.7395 - val_loss: 13.8278 - val_mae: 14.3269\n",
            "Epoch 64/70\n",
            "94/94 [==============================] - 5s 53ms/step - loss: 26.1414 - mae: 26.6358 - val_loss: 13.8081 - val_mae: 14.3072\n",
            "Epoch 65/70\n",
            "94/94 [==============================] - 5s 53ms/step - loss: 25.9933 - mae: 26.4891 - val_loss: 13.7915 - val_mae: 14.2905\n",
            "Epoch 66/70\n",
            "94/94 [==============================] - 5s 48ms/step - loss: 26.3368 - mae: 26.8321 - val_loss: 13.7830 - val_mae: 14.2821\n",
            "Epoch 67/70\n",
            "94/94 [==============================] - 5s 51ms/step - loss: 25.9665 - mae: 26.4612 - val_loss: 13.7839 - val_mae: 14.2830\n",
            "Epoch 68/70\n",
            "94/94 [==============================] - 5s 52ms/step - loss: 26.1772 - mae: 26.6723 - val_loss: 13.7788 - val_mae: 14.2779\n",
            "Epoch 69/70\n",
            "94/94 [==============================] - 5s 50ms/step - loss: 26.1198 - mae: 26.6149 - val_loss: 13.7536 - val_mae: 14.2526\n",
            "Epoch 70/70\n",
            "94/94 [==============================] - 5s 54ms/step - loss: 26.1921 - mae: 26.6872 - val_loss: 13.7123 - val_mae: 14.2113\n",
            "CPU times: user 9min 51s, sys: 14.7 s, total: 10min 5s\n",
            "Wall time: 6min 41s\n"
          ]
        }
      ]
    },
    {
      "cell_type": "code",
      "source": [
        "plt.plot(hist_7.history[\"loss\"])\n",
        "plt.plot(hist_7.history[\"mae\"])"
      ],
      "metadata": {
        "colab": {
          "base_uri": "https://localhost:8080/",
          "height": 282
        },
        "id": "qQpycldAesaU",
        "outputId": "d37e9f10-c7e1-49d3-9faf-65fa359edf83"
      },
      "execution_count": 121,
      "outputs": [
        {
          "output_type": "execute_result",
          "data": {
            "text/plain": [
              "[<matplotlib.lines.Line2D at 0x7fe2d0023e90>]"
            ]
          },
          "metadata": {},
          "execution_count": 121
        },
        {
          "output_type": "display_data",
          "data": {
            "text/plain": [
              "<Figure size 432x288 with 1 Axes>"
            ],
            "image/png": "[encoded data removed]"
          },
          "metadata": {
            "needs_background": "light"
          }
        }
      ]
    },
    {
      "cell_type": "code",
      "source": [
        "f_series = series[split_time - window_size: -1]\n",
        "f = model_forecast(model_5, f_series, 20, 32)\n",
        "res = f.squeeze()\n",
        "\n",
        "plt.plot(test_time, x_test)\n",
        "plt.plot(test_time, res)"
      ],
      "metadata": {
        "colab": {
          "base_uri": "https://localhost:8080/",
          "height": 300
        },
        "id": "Xt3QiZd4eyJN",
        "outputId": "8a92b930-968c-48f1-a3a1-645b6c9823e5"
      },
      "execution_count": 122,
      "outputs": [
        {
          "output_type": "stream",
          "name": "stdout",
          "text": [
            "8/8 [==============================] - 2s 22ms/step\n"
          ]
        },
        {
          "output_type": "execute_result",
          "data": {
            "text/plain": [
              "[<matplotlib.lines.Line2D at 0x7fe2ce940cd0>]"
            ]
          },
          "metadata": {},
          "execution_count": 122
        },
        {
          "output_type": "display_data",
          "data": {
            "text/plain": [
              "<Figure size 432x288 with 1 Axes>"
            ],
            "image/png": "[encoded data removed]"
          },
          "metadata": {
            "needs_background": "light"
          }
        }
      ]
    },
    {
      "cell_type": "code",
      "source": [
        "plot_series(np.arange(len(hist_7.history[\"loss\"])), (hist_7.history[\"loss\"], hist_7.history[\"mae\"], hist_7.history[\"val_loss\"], hist_7.history[\"val_mae\"]), labels=[\"loss\", \"mae\", \"val_loss\" ,\"val_mae\"],)"
      ],
      "metadata": {
        "colab": {
          "base_uri": "https://localhost:8080/",
          "height": 279
        },
        "id": "97Aqqya9fEcc",
        "outputId": "5fa6223c-3b7d-4093-91dc-ca2226119769"
      },
      "execution_count": 123,
      "outputs": [
        {
          "output_type": "display_data",
          "data": {
            "text/plain": [
              "<Figure size 432x288 with 1 Axes>"
            ],
            "image/png": "[encoded data removed]"
          },
          "metadata": {
            "needs_background": "light"
          }
        }
      ]
    },
    {
      "cell_type": "code",
      "source": [
        "tf.keras.metrics.mean_absolute_error(x_test, res).numpy()"
      ],
      "metadata": {
        "colab": {
          "base_uri": "https://localhost:8080/"
        },
        "id": "pjl9lU8Yhg7R",
        "outputId": "f7d4f47c-25e2-42b8-9338-56075d2b3a7c"
      },
      "execution_count": 125,
      "outputs": [
        {
          "output_type": "execute_result",
          "data": {
            "text/plain": [
              "19.989225"
            ]
          },
          "metadata": {},
          "execution_count": 125
        }
      ]
    },
    {
      "cell_type": "code",
      "source": [
        "tf.keras.metrics.mean_squared_error(x_test, res).numpy()"
      ],
      "metadata": {
        "colab": {
          "base_uri": "https://localhost:8080/"
        },
        "id": "8zAgESOpkg60",
        "outputId": "ab050c86-b178-47b1-e492-71b19c157095"
      },
      "execution_count": 127,
      "outputs": [
        {
          "output_type": "execute_result",
          "data": {
            "text/plain": [
              "776.4168"
            ]
          },
          "metadata": {},
          "execution_count": 127
        }
      ]
    },
    {
      "cell_type": "code",
      "source": [],
      "metadata": {
        "id": "-7-11FvPkqZT"
      },
      "execution_count": null,
      "outputs": []
    }
  ]
}