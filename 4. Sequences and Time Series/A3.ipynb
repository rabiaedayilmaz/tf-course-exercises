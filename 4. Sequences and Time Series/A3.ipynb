{
  "nbformat": 4,
  "nbformat_minor": 0,
  "metadata": {
    "colab": {
      "provenance": [],
      "collapsed_sections": []
    },
    "kernelspec": {
      "name": "python3",
      "display_name": "Python 3"
    },
    "language_info": {
      "name": "python"
    }
  },
  "cells": [
    {
      "cell_type": "code",
      "execution_count": 5,
      "metadata": {
        "id": "UGAKA_bjXLSF"
      },
      "outputs": [],
      "source": [
        "import numpy as np\n",
        "import matplotlib.pyplot as plt\n",
        "import tensorflow as tf\n",
        "from dataclasses import dataclass"
      ]
    },
    {
      "cell_type": "code",
      "source": [
        "def plot_series(time, series, format=\"-\", start=0, end=None):\n",
        "  if type(series):\n",
        "    for s in series:\n",
        "      plt.plot(time, s)\n",
        "  else:\n",
        "    plt.plot(time, series) \n",
        "  plt.xlabel(\"Time\") \n",
        "  plt.ylabel(\"Value\")\n",
        "  plt.show()\n",
        "\n",
        "def trend(time, slope):\n",
        "  return time*slope\n",
        "\n",
        "def seasonal_pattern(season_time):\n",
        "  return np.where(season_time<0.2,\n",
        "                  np.cos(season_time*6*np.pi),\n",
        "                  1/np.exp(season_time*3))\n",
        "  \n",
        "def seasonality(time, period, amplitude=1, phase=0):\n",
        "  season_time = ((time+phase) % period) / period\n",
        "  return seasonal_pattern(season_time)*amplitude\n",
        "\n",
        "def noise(time, noise_level=1, seed=None):\n",
        "  rnd = np.random.RandomState(seed)\n",
        "  return rnd.randn(len(time)) * noise_level"
      ],
      "metadata": {
        "id": "xAH4GZTrXeY0"
      },
      "execution_count": 71,
      "outputs": []
    },
    {
      "cell_type": "code",
      "source": [
        "def generate_time_series():\n",
        "  time = np.arange(365*4+1, dtype=\"float32\")\n",
        "\n",
        "  y_intercept = 10\n",
        "  slope = 0.05\n",
        "  series = trend(time, slope) + y_intercept\n",
        "\n",
        "  amplitude = 50\n",
        "  series += seasonality(time, period=365, amplitude=amplitude)\n",
        "  series += noise(time, noise_level=3, seed=42)\n",
        "\n",
        "  return time, series"
      ],
      "metadata": {
        "id": "l-ucy1vObJgs"
      },
      "execution_count": 17,
      "outputs": []
    },
    {
      "cell_type": "code",
      "source": [
        "@dataclass\n",
        "class G:\n",
        "  TIME, SERIES = generate_time_series()\n",
        "  SPLIT_TIME = 1100\n",
        "  WINDOW_SIZE=20\n",
        "  BATCH_SIZE=32\n",
        "  SHUFFLE_BUFFER_SIZE=1000"
      ],
      "metadata": {
        "id": "xiI4X25icXTN"
      },
      "execution_count": 18,
      "outputs": []
    },
    {
      "cell_type": "code",
      "source": [
        "plt.plot(G.TIME, G.SERIES)\n",
        "plt.show()"
      ],
      "metadata": {
        "colab": {
          "base_uri": "https://localhost:8080/",
          "height": 265
        },
        "id": "nckx9FKSdMBg",
        "outputId": "beb9041b-e1cc-4d58-a048-8ae09f5c5933"
      },
      "execution_count": 19,
      "outputs": [
        {
          "output_type": "display_data",
          "data": {
            "text/plain": [
              "<Figure size 432x288 with 1 Axes>"
            ],
            "image/png": "[encoded data removed]"
          },
          "metadata": {
            "needs_background": "light"
          }
        }
      ]
    },
    {
      "cell_type": "code",
      "source": [
        "def train_val_split(time, series, split_time=G.SPLIT_TIME):\n",
        "  x_train = series[:split_time]\n",
        "  x_test = series[split_time:]\n",
        "  train_time = time[:split_time]\n",
        "  test_time = time[split_time:]\n",
        "\n",
        "  return x_train, x_test, train_time, test_time"
      ],
      "metadata": {
        "id": "Xi4-qQhFdQ6J"
      },
      "execution_count": 20,
      "outputs": []
    },
    {
      "cell_type": "code",
      "source": [
        "x_train, x_test, train_time, test_time = train_val_split(G.TIME, G.SERIES)"
      ],
      "metadata": {
        "id": "-k2GZlvDehIx"
      },
      "execution_count": 21,
      "outputs": []
    },
    {
      "cell_type": "code",
      "source": [
        "def windowed_data(series, window_size=G.WINDOW_SIZE, batch_size=G.BATCH_SIZE, shuffle_buffer_size=G.SHUFFLE_BUFFER_SIZE):\n",
        "  dataset = tf.data.Dataset.from_tensor_slices(series)\n",
        "  dataset = dataset.window(window_size+1, shift=1, drop_remainder=True)\n",
        "  dataset = dataset.flat_map(lambda w: w.batch(window_size+1))\n",
        "  dataset = dataset.map(lambda w: (w[:-1], w[-1]))\n",
        "  dataset = dataset.batch(batch_size).prefetch(1)\n",
        "  return dataset"
      ],
      "metadata": {
        "id": "M3yibt1ueoM6"
      },
      "execution_count": 22,
      "outputs": []
    },
    {
      "cell_type": "code",
      "source": [
        "dataset = windowed_data(x_train)"
      ],
      "metadata": {
        "id": "grHkKOPyg-sF"
      },
      "execution_count": 23,
      "outputs": []
    },
    {
      "cell_type": "code",
      "source": [
        "def create_model():\n",
        "  model = tf.keras.Sequential([\n",
        "      tf.keras.layers.Lambda(lambda x: tf.expand_dims(x, axis=-1), input_shape=[G.WINDOW_SIZE]),\n",
        "      tf.keras.layers.Bidirectional(tf.keras.layers.LSTM(40, return_sequences=True)),\n",
        "      tf.keras.layers.Bidirectional(tf.keras.layers.LSTM(40)),\n",
        "      tf.keras.layers.Dense(20),\n",
        "      tf.keras.layers.Dense(1),\n",
        "      tf.keras.layers.Lambda(lambda x: x*100),\n",
        "  ])\n",
        "  return model"
      ],
      "metadata": {
        "id": "SGeyA8IthH1i"
      },
      "execution_count": 32,
      "outputs": []
    },
    {
      "cell_type": "code",
      "source": [
        "model = create_model()\n",
        "\n",
        "lr_scheduler = tf.keras.callbacks.LearningRateScheduler(lambda epoch: 1e-8 * 10**(epoch/20))\n",
        "\n",
        "model.compile(optimizer=tf.keras.optimizers.SGD(), loss=tf.keras.losses.Huber(), metrics=[\"mae\"])\n",
        "history = model.fit(dataset, epochs=100, callbacks=[lr_scheduler])"
      ],
      "metadata": {
        "colab": {
          "base_uri": "https://localhost:8080/"
        },
        "id": "KFOlJhKciyLX",
        "outputId": "2beb9333-51ac-40f3-fb47-79df1a42edf7"
      },
      "execution_count": 34,
      "outputs": [
        {
          "output_type": "stream",
          "name": "stdout",
          "text": [
            "Epoch 1/100\n",
            "34/34 [==============================] - 11s 41ms/step - loss: 14.5592 - mae: 15.0546 - lr: 1.0000e-08\n",
            "Epoch 2/100\n",
            "34/34 [==============================] - 1s 40ms/step - loss: 13.5680 - mae: 14.0635 - lr: 1.1220e-08\n",
            "Epoch 3/100\n",
            "34/34 [==============================] - 1s 39ms/step - loss: 12.7276 - mae: 13.2227 - lr: 1.2589e-08\n",
            "Epoch 4/100\n",
            "34/34 [==============================] - 1s 38ms/step - loss: 12.0269 - mae: 12.5201 - lr: 1.4125e-08\n",
            "Epoch 5/100\n",
            "34/34 [==============================] - 1s 35ms/step - loss: 11.4652 - mae: 11.9601 - lr: 1.5849e-08\n",
            "Epoch 6/100\n",
            "34/34 [==============================] - 1s 36ms/step - loss: 11.0226 - mae: 11.5155 - lr: 1.7783e-08\n",
            "Epoch 7/100\n",
            "34/34 [==============================] - 1s 40ms/step - loss: 10.6783 - mae: 11.1720 - lr: 1.9953e-08\n",
            "Epoch 8/100\n",
            "34/34 [==============================] - 1s 40ms/step - loss: 10.4234 - mae: 10.9138 - lr: 2.2387e-08\n",
            "Epoch 9/100\n",
            "34/34 [==============================] - 1s 35ms/step - loss: 10.2428 - mae: 10.7309 - lr: 2.5119e-08\n",
            "Epoch 10/100\n",
            "34/34 [==============================] - 1s 36ms/step - loss: 10.1145 - mae: 10.6010 - lr: 2.8184e-08\n",
            "Epoch 11/100\n",
            "34/34 [==============================] - 1s 36ms/step - loss: 10.0133 - mae: 10.4991 - lr: 3.1623e-08\n",
            "Epoch 12/100\n",
            "34/34 [==============================] - 1s 38ms/step - loss: 9.9213 - mae: 10.4063 - lr: 3.5481e-08\n",
            "Epoch 13/100\n",
            "34/34 [==============================] - 1s 35ms/step - loss: 9.8312 - mae: 10.3170 - lr: 3.9811e-08\n",
            "Epoch 14/100\n",
            "34/34 [==============================] - 1s 35ms/step - loss: 9.7397 - mae: 10.2262 - lr: 4.4668e-08\n",
            "Epoch 15/100\n",
            "34/34 [==============================] - 1s 36ms/step - loss: 9.6444 - mae: 10.1308 - lr: 5.0119e-08\n",
            "Epoch 16/100\n",
            "34/34 [==============================] - 1s 35ms/step - loss: 9.5433 - mae: 10.0295 - lr: 5.6234e-08\n",
            "Epoch 17/100\n",
            "34/34 [==============================] - 1s 36ms/step - loss: 9.4364 - mae: 9.9228 - lr: 6.3096e-08\n",
            "Epoch 18/100\n",
            "34/34 [==============================] - 1s 36ms/step - loss: 9.3231 - mae: 9.8084 - lr: 7.0795e-08\n",
            "Epoch 19/100\n",
            "34/34 [==============================] - 1s 36ms/step - loss: 9.2042 - mae: 9.6880 - lr: 7.9433e-08\n",
            "Epoch 20/100\n",
            "34/34 [==============================] - 1s 35ms/step - loss: 9.0792 - mae: 9.5616 - lr: 8.9125e-08\n",
            "Epoch 21/100\n",
            "34/34 [==============================] - 1s 36ms/step - loss: 8.9478 - mae: 9.4302 - lr: 1.0000e-07\n",
            "Epoch 22/100\n",
            "34/34 [==============================] - 1s 36ms/step - loss: 8.8118 - mae: 9.2943 - lr: 1.1220e-07\n",
            "Epoch 23/100\n",
            "34/34 [==============================] - 1s 40ms/step - loss: 8.6718 - mae: 9.1524 - lr: 1.2589e-07\n",
            "Epoch 24/100\n",
            "34/34 [==============================] - 1s 37ms/step - loss: 8.5224 - mae: 9.0009 - lr: 1.4125e-07\n",
            "Epoch 25/100\n",
            "34/34 [==============================] - 1s 35ms/step - loss: 8.3690 - mae: 8.8471 - lr: 1.5849e-07\n",
            "Epoch 26/100\n",
            "34/34 [==============================] - 1s 35ms/step - loss: 8.2046 - mae: 8.6822 - lr: 1.7783e-07\n",
            "Epoch 27/100\n",
            "34/34 [==============================] - 1s 35ms/step - loss: 8.0411 - mae: 8.5202 - lr: 1.9953e-07\n",
            "Epoch 28/100\n",
            "34/34 [==============================] - 1s 43ms/step - loss: 7.8805 - mae: 8.3554 - lr: 2.2387e-07\n",
            "Epoch 29/100\n",
            "34/34 [==============================] - 3s 100ms/step - loss: 7.7377 - mae: 8.2079 - lr: 2.5119e-07\n",
            "Epoch 30/100\n",
            "34/34 [==============================] - 3s 79ms/step - loss: 7.6188 - mae: 8.0871 - lr: 2.8184e-07\n",
            "Epoch 31/100\n",
            "34/34 [==============================] - 2s 57ms/step - loss: 7.5231 - mae: 7.9909 - lr: 3.1623e-07\n",
            "Epoch 32/100\n",
            "34/34 [==============================] - 1s 36ms/step - loss: 7.4484 - mae: 7.9160 - lr: 3.5481e-07\n",
            "Epoch 33/100\n",
            "34/34 [==============================] - 1s 36ms/step - loss: 7.3918 - mae: 7.8593 - lr: 3.9811e-07\n",
            "Epoch 34/100\n",
            "34/34 [==============================] - 1s 36ms/step - loss: 7.3471 - mae: 7.8156 - lr: 4.4668e-07\n",
            "Epoch 35/100\n",
            "34/34 [==============================] - 1s 36ms/step - loss: 7.3123 - mae: 7.7820 - lr: 5.0119e-07\n",
            "Epoch 36/100\n",
            "34/34 [==============================] - 1s 35ms/step - loss: 7.2841 - mae: 7.7549 - lr: 5.6234e-07\n",
            "Epoch 37/100\n",
            "34/34 [==============================] - 1s 35ms/step - loss: 7.2608 - mae: 7.7324 - lr: 6.3096e-07\n",
            "Epoch 38/100\n",
            "34/34 [==============================] - 1s 37ms/step - loss: 7.2394 - mae: 7.7109 - lr: 7.0795e-07\n",
            "Epoch 39/100\n",
            "34/34 [==============================] - 1s 39ms/step - loss: 7.2182 - mae: 7.6891 - lr: 7.9433e-07\n",
            "Epoch 40/100\n",
            "34/34 [==============================] - 1s 38ms/step - loss: 7.1944 - mae: 7.6648 - lr: 8.9125e-07\n",
            "Epoch 41/100\n",
            "34/34 [==============================] - 1s 41ms/step - loss: 7.1678 - mae: 7.6375 - lr: 1.0000e-06\n",
            "Epoch 42/100\n",
            "34/34 [==============================] - 1s 37ms/step - loss: 7.1417 - mae: 7.6106 - lr: 1.1220e-06\n",
            "Epoch 43/100\n",
            "34/34 [==============================] - 1s 40ms/step - loss: 7.1085 - mae: 7.5755 - lr: 1.2589e-06\n",
            "Epoch 44/100\n",
            "34/34 [==============================] - 1s 43ms/step - loss: 7.0666 - mae: 7.5348 - lr: 1.4125e-06\n",
            "Epoch 45/100\n",
            "34/34 [==============================] - 1s 37ms/step - loss: 7.0070 - mae: 7.4755 - lr: 1.5849e-06\n",
            "Epoch 46/100\n",
            "34/34 [==============================] - 1s 38ms/step - loss: 6.9620 - mae: 7.4283 - lr: 1.7783e-06\n",
            "Epoch 47/100\n",
            "34/34 [==============================] - 1s 41ms/step - loss: 6.9702 - mae: 7.4432 - lr: 1.9953e-06\n",
            "Epoch 48/100\n",
            "34/34 [==============================] - 1s 36ms/step - loss: 6.9811 - mae: 7.4534 - lr: 2.2387e-06\n",
            "Epoch 49/100\n",
            "34/34 [==============================] - 1s 36ms/step - loss: 7.0389 - mae: 7.5114 - lr: 2.5119e-06\n",
            "Epoch 50/100\n",
            "34/34 [==============================] - 1s 37ms/step - loss: 7.2055 - mae: 7.6811 - lr: 2.8184e-06\n",
            "Epoch 51/100\n",
            "34/34 [==============================] - 1s 37ms/step - loss: 7.0108 - mae: 7.4862 - lr: 3.1623e-06\n",
            "Epoch 52/100\n",
            "34/34 [==============================] - 1s 36ms/step - loss: 6.8293 - mae: 7.3005 - lr: 3.5481e-06\n",
            "Epoch 53/100\n",
            "34/34 [==============================] - 1s 35ms/step - loss: 6.6967 - mae: 7.1710 - lr: 3.9811e-06\n",
            "Epoch 54/100\n",
            "34/34 [==============================] - 1s 37ms/step - loss: 6.3439 - mae: 6.8149 - lr: 4.4668e-06\n",
            "Epoch 55/100\n",
            "34/34 [==============================] - 2s 64ms/step - loss: 6.3198 - mae: 6.7898 - lr: 5.0119e-06\n",
            "Epoch 56/100\n",
            "34/34 [==============================] - 1s 36ms/step - loss: 6.1435 - mae: 6.6139 - lr: 5.6234e-06\n",
            "Epoch 57/100\n",
            "34/34 [==============================] - 1s 36ms/step - loss: 6.2140 - mae: 6.6862 - lr: 6.3096e-06\n",
            "Epoch 58/100\n",
            "34/34 [==============================] - 1s 35ms/step - loss: 6.2643 - mae: 6.7423 - lr: 7.0795e-06\n",
            "Epoch 59/100\n",
            "34/34 [==============================] - 1s 36ms/step - loss: 6.4834 - mae: 6.9624 - lr: 7.9433e-06\n",
            "Epoch 60/100\n",
            "34/34 [==============================] - 1s 36ms/step - loss: 6.8295 - mae: 7.3144 - lr: 8.9125e-06\n",
            "Epoch 61/100\n",
            "34/34 [==============================] - 1s 35ms/step - loss: 7.1764 - mae: 7.6643 - lr: 1.0000e-05\n",
            "Epoch 62/100\n",
            "34/34 [==============================] - 1s 35ms/step - loss: 7.5072 - mae: 7.9980 - lr: 1.1220e-05\n",
            "Epoch 63/100\n",
            "34/34 [==============================] - 1s 37ms/step - loss: 7.8470 - mae: 8.3379 - lr: 1.2589e-05\n",
            "Epoch 64/100\n",
            "34/34 [==============================] - 1s 36ms/step - loss: 8.2024 - mae: 8.6950 - lr: 1.4125e-05\n",
            "Epoch 65/100\n",
            "34/34 [==============================] - 1s 36ms/step - loss: 8.5292 - mae: 9.0214 - lr: 1.5849e-05\n",
            "Epoch 66/100\n",
            "34/34 [==============================] - 1s 37ms/step - loss: 8.7035 - mae: 9.1933 - lr: 1.7783e-05\n",
            "Epoch 67/100\n",
            "34/34 [==============================] - 1s 36ms/step - loss: 8.4964 - mae: 8.9876 - lr: 1.9953e-05\n",
            "Epoch 68/100\n",
            "34/34 [==============================] - 1s 36ms/step - loss: 8.9642 - mae: 9.4565 - lr: 2.2387e-05\n",
            "Epoch 69/100\n",
            "34/34 [==============================] - 1s 37ms/step - loss: 9.4015 - mae: 9.8943 - lr: 2.5119e-05\n",
            "Epoch 70/100\n",
            "34/34 [==============================] - 1s 36ms/step - loss: 9.7855 - mae: 10.2804 - lr: 2.8184e-05\n",
            "Epoch 71/100\n",
            "34/34 [==============================] - 1s 36ms/step - loss: 9.9745 - mae: 10.4663 - lr: 3.1623e-05\n",
            "Epoch 72/100\n",
            "34/34 [==============================] - 1s 36ms/step - loss: 10.0089 - mae: 10.4991 - lr: 3.5481e-05\n",
            "Epoch 73/100\n",
            "34/34 [==============================] - 1s 37ms/step - loss: 10.1734 - mae: 10.6651 - lr: 3.9811e-05\n",
            "Epoch 74/100\n",
            "34/34 [==============================] - 1s 37ms/step - loss: 10.8791 - mae: 11.3732 - lr: 4.4668e-05\n",
            "Epoch 75/100\n",
            "34/34 [==============================] - 1s 37ms/step - loss: 11.0567 - mae: 11.5509 - lr: 5.0119e-05\n",
            "Epoch 76/100\n",
            "34/34 [==============================] - 1s 36ms/step - loss: 11.8881 - mae: 12.3813 - lr: 5.6234e-05\n",
            "Epoch 77/100\n",
            "34/34 [==============================] - 1s 35ms/step - loss: 12.5142 - mae: 13.0089 - lr: 6.3096e-05\n",
            "Epoch 78/100\n",
            "34/34 [==============================] - 1s 36ms/step - loss: 12.8608 - mae: 13.3548 - lr: 7.0795e-05\n",
            "Epoch 79/100\n",
            "34/34 [==============================] - 1s 35ms/step - loss: 14.0957 - mae: 14.5920 - lr: 7.9433e-05\n",
            "Epoch 80/100\n",
            "34/34 [==============================] - 1s 35ms/step - loss: 13.8342 - mae: 14.3308 - lr: 8.9125e-05\n",
            "Epoch 81/100\n",
            "34/34 [==============================] - 1s 36ms/step - loss: 14.0441 - mae: 14.5397 - lr: 1.0000e-04\n",
            "Epoch 82/100\n",
            "34/34 [==============================] - 1s 36ms/step - loss: 15.0877 - mae: 15.5842 - lr: 1.1220e-04\n",
            "Epoch 83/100\n",
            "34/34 [==============================] - 1s 38ms/step - loss: 15.3230 - mae: 15.8189 - lr: 1.2589e-04\n",
            "Epoch 84/100\n",
            "34/34 [==============================] - 1s 39ms/step - loss: 15.3544 - mae: 15.8514 - lr: 1.4125e-04\n",
            "Epoch 85/100\n",
            "34/34 [==============================] - 1s 35ms/step - loss: 14.8979 - mae: 15.3917 - lr: 1.5849e-04\n",
            "Epoch 86/100\n",
            "34/34 [==============================] - 1s 36ms/step - loss: 15.1054 - mae: 15.6012 - lr: 1.7783e-04\n",
            "Epoch 87/100\n",
            "34/34 [==============================] - 1s 37ms/step - loss: 14.4885 - mae: 14.9866 - lr: 1.9953e-04\n",
            "Epoch 88/100\n",
            "34/34 [==============================] - 1s 36ms/step - loss: 14.6165 - mae: 15.1135 - lr: 2.2387e-04\n",
            "Epoch 89/100\n",
            "34/34 [==============================] - 1s 36ms/step - loss: 13.8113 - mae: 14.3082 - lr: 2.5119e-04\n",
            "Epoch 90/100\n",
            "34/34 [==============================] - 1s 35ms/step - loss: 13.9609 - mae: 14.4565 - lr: 2.8184e-04\n",
            "Epoch 91/100\n",
            "34/34 [==============================] - 2s 65ms/step - loss: 13.0211 - mae: 13.5183 - lr: 3.1623e-04\n",
            "Epoch 92/100\n",
            "34/34 [==============================] - 1s 37ms/step - loss: 13.2902 - mae: 13.7874 - lr: 3.5481e-04\n",
            "Epoch 93/100\n",
            "34/34 [==============================] - 2s 53ms/step - loss: 12.2754 - mae: 12.7715 - lr: 3.9811e-04\n",
            "Epoch 94/100\n",
            "34/34 [==============================] - 1s 37ms/step - loss: 11.7128 - mae: 12.2094 - lr: 4.4668e-04\n",
            "Epoch 95/100\n",
            "34/34 [==============================] - 1s 36ms/step - loss: 11.7929 - mae: 12.2897 - lr: 5.0119e-04\n",
            "Epoch 96/100\n",
            "34/34 [==============================] - 1s 36ms/step - loss: 11.6186 - mae: 12.1115 - lr: 5.6234e-04\n",
            "Epoch 97/100\n",
            "34/34 [==============================] - 1s 36ms/step - loss: 11.8943 - mae: 12.3925 - lr: 6.3096e-04\n",
            "Epoch 98/100\n",
            "34/34 [==============================] - 1s 37ms/step - loss: 10.3641 - mae: 10.8548 - lr: 7.0795e-04\n",
            "Epoch 99/100\n",
            "34/34 [==============================] - 1s 36ms/step - loss: 12.2377 - mae: 12.7357 - lr: 7.9433e-04\n",
            "Epoch 100/100\n",
            "34/34 [==============================] - 1s 38ms/step - loss: 11.5981 - mae: 12.0923 - lr: 8.9125e-04\n"
          ]
        }
      ]
    },
    {
      "cell_type": "code",
      "source": [
        "plt.plot(history.history[\"loss\"])"
      ],
      "metadata": {
        "colab": {
          "base_uri": "https://localhost:8080/",
          "height": 282
        },
        "id": "ktq8f7hhkKVg",
        "outputId": "eba1b7e6-61fd-475e-fd30-c38a3ac98543"
      },
      "execution_count": 35,
      "outputs": [
        {
          "output_type": "execute_result",
          "data": {
            "text/plain": [
              "[<matplotlib.lines.Line2D at 0x7f2433023390>]"
            ]
          },
          "metadata": {},
          "execution_count": 35
        },
        {
          "output_type": "display_data",
          "data": {
            "text/plain": [
              "<Figure size 432x288 with 1 Axes>"
            ],
            "image/png": "[encoded data removed]"
          },
          "metadata": {
            "needs_background": "light"
          }
        }
      ]
    },
    {
      "cell_type": "code",
      "source": [
        "plt.plot(history.history[\"lr\"], history.history[\"loss\"])"
      ],
      "metadata": {
        "colab": {
          "base_uri": "https://localhost:8080/",
          "height": 282
        },
        "id": "CF7mFk6wlJVR",
        "outputId": "d46378e2-db2f-41d8-af90-0eb2aa983c63"
      },
      "execution_count": 38,
      "outputs": [
        {
          "output_type": "execute_result",
          "data": {
            "text/plain": [
              "[<matplotlib.lines.Line2D at 0x7f2433ee8a90>]"
            ]
          },
          "metadata": {},
          "execution_count": 38
        },
        {
          "output_type": "display_data",
          "data": {
            "text/plain": [
              "<Figure size 432x288 with 1 Axes>"
            ],
            "image/png": "[encoded data removed]"
          },
          "metadata": {
            "needs_background": "light"
          }
        }
      ]
    },
    {
      "cell_type": "code",
      "source": [
        "np.argmin(history.history[\"loss\"])"
      ],
      "metadata": {
        "colab": {
          "base_uri": "https://localhost:8080/"
        },
        "id": "S1GvSdnPlYsw",
        "outputId": "97fbb999-256f-4533-f9a2-98027aa2af75"
      },
      "execution_count": 39,
      "outputs": [
        {
          "output_type": "execute_result",
          "data": {
            "text/plain": [
              "55"
            ]
          },
          "metadata": {},
          "execution_count": 39
        }
      ]
    },
    {
      "cell_type": "code",
      "source": [
        "history.history[\"lr\"][55]"
      ],
      "metadata": {
        "colab": {
          "base_uri": "https://localhost:8080/"
        },
        "id": "yxxJcZONlkRp",
        "outputId": "cdddf8b4-816c-49d8-c545-282fa7eb55c8"
      },
      "execution_count": 40,
      "outputs": [
        {
          "output_type": "execute_result",
          "data": {
            "text/plain": [
              "5.6234135e-06"
            ]
          },
          "metadata": {},
          "execution_count": 40
        }
      ]
    },
    {
      "cell_type": "code",
      "source": [
        "model2 = create_model()\n",
        "\n",
        "model2.compile(optimizer=tf.keras.optimizers.SGD(learning_rate = 5.6234135e-06), loss=tf.keras.losses.Huber(), metrics=[\"mae\"])\n",
        "history = model2.fit(dataset, epochs=100)"
      ],
      "metadata": {
        "colab": {
          "base_uri": "https://localhost:8080/"
        },
        "id": "XePu5PTnlm9Z",
        "outputId": "56eab4dd-423c-490c-c617-8d7573e9f525"
      },
      "execution_count": 42,
      "outputs": [
        {
          "output_type": "stream",
          "name": "stdout",
          "text": [
            "Epoch 1/100\n",
            "34/34 [==============================] - 10s 36ms/step - loss: 22.1211 - mae: 22.6085\n",
            "Epoch 2/100\n",
            "34/34 [==============================] - 1s 36ms/step - loss: 19.7702 - mae: 20.2526\n",
            "Epoch 3/100\n",
            "34/34 [==============================] - 1s 38ms/step - loss: 14.7259 - mae: 15.2076\n",
            "Epoch 4/100\n",
            "34/34 [==============================] - 1s 39ms/step - loss: 12.0969 - mae: 12.5796\n",
            "Epoch 5/100\n",
            "34/34 [==============================] - 1s 36ms/step - loss: 9.8445 - mae: 10.3158\n",
            "Epoch 6/100\n",
            "34/34 [==============================] - 1s 40ms/step - loss: 8.7834 - mae: 9.2524\n",
            "Epoch 7/100\n",
            "34/34 [==============================] - 1s 36ms/step - loss: 8.0001 - mae: 8.4686\n",
            "Epoch 8/100\n",
            "34/34 [==============================] - 3s 77ms/step - loss: 7.4010 - mae: 7.8672\n",
            "Epoch 9/100\n",
            "34/34 [==============================] - 2s 73ms/step - loss: 6.9708 - mae: 7.4394\n",
            "Epoch 10/100\n",
            "34/34 [==============================] - 1s 36ms/step - loss: 6.6402 - mae: 7.1084\n",
            "Epoch 11/100\n",
            "34/34 [==============================] - 1s 37ms/step - loss: 6.3694 - mae: 6.8384\n",
            "Epoch 12/100\n",
            "34/34 [==============================] - 1s 35ms/step - loss: 6.1318 - mae: 6.6007\n",
            "Epoch 13/100\n",
            "34/34 [==============================] - 1s 38ms/step - loss: 5.9335 - mae: 6.4033\n",
            "Epoch 14/100\n",
            "34/34 [==============================] - 1s 36ms/step - loss: 5.7624 - mae: 6.2325\n",
            "Epoch 15/100\n",
            "34/34 [==============================] - 1s 36ms/step - loss: 5.6168 - mae: 6.0882\n",
            "Epoch 16/100\n",
            "34/34 [==============================] - 1s 36ms/step - loss: 5.4945 - mae: 5.9642\n",
            "Epoch 17/100\n",
            "34/34 [==============================] - 1s 36ms/step - loss: 5.3888 - mae: 5.8569\n",
            "Epoch 18/100\n",
            "34/34 [==============================] - 1s 41ms/step - loss: 5.3004 - mae: 5.7661\n",
            "Epoch 19/100\n",
            "34/34 [==============================] - 1s 37ms/step - loss: 5.2292 - mae: 5.6949\n",
            "Epoch 20/100\n",
            "34/34 [==============================] - 1s 36ms/step - loss: 5.1380 - mae: 5.6046\n",
            "Epoch 21/100\n",
            "34/34 [==============================] - 1s 35ms/step - loss: 5.0212 - mae: 5.4891\n",
            "Epoch 22/100\n",
            "34/34 [==============================] - 1s 36ms/step - loss: 4.9072 - mae: 5.3744\n",
            "Epoch 23/100\n",
            "34/34 [==============================] - 1s 37ms/step - loss: 4.8339 - mae: 5.3016\n",
            "Epoch 24/100\n",
            "34/34 [==============================] - 1s 38ms/step - loss: 4.7791 - mae: 5.2482\n",
            "Epoch 25/100\n",
            "34/34 [==============================] - 1s 41ms/step - loss: 4.7379 - mae: 5.2061\n",
            "Epoch 26/100\n",
            "34/34 [==============================] - 1s 40ms/step - loss: 4.7022 - mae: 5.1694\n",
            "Epoch 27/100\n",
            "34/34 [==============================] - 1s 41ms/step - loss: 4.6694 - mae: 5.1364\n",
            "Epoch 28/100\n",
            "34/34 [==============================] - 1s 38ms/step - loss: 4.6377 - mae: 5.1043\n",
            "Epoch 29/100\n",
            "34/34 [==============================] - 1s 35ms/step - loss: 4.6074 - mae: 5.0736\n",
            "Epoch 30/100\n",
            "34/34 [==============================] - 1s 35ms/step - loss: 4.5801 - mae: 5.0455\n",
            "Epoch 31/100\n",
            "34/34 [==============================] - 1s 37ms/step - loss: 4.5539 - mae: 5.0188\n",
            "Epoch 32/100\n",
            "34/34 [==============================] - 1s 36ms/step - loss: 4.5292 - mae: 4.9945\n",
            "Epoch 33/100\n",
            "34/34 [==============================] - 1s 36ms/step - loss: 4.5053 - mae: 4.9714\n",
            "Epoch 34/100\n",
            "34/34 [==============================] - 1s 37ms/step - loss: 4.4825 - mae: 4.9488\n",
            "Epoch 35/100\n",
            "34/34 [==============================] - 1s 39ms/step - loss: 4.4605 - mae: 4.9267\n",
            "Epoch 36/100\n",
            "34/34 [==============================] - 1s 36ms/step - loss: 4.4394 - mae: 4.9057\n",
            "Epoch 37/100\n",
            "34/34 [==============================] - 1s 36ms/step - loss: 4.4187 - mae: 4.8852\n",
            "Epoch 38/100\n",
            "34/34 [==============================] - 1s 37ms/step - loss: 4.3985 - mae: 4.8652\n",
            "Epoch 39/100\n",
            "34/34 [==============================] - 1s 35ms/step - loss: 4.3789 - mae: 4.8454\n",
            "Epoch 40/100\n",
            "34/34 [==============================] - 1s 35ms/step - loss: 4.3594 - mae: 4.8257\n",
            "Epoch 41/100\n",
            "34/34 [==============================] - 1s 36ms/step - loss: 4.3406 - mae: 4.8064\n",
            "Epoch 42/100\n",
            "34/34 [==============================] - 1s 35ms/step - loss: 4.3220 - mae: 4.7875\n",
            "Epoch 43/100\n",
            "34/34 [==============================] - 1s 35ms/step - loss: 4.3038 - mae: 4.7690\n",
            "Epoch 44/100\n",
            "34/34 [==============================] - 1s 35ms/step - loss: 4.2859 - mae: 4.7509\n",
            "Epoch 45/100\n",
            "34/34 [==============================] - 1s 36ms/step - loss: 4.2684 - mae: 4.7333\n",
            "Epoch 46/100\n",
            "34/34 [==============================] - 1s 36ms/step - loss: 4.2514 - mae: 4.7163\n",
            "Epoch 47/100\n",
            "34/34 [==============================] - 2s 62ms/step - loss: 4.2346 - mae: 4.6995\n",
            "Epoch 48/100\n",
            "34/34 [==============================] - 1s 38ms/step - loss: 4.2181 - mae: 4.6829\n",
            "Epoch 49/100\n",
            "34/34 [==============================] - 1s 38ms/step - loss: 4.2017 - mae: 4.6662\n",
            "Epoch 50/100\n",
            "34/34 [==============================] - 1s 43ms/step - loss: 4.1857 - mae: 4.6498\n",
            "Epoch 51/100\n",
            "34/34 [==============================] - 1s 36ms/step - loss: 4.1702 - mae: 4.6340\n",
            "Epoch 52/100\n",
            "34/34 [==============================] - 1s 36ms/step - loss: 4.1552 - mae: 4.6189\n",
            "Epoch 53/100\n",
            "34/34 [==============================] - 1s 36ms/step - loss: 4.1402 - mae: 4.6038\n",
            "Epoch 54/100\n",
            "34/34 [==============================] - 1s 35ms/step - loss: 4.1255 - mae: 4.5890\n",
            "Epoch 55/100\n",
            "34/34 [==============================] - 1s 36ms/step - loss: 4.1109 - mae: 4.5743\n",
            "Epoch 56/100\n",
            "34/34 [==============================] - 1s 36ms/step - loss: 4.0966 - mae: 4.5600\n",
            "Epoch 57/100\n",
            "34/34 [==============================] - 1s 36ms/step - loss: 4.0825 - mae: 4.5462\n",
            "Epoch 58/100\n",
            "34/34 [==============================] - 1s 36ms/step - loss: 4.0684 - mae: 4.5324\n",
            "Epoch 59/100\n",
            "34/34 [==============================] - 1s 36ms/step - loss: 4.0546 - mae: 4.5189\n",
            "Epoch 60/100\n",
            "34/34 [==============================] - 1s 36ms/step - loss: 4.0409 - mae: 4.5054\n",
            "Epoch 61/100\n",
            "34/34 [==============================] - 1s 35ms/step - loss: 4.0275 - mae: 4.4920\n",
            "Epoch 62/100\n",
            "34/34 [==============================] - 1s 37ms/step - loss: 4.0144 - mae: 4.4791\n",
            "Epoch 63/100\n",
            "34/34 [==============================] - 1s 36ms/step - loss: 4.0015 - mae: 4.4663\n",
            "Epoch 64/100\n",
            "34/34 [==============================] - 1s 36ms/step - loss: 3.9887 - mae: 4.4535\n",
            "Epoch 65/100\n",
            "34/34 [==============================] - 1s 37ms/step - loss: 3.9760 - mae: 4.4410\n",
            "Epoch 66/100\n",
            "34/34 [==============================] - 1s 37ms/step - loss: 3.9636 - mae: 4.4285\n",
            "Epoch 67/100\n",
            "34/34 [==============================] - 1s 37ms/step - loss: 3.9508 - mae: 4.4156\n",
            "Epoch 68/100\n",
            "34/34 [==============================] - 1s 36ms/step - loss: 3.9382 - mae: 4.4027\n",
            "Epoch 69/100\n",
            "34/34 [==============================] - 1s 36ms/step - loss: 3.9258 - mae: 4.3900\n",
            "Epoch 70/100\n",
            "34/34 [==============================] - 1s 37ms/step - loss: 3.9137 - mae: 4.3776\n",
            "Epoch 71/100\n",
            "34/34 [==============================] - 1s 36ms/step - loss: 3.9022 - mae: 4.3660\n",
            "Epoch 72/100\n",
            "34/34 [==============================] - 1s 36ms/step - loss: 3.8911 - mae: 4.3548\n",
            "Epoch 73/100\n",
            "34/34 [==============================] - 1s 37ms/step - loss: 3.8801 - mae: 4.3436\n",
            "Epoch 74/100\n",
            "34/34 [==============================] - 1s 36ms/step - loss: 3.8694 - mae: 4.3331\n",
            "Epoch 75/100\n",
            "34/34 [==============================] - 3s 77ms/step - loss: 3.8590 - mae: 4.3229\n",
            "Epoch 76/100\n",
            "34/34 [==============================] - 1s 41ms/step - loss: 3.8490 - mae: 4.3131\n",
            "Epoch 77/100\n",
            "34/34 [==============================] - 1s 38ms/step - loss: 3.8392 - mae: 4.3035\n",
            "Epoch 78/100\n",
            "34/34 [==============================] - 1s 37ms/step - loss: 3.8297 - mae: 4.2942\n",
            "Epoch 79/100\n",
            "34/34 [==============================] - 1s 37ms/step - loss: 3.8204 - mae: 4.2850\n",
            "Epoch 80/100\n",
            "34/34 [==============================] - 1s 36ms/step - loss: 3.8114 - mae: 4.2760\n",
            "Epoch 81/100\n",
            "34/34 [==============================] - 1s 40ms/step - loss: 3.8026 - mae: 4.2672\n",
            "Epoch 82/100\n",
            "34/34 [==============================] - 1s 37ms/step - loss: 3.7941 - mae: 4.2588\n",
            "Epoch 83/100\n",
            "34/34 [==============================] - 1s 40ms/step - loss: 3.7857 - mae: 4.2504\n",
            "Epoch 84/100\n",
            "34/34 [==============================] - 1s 42ms/step - loss: 3.7776 - mae: 4.2421\n",
            "Epoch 85/100\n",
            "34/34 [==============================] - 1s 41ms/step - loss: 3.7696 - mae: 4.2341\n",
            "Epoch 86/100\n",
            "34/34 [==============================] - 1s 42ms/step - loss: 3.7618 - mae: 4.2262\n",
            "Epoch 87/100\n",
            "34/34 [==============================] - 1s 37ms/step - loss: 3.7543 - mae: 4.2186\n",
            "Epoch 88/100\n",
            "34/34 [==============================] - 1s 36ms/step - loss: 3.7469 - mae: 4.2111\n",
            "Epoch 89/100\n",
            "34/34 [==============================] - 1s 41ms/step - loss: 3.7394 - mae: 4.2036\n",
            "Epoch 90/100\n",
            "34/34 [==============================] - 1s 37ms/step - loss: 3.7321 - mae: 4.1963\n",
            "Epoch 91/100\n",
            "34/34 [==============================] - 1s 38ms/step - loss: 3.7247 - mae: 4.1890\n",
            "Epoch 92/100\n",
            "34/34 [==============================] - 1s 38ms/step - loss: 3.7174 - mae: 4.1818\n",
            "Epoch 93/100\n",
            "34/34 [==============================] - 1s 37ms/step - loss: 3.7103 - mae: 4.1748\n",
            "Epoch 94/100\n",
            "34/34 [==============================] - 1s 37ms/step - loss: 3.7033 - mae: 4.1679\n",
            "Epoch 95/100\n",
            "34/34 [==============================] - 1s 36ms/step - loss: 3.6965 - mae: 4.1611\n",
            "Epoch 96/100\n",
            "34/34 [==============================] - 1s 36ms/step - loss: 3.6898 - mae: 4.1543\n",
            "Epoch 97/100\n",
            "34/34 [==============================] - 1s 35ms/step - loss: 3.6833 - mae: 4.1478\n",
            "Epoch 98/100\n",
            "34/34 [==============================] - 1s 36ms/step - loss: 3.6768 - mae: 4.1414\n",
            "Epoch 99/100\n",
            "34/34 [==============================] - 1s 36ms/step - loss: 3.6705 - mae: 4.1351\n",
            "Epoch 100/100\n",
            "34/34 [==============================] - 1s 35ms/step - loss: 3.6642 - mae: 4.1288\n"
          ]
        }
      ]
    },
    {
      "cell_type": "code",
      "source": [
        "plt.plot(history.history[\"loss\"])"
      ],
      "metadata": {
        "colab": {
          "base_uri": "https://localhost:8080/",
          "height": 282
        },
        "id": "udnhAzn0lxop",
        "outputId": "e3f5cc08-6ea1-47f4-8064-2771ceed1fac"
      },
      "execution_count": 43,
      "outputs": [
        {
          "output_type": "execute_result",
          "data": {
            "text/plain": [
              "[<matplotlib.lines.Line2D at 0x7f242e22d110>]"
            ]
          },
          "metadata": {},
          "execution_count": 43
        },
        {
          "output_type": "display_data",
          "data": {
            "text/plain": [
              "<Figure size 432x288 with 1 Axes>"
            ],
            "image/png": "[encoded data removed]"
          },
          "metadata": {
            "needs_background": "light"
          }
        }
      ]
    },
    {
      "cell_type": "code",
      "source": [
        "def faster_forecast(model, series, window_size):\n",
        "  ds = tf.data.Dataset.from_tensor_slices(series)\n",
        "  ds = ds.window(window_size, shift=1, drop_remainder=True)\n",
        "  ds = ds.flat_map(lambda w: w.batch(window_size))\n",
        "  ds = ds.batch(32).prefetch(1)\n",
        "  forecast = model.predict(ds)\n",
        "  return forecast"
      ],
      "metadata": {
        "id": "L0ViK7o2l9Wt"
      },
      "execution_count": 48,
      "outputs": []
    },
    {
      "cell_type": "code",
      "source": [
        "f = faster_forecast(model2, G.SERIES, G.WINDOW_SIZE).squeeze()\n",
        "\n",
        "ff = f[G.SPLIT_TIME - G.WINDOW_SIZE: -1]"
      ],
      "metadata": {
        "colab": {
          "base_uri": "https://localhost:8080/"
        },
        "id": "3Nh2ir2jnqye",
        "outputId": "ac16b9a6-bc7e-454b-df3e-ecbe2a316692"
      },
      "execution_count": 50,
      "outputs": [
        {
          "output_type": "stream",
          "name": "stdout",
          "text": [
            "46/46 [==============================] - 1s 24ms/step\n"
          ]
        }
      ]
    },
    {
      "cell_type": "code",
      "source": [
        "plt.plot(test_time, ff)\n",
        "plt.plot(test_time, x_test)"
      ],
      "metadata": {
        "colab": {
          "base_uri": "https://localhost:8080/",
          "height": 282
        },
        "id": "AZ6P0ib-oLQ7",
        "outputId": "0dbfec66-3146-46a0-c736-bd79d0d475f3"
      },
      "execution_count": 63,
      "outputs": [
        {
          "output_type": "execute_result",
          "data": {
            "text/plain": [
              "[<matplotlib.lines.Line2D at 0x7f242d37b990>]"
            ]
          },
          "metadata": {},
          "execution_count": 63
        },
        {
          "output_type": "display_data",
          "data": {
            "text/plain": [
              "<Figure size 432x288 with 1 Axes>"
            ],
            "image/png": "[encoded data removed]"
          },
          "metadata": {
            "needs_background": "light"
          }
        }
      ]
    },
    {
      "cell_type": "code",
      "source": [
        "tf.keras.metrics.mean_absolute_error(x_test, ff).numpy()"
      ],
      "metadata": {
        "colab": {
          "base_uri": "https://localhost:8080/"
        },
        "id": "YU0v6QaqqrE1",
        "outputId": "53eebd3c-c291-4321-bcdc-9d0067a6be90"
      },
      "execution_count": 75,
      "outputs": [
        {
          "output_type": "execute_result",
          "data": {
            "text/plain": [
              "9.818341"
            ]
          },
          "metadata": {},
          "execution_count": 75
        }
      ]
    },
    {
      "cell_type": "code",
      "source": [],
      "metadata": {
        "id": "cDUZNoA_rccP"
      },
      "execution_count": null,
      "outputs": []
    }
  ]
}