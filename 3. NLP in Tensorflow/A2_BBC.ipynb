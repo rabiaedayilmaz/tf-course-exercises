{
  "nbformat": 4,
  "nbformat_minor": 0,
  "metadata": {
    "colab": {
      "provenance": [],
      "collapsed_sections": []
    },
    "kernelspec": {
      "name": "python3",
      "display_name": "Python 3"
    },
    "language_info": {
      "name": "python"
    }
  },
  "cells": [
    {
      "cell_type": "code",
      "source": [
        "import io\n",
        "import csv\n",
        "import matplotlib.pyplot as plt\n",
        "import numpy as np\n",
        "from tensorflow.keras.preprocessing.text import Tokenizer\n",
        "from tensorflow.keras.preprocessing.sequence import pad_sequences"
      ],
      "metadata": {
        "id": "pLjA6Wl9yDYn"
      },
      "execution_count": 164,
      "outputs": []
    },
    {
      "cell_type": "code",
      "source": [
        "with open(\"/content/bbc-text.csv\", \"r\") as f:\n",
        "  print(\"Header: \", f.readline())\n",
        "  print(\"Data: \", f.readline())"
      ],
      "metadata": {
        "colab": {
          "base_uri": "https://localhost:8080/"
        },
        "id": "bflyG7X34ys_",
        "outputId": "b10d731b-af57-4403-af3b-1c8b7ecf3910"
      },
      "execution_count": 166,
      "outputs": [
        {
          "output_type": "stream",
          "name": "stdout",
          "text": [
            "Header:  category,text\n",
            "\n",
            "Data:  tech,tv future in the hands of viewers with home theatre systems  plasma high-definition tvs  and digital video recorders moving into the living room  the way people watch tv will be radically different in five years  time.  that is according to an expert panel which gathered at the annual consumer electronics show in las vegas to discuss how these new technologies will impact one of our favourite pastimes. with the us leading the trend  programmes and other content will be delivered to viewers via home networks  through cable  satellite  telecoms companies  and broadband service providers to front rooms and portable devices.  one of the most talked-about technologies of ces has been digital and personal video recorders (dvr and pvr). these set-top boxes  like the us s tivo and the uk s sky+ system  allow people to record  store  play  pause and forward wind tv programmes when they want.  essentially  the technology allows for much more personalised tv. they are also being built-in to high-definition tv sets  which are big business in japan and the us  but slower to take off in europe because of the lack of high-definition programming. not only can people forward wind through adverts  they can also forget about abiding by network and channel schedules  putting together their own a-la-carte entertainment. but some us networks and cable and satellite companies are worried about what it means for them in terms of advertising revenues as well as  brand identity  and viewer loyalty to channels. although the us leads in this technology at the moment  it is also a concern that is being raised in europe  particularly with the growing uptake of services like sky+.  what happens here today  we will see in nine months to a years  time in the uk   adam hume  the bbc broadcast s futurologist told the bbc news website. for the likes of the bbc  there are no issues of lost advertising revenue yet. it is a more pressing issue at the moment for commercial uk broadcasters  but brand loyalty is important for everyone.  we will be talking more about content brands rather than network brands   said tim hanlon  from brand communications firm starcom mediavest.  the reality is that with broadband connections  anybody can be the producer of content.  he added:  the challenge now is that it is hard to promote a programme with so much choice.   what this means  said stacey jolna  senior vice president of tv guide tv group  is that the way people find the content they want to watch has to be simplified for tv viewers. it means that networks  in us terms  or channels could take a leaf out of google s book and be the search engine of the future  instead of the scheduler to help people find what they want to watch. this kind of channel model might work for the younger ipod generation which is used to taking control of their gadgets and what they play on them. but it might not suit everyone  the panel recognised. older generations are more comfortable with familiar schedules and channel brands because they know what they are getting. they perhaps do not want so much of the choice put into their hands  mr hanlon suggested.  on the other end  you have the kids just out of diapers who are pushing buttons already - everything is possible and available to them   said mr hanlon.  ultimately  the consumer will tell the market they want.   of the 50 000 new gadgets and technologies being showcased at ces  many of them are about enhancing the tv-watching experience. high-definition tv sets are everywhere and many new models of lcd (liquid crystal display) tvs have been launched with dvr capability built into them  instead of being external boxes. one such example launched at the show is humax s 26-inch lcd tv with an 80-hour tivo dvr and dvd recorder. one of the us s biggest satellite tv companies  directtv  has even launched its own branded dvr at the show with 100-hours of recording capability  instant replay  and a search function. the set can pause and rewind tv for up to 90 hours. and microsoft chief bill gates announced in his pre-show keynote speech a partnership with tivo  called tivotogo  which means people can play recorded programmes on windows pcs and mobile devices. all these reflect the increasing trend of freeing up multimedia so that people can watch what they want  when they want.\n",
            "\n"
          ]
        }
      ]
    },
    {
      "cell_type": "code",
      "source": [
        "NUM_WORDS = 1000\n",
        "EMBEDDING_DIM = 16\n",
        "MAXLEN=120\n",
        "PADDING = \"post\"\n",
        "OOV_TOKEN = \"<OOV>\"\n",
        "TRAINING_SPLIT = 0.8"
      ],
      "metadata": {
        "id": "SWG6-cWF5bN_"
      },
      "execution_count": 167,
      "outputs": []
    },
    {
      "cell_type": "code",
      "source": [
        "def remove_stopwords(sentence):\n",
        "  stopwords = [\"a\", \"about\", \"above\", \"after\", \"again\", \"against\", \"all\", \"am\", \"an\", \"and\", \"any\", \"are\", \"as\", \"at\", \"be\", \"because\", \"been\", \"before\", \"being\", \"below\", \"between\", \"both\", \"but\", \"by\", \"could\", \"did\", \"do\", \"does\", \"doing\", \"down\", \"during\", \"each\", \"few\", \"for\", \"from\", \"further\", \"had\", \"has\", \"have\", \"having\", \"he\", \"he'd\", \"he'll\", \"he's\", \"her\", \"here\", \"here's\", \"hers\", \"herself\", \"him\", \"himself\", \"his\", \"how\", \"how's\", \"i\", \"i'd\", \"i'll\", \"i'm\", \"i've\", \"if\", \"in\", \"into\", \"is\", \"it\", \"it's\", \"its\", \"itself\", \"let's\", \"me\", \"more\", \"most\", \"my\", \"myself\", \"nor\", \"of\", \"on\", \"once\", \"only\", \"or\", \"other\", \"ought\", \"our\", \"ours\", \"ourselves\", \"out\", \"over\", \"own\", \"same\", \"she\", \"she'd\", \"she'll\", \"she's\", \"should\", \"so\", \"some\", \"such\", \"than\", \"that\", \"that's\", \"the\", \"their\", \"theirs\", \"them\", \"themselves\", \"then\", \"there\", \"there's\", \"these\", \"they\", \"they'd\", \"they'll\", \"they're\", \"they've\", \"this\", \"those\", \"through\", \"to\", \"too\", \"under\", \"until\", \"up\", \"very\", \"was\", \"we\", \"we'd\", \"we'll\", \"we're\", \"we've\", \"were\", \"what\", \"what's\", \"when\", \"when's\", \"where\", \"where's\", \"which\", \"while\", \"who\", \"who's\", \"whom\", \"why\", \"why's\", \"with\", \"would\", \"you\", \"you'd\", \"you'll\", \"you're\", \"you've\", \"your\", \"yours\", \"yourself\", \"yourselves\" ]\n",
        "  sentence = sentence.lower()\n",
        "  words = sentence.split()\n",
        "  s = \" \".join([w for w in words if not w in stopwords])\n",
        "  return s"
      ],
      "metadata": {
        "id": "sUN055pG5sg0"
      },
      "execution_count": 168,
      "outputs": []
    },
    {
      "cell_type": "code",
      "source": [
        "def parse_data(filename):\n",
        "  sentences = []\n",
        "  labels = []\n",
        "  with open(filename, \"r\") as f:\n",
        "    reader = csv.reader(f, delimiter=\",\")\n",
        "    next(reader)\n",
        "    for line in reader:\n",
        "      labels.append(line[0])\n",
        "      sentences.append(remove_stopwords(line[1]))\n",
        "\n",
        "  return sentences, labels"
      ],
      "metadata": {
        "id": "z6LDpWZC6Due"
      },
      "execution_count": 175,
      "outputs": []
    },
    {
      "cell_type": "code",
      "source": [
        "def train_val_split(sentences, labels, training_split):\n",
        "  train_size = int(training_split * len(sentences))\n",
        "  train_sentences = sentences[:train_size]\n",
        "  test_sentences = sentences[train_size:]\n",
        "  train_labels = labels[:train_size]\n",
        "  test_labels = labels[train_size:]\n",
        "\n",
        "  return train_sentences, test_sentences, train_labels, test_labels"
      ],
      "metadata": {
        "id": "AdF5sz_26unq"
      },
      "execution_count": 170,
      "outputs": []
    },
    {
      "cell_type": "code",
      "source": [
        "def fit_tokenizer(train_sentences, num_words, oov_token):\n",
        "  tokenizer = Tokenizer(num_words=num_words, oov_token=oov_token)\n",
        "  tokenizer.fit_on_texts(train_sentences)\n",
        "  return tokenizer"
      ],
      "metadata": {
        "id": "0Z_4OU3PAqE-"
      },
      "execution_count": 171,
      "outputs": []
    },
    {
      "cell_type": "code",
      "source": [
        "def seq_and_pad(sentences, tokenizer, padding, maxlen):\n",
        "  seqs = tokenizer.texts_to_sequences(sentences)\n",
        "  padded = pad_sequences(seqs, padding=padding, maxlen=maxlen)\n",
        "  return padded"
      ],
      "metadata": {
        "id": "-lyvavk2A_fF"
      },
      "execution_count": 172,
      "outputs": []
    },
    {
      "cell_type": "code",
      "source": [
        "def tokenize_labels(labels, split_labels):\n",
        "  label_tokenizer = Tokenizer()\n",
        "  label_tokenizer.fit_on_texts(labels)\n",
        "  label_seq = label_tokenizer.texts_to_sequences(split_labels)\n",
        "  label_seq = np.array(label_seq)-1\n",
        "  return label_seq"
      ],
      "metadata": {
        "id": "GB6vkzEDBUjD"
      },
      "execution_count": 173,
      "outputs": []
    },
    {
      "cell_type": "code",
      "source": [
        "sentences, labels = parse_data(\"/content/bbc-text.csv\")"
      ],
      "metadata": {
        "id": "HbWkvoXNCUnb"
      },
      "execution_count": 176,
      "outputs": []
    },
    {
      "cell_type": "code",
      "source": [
        "train_sentences, test_sentences, train_labels, test_labels = train_val_split(sentences, labels, TRAINING_SPLIT)"
      ],
      "metadata": {
        "id": "CKlmru2-Cg_y"
      },
      "execution_count": 177,
      "outputs": []
    },
    {
      "cell_type": "code",
      "source": [
        "tokenizer = fit_tokenizer(train_sentences, NUM_WORDS, OOV_TOKEN)"
      ],
      "metadata": {
        "id": "8yoz5RfYC5CG"
      },
      "execution_count": 178,
      "outputs": []
    },
    {
      "cell_type": "code",
      "source": [
        "train_padded = seq_and_pad(train_sentences, tokenizer, PADDING, MAXLEN)\n",
        "test_padded = seq_and_pad(test_sentences, tokenizer, PADDING, MAXLEN)"
      ],
      "metadata": {
        "id": "MBPg3sCpC_33"
      },
      "execution_count": 181,
      "outputs": []
    },
    {
      "cell_type": "code",
      "source": [
        "train_label_seq = tokenize_labels(labels, train_labels)\n",
        "test_label_seq = tokenize_labels(labels, test_labels)"
      ],
      "metadata": {
        "id": "JhHQgkNPDJgj"
      },
      "execution_count": 182,
      "outputs": []
    },
    {
      "cell_type": "code",
      "source": [
        "train_label_seq[:5]"
      ],
      "metadata": {
        "colab": {
          "base_uri": "https://localhost:8080/"
        },
        "id": "abZcJAvjDW7_",
        "outputId": "81f77369-47c2-4cde-db9f-d9751a923960"
      },
      "execution_count": 183,
      "outputs": [
        {
          "output_type": "execute_result",
          "data": {
            "text/plain": [
              "array([[3],\n",
              "       [1],\n",
              "       [0],\n",
              "       [0],\n",
              "       [4]])"
            ]
          },
          "metadata": {},
          "execution_count": 183
        }
      ]
    },
    {
      "cell_type": "code",
      "source": [
        "def create_model():\n",
        "  model = tf.keras.Sequential([tf.keras.layers.Embedding(NUM_WORDS, EMBEDDING_DIM, input_length=MAXLEN),\n",
        "                               tf.keras.layers.GlobalAveragePooling1D(),\n",
        "                               tf.keras.layers.Dense(24, activation=\"relu\"),\n",
        "                               tf.keras.layers.Dense(5, activation=\"softmax\")])\n",
        "  model.compile(loss=\"sparse_categorical_crossentropy\", optimizer=\"adam\", metrics=[\"accuracy\"])\n",
        "\n",
        "  return model"
      ],
      "metadata": {
        "id": "C0aGlsYGDmvL"
      },
      "execution_count": 189,
      "outputs": []
    },
    {
      "cell_type": "code",
      "source": [
        "model = create_model()\n",
        "history = model.fit(train_padded, train_label_seq, epochs=10, validation_data=(test_padded, test_label_seq))"
      ],
      "metadata": {
        "colab": {
          "base_uri": "https://localhost:8080/"
        },
        "id": "4nLzP7XWFGQx",
        "outputId": "e84b795f-0cd1-4dba-a3e2-b28809e1d659"
      },
      "execution_count": 190,
      "outputs": [
        {
          "output_type": "stream",
          "name": "stdout",
          "text": [
            "Epoch 1/10\n",
            "56/56 [==============================] - 2s 26ms/step - loss: 1.6010 - accuracy: 0.3365 - val_loss: 1.5884 - val_accuracy: 0.4360\n",
            "Epoch 2/10\n",
            "56/56 [==============================] - 0s 3ms/step - loss: 1.5696 - accuracy: 0.3270 - val_loss: 1.5427 - val_accuracy: 0.4449\n",
            "Epoch 3/10\n",
            "56/56 [==============================] - 0s 4ms/step - loss: 1.4899 - accuracy: 0.4539 - val_loss: 1.4256 - val_accuracy: 0.5056\n",
            "Epoch 4/10\n",
            "56/56 [==============================] - 0s 3ms/step - loss: 1.3124 - accuracy: 0.5742 - val_loss: 1.2197 - val_accuracy: 0.5888\n",
            "Epoch 5/10\n",
            "56/56 [==============================] - 0s 3ms/step - loss: 1.0673 - accuracy: 0.6876 - val_loss: 0.9844 - val_accuracy: 0.7955\n",
            "Epoch 6/10\n",
            "56/56 [==============================] - 0s 3ms/step - loss: 0.8186 - accuracy: 0.8556 - val_loss: 0.7743 - val_accuracy: 0.8629\n",
            "Epoch 7/10\n",
            "56/56 [==============================] - 0s 3ms/step - loss: 0.6143 - accuracy: 0.9202 - val_loss: 0.6107 - val_accuracy: 0.8899\n",
            "Epoch 8/10\n",
            "56/56 [==============================] - 0s 3ms/step - loss: 0.4637 - accuracy: 0.9382 - val_loss: 0.4957 - val_accuracy: 0.9079\n",
            "Epoch 9/10\n",
            "56/56 [==============================] - 0s 4ms/step - loss: 0.3589 - accuracy: 0.9489 - val_loss: 0.4165 - val_accuracy: 0.9146\n",
            "Epoch 10/10\n",
            "56/56 [==============================] - 0s 3ms/step - loss: 0.2856 - accuracy: 0.9601 - val_loss: 0.3593 - val_accuracy: 0.9213\n"
          ]
        }
      ]
    },
    {
      "cell_type": "code",
      "source": [
        "def plot_graphs(history, metric):\n",
        "    plt.plot(history.history[metric])\n",
        "    plt.plot(history.history[f'val_{metric}'])\n",
        "    plt.xlabel(\"Epochs\")\n",
        "    plt.ylabel(metric)\n",
        "    plt.legend([metric, f'val_{metric}'])\n",
        "    plt.show()\n",
        "    \n",
        "plot_graphs(history, \"accuracy\")\n",
        "plot_graphs(history, \"loss\")"
      ],
      "metadata": {
        "colab": {
          "base_uri": "https://localhost:8080/",
          "height": 541
        },
        "id": "bNu18PIrFWOr",
        "outputId": "0788cfe8-3753-45ed-f7ea-825b32606920"
      },
      "execution_count": 191,
      "outputs": [
        {
          "output_type": "display_data",
          "data": {
            "text/plain": [
              "<Figure size 432x288 with 1 Axes>"
            ],
            "image/png": "[encoded data removed]"
          },
          "metadata": {
            "needs_background": "light"
          }
        },
        {
          "output_type": "display_data",
          "data": {
            "text/plain": [
              "<Figure size 432x288 with 1 Axes>"
            ],
            "image/png": "[encoded data removed]"
          },
          "metadata": {
            "needs_background": "light"
          }
        }
      ]
    },
    {
      "cell_type": "code",
      "source": [],
      "metadata": {
        "id": "VnNV-A5gFZvo"
      },
      "execution_count": null,
      "outputs": []
    }
  ]
}