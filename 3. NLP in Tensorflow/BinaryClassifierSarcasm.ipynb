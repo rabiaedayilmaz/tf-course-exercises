{
  "nbformat": 4,
  "nbformat_minor": 0,
  "metadata": {
    "colab": {
      "provenance": [],
      "collapsed_sections": []
    },
    "kernelspec": {
      "name": "python3",
      "display_name": "Python 3"
    },
    "language_info": {
      "name": "python"
    }
  },
  "cells": [
    {
      "cell_type": "code",
      "source": [
        "# Download the dataset\n",
        "!wget https://storage.googleapis.com/tensorflow-1-public/course3/sarcasm.json"
      ],
      "metadata": {
        "colab": {
          "base_uri": "https://localhost:8080/"
        },
        "id": "apE3t8_VZw65",
        "outputId": "fa0d519a-aaa0-4726-d155-987500016838"
      },
      "execution_count": 52,
      "outputs": [
        {
          "output_type": "stream",
          "name": "stdout",
          "text": [
            "--2022-10-09 06:26:33--  https://storage.googleapis.com/tensorflow-1-public/course3/sarcasm.json\n",
            "Resolving storage.googleapis.com (storage.googleapis.com)... 142.251.2.128, 2607:f8b0:4023:c0d::80\n",
            "Connecting to storage.googleapis.com (storage.googleapis.com)|142.251.2.128|:443... connected.\n",
            "HTTP request sent, awaiting response... 200 OK\n",
            "Length: 5643545 (5.4M) [application/json]\n",
            "Saving to: ‘sarcasm.json’\n",
            "\n",
            "\rsarcasm.json          0%[                    ]       0  --.-KB/s               \rsarcasm.json        100%[===================>]   5.38M  --.-KB/s    in 0.02s   \n",
            "\n",
            "2022-10-09 06:26:33 (227 MB/s) - ‘sarcasm.json’ saved [5643545/5643545]\n",
            "\n"
          ]
        }
      ]
    },
    {
      "cell_type": "code",
      "source": [
        "import json\n",
        "\n",
        "with open(\"/content/sarcasm.json\", \"r\") as f:\n",
        "  data = json.load(f)\n",
        "\n",
        "sentences = []\n",
        "labels = []\n",
        "\n",
        "for item in data:\n",
        "  sentences.append(item[\"headline\"])\n",
        "  labels.append(item[\"is_sarcastic\"])"
      ],
      "metadata": {
        "id": "1Isvn37AbHsn"
      },
      "execution_count": 53,
      "outputs": []
    },
    {
      "cell_type": "code",
      "source": [
        "training_size = 20000\n",
        "vocab_size = 10000\n",
        "max_length = 32\n",
        "embedding_dim = 16"
      ],
      "metadata": {
        "id": "THAbZDxvbcz4"
      },
      "execution_count": 58,
      "outputs": []
    },
    {
      "cell_type": "code",
      "source": [
        "training_sentences = sentences[:training_size]\n",
        "training_labels = labels[:training_size]\n",
        "\n",
        "testing_sentences = sentences[training_size:]\n",
        "testing_labels = labels[training_size:]"
      ],
      "metadata": {
        "id": "RTUtXK1Cbpki"
      },
      "execution_count": 115,
      "outputs": []
    },
    {
      "cell_type": "code",
      "source": [
        "import numpy as np\n",
        "from tensorflow.keras.preprocessing.text import Tokenizer\n",
        "from tensorflow.keras.preprocessing.sequence import pad_sequences"
      ],
      "metadata": {
        "id": "r0nsuKapbqkv"
      },
      "execution_count": 116,
      "outputs": []
    },
    {
      "cell_type": "code",
      "source": [
        "trunc_type = \"post\"\n",
        "pad_type =\"post\"\n",
        "oov_token = \"<OOV>\"\n",
        "embedding_dim=16"
      ],
      "metadata": {
        "id": "6mY1JB8ld--2"
      },
      "execution_count": 117,
      "outputs": []
    },
    {
      "cell_type": "code",
      "source": [
        "tokenizer = Tokenizer(num_words=vocab_size, oov_token=oov_token)\n",
        "tokenizer.fit_on_texts(training_sentences)\n",
        "word_idx = tokenizer.word_index"
      ],
      "metadata": {
        "id": "alUAjl3ieFmh"
      },
      "execution_count": 118,
      "outputs": []
    },
    {
      "cell_type": "code",
      "source": [
        "training_sequences = tokenizer.texts_to_sequences(training_sentences)\n",
        "training_padded = pad_sequences(training_sequences, truncating=trunc_type, padding=pad_type, maxlen=max_length)"
      ],
      "metadata": {
        "id": "hea-ZTm3eYLa"
      },
      "execution_count": 119,
      "outputs": []
    },
    {
      "cell_type": "code",
      "source": [
        "testing_sequences = tokenizer.texts_to_sequences(testing_sentences)\n",
        "testing_padded = pad_sequences(testing_sequences, truncating=trunc_type, padding=pad_type, maxlen=max_length)"
      ],
      "metadata": {
        "id": "SPU6agt8eqfY"
      },
      "execution_count": 120,
      "outputs": []
    },
    {
      "cell_type": "code",
      "source": [
        "training_labels = np.array(training_labels)\n",
        "testing_labels =  np.array(testing_labels)"
      ],
      "metadata": {
        "id": "WIA8BtJ7e9A4"
      },
      "execution_count": 121,
      "outputs": []
    },
    {
      "cell_type": "code",
      "source": [
        "import tensorflow as tf\n",
        "\n",
        "# Initialize a GlobalAveragePooling1D (GAP1D) layer\n",
        "gap1d_layer = tf.keras.layers.GlobalAveragePooling1D()\n",
        "\n",
        "# Define sample array\n",
        "sample_array = np.array([[[10,2],[1,3],[1,1]]])\n",
        "\n",
        "# Print shape and contents of sample array\n",
        "print(f'shape of sample_array = {sample_array.shape}')\n",
        "print(f'sample array: {sample_array}')\n",
        "\n",
        "# Pass the sample array to the GAP1D layer\n",
        "output = gap1d_layer(sample_array)\n",
        "\n",
        "# Print shape and contents of the GAP1D output array\n",
        "print(f'output shape of gap1d_layer: {output.shape}')\n",
        "print(f'output array of gap1d_layer: {output.numpy()}')"
      ],
      "metadata": {
        "colab": {
          "base_uri": "https://localhost:8080/"
        },
        "id": "0WkinS05fNrz",
        "outputId": "ec304127-21ee-471b-c3ae-5e0e55d6a226"
      },
      "execution_count": 122,
      "outputs": [
        {
          "output_type": "stream",
          "name": "stdout",
          "text": [
            "shape of sample_array = (1, 3, 2)\n",
            "sample array: [[[10  2]\n",
            "  [ 1  3]\n",
            "  [ 1  1]]]\n",
            "output shape of gap1d_layer: (1, 2)\n",
            "output array of gap1d_layer: [[4 2]]\n"
          ]
        }
      ]
    },
    {
      "cell_type": "code",
      "source": [
        "model = tf.keras.Sequential([tf.keras.layers.Embedding(vocab_size, embedding_dim, input_length=max_length),\n",
        "                             tf.keras.layers.GlobalAveragePooling1D(),\n",
        "                             tf.keras.layers.Dense(24, activation=\"relu\"),\n",
        "                             tf.keras.layers.Dense(1, activation=\"sigmoid\")])\n",
        "\n",
        "model.compile(loss=\"binary_crossentropy\", optimizer=\"adam\", metrics=[\"accuracy\"])\n",
        "\n",
        "model.summary()"
      ],
      "metadata": {
        "colab": {
          "base_uri": "https://localhost:8080/"
        },
        "id": "BzBqvVvjf985",
        "outputId": "9f32cad8-c89d-475a-afd4-47ef31f5e5d6"
      },
      "execution_count": 123,
      "outputs": [
        {
          "output_type": "stream",
          "name": "stdout",
          "text": [
            "Model: \"sequential_10\"\n",
            "_________________________________________________________________\n",
            " Layer (type)                Output Shape              Param #   \n",
            "=================================================================\n",
            " embedding_10 (Embedding)    (None, 32, 16)            160000    \n",
            "                                                                 \n",
            " global_average_pooling1d_7   (None, 16)               0         \n",
            " (GlobalAveragePooling1D)                                        \n",
            "                                                                 \n",
            " dense_20 (Dense)            (None, 24)                408       \n",
            "                                                                 \n",
            " dense_21 (Dense)            (None, 1)                 25        \n",
            "                                                                 \n",
            "=================================================================\n",
            "Total params: 160,433\n",
            "Trainable params: 160,433\n",
            "Non-trainable params: 0\n",
            "_________________________________________________________________\n"
          ]
        }
      ]
    },
    {
      "cell_type": "code",
      "source": [
        "hist = model.fit(training_padded, training_labels, epochs=30, validation_data=(testing_padded, testing_labels))"
      ],
      "metadata": {
        "colab": {
          "base_uri": "https://localhost:8080/"
        },
        "id": "fP5g6EDihztl",
        "outputId": "6bd0b6a4-7240-46a0-ef0f-b0c78c7b43a5"
      },
      "execution_count": 125,
      "outputs": [
        {
          "output_type": "stream",
          "name": "stdout",
          "text": [
            "Epoch 1/30\n",
            "625/625 [==============================] - 3s 5ms/step - loss: 0.0068 - accuracy: 0.9979 - val_loss: 1.7356 - val_accuracy: 0.8015\n",
            "Epoch 2/30\n",
            "625/625 [==============================] - 3s 4ms/step - loss: 0.0062 - accuracy: 0.9983 - val_loss: 1.7776 - val_accuracy: 0.8000\n",
            "Epoch 3/30\n",
            "625/625 [==============================] - 4s 7ms/step - loss: 0.0069 - accuracy: 0.9981 - val_loss: 1.8523 - val_accuracy: 0.8025\n",
            "Epoch 4/30\n",
            "625/625 [==============================] - 4s 6ms/step - loss: 0.0068 - accuracy: 0.9977 - val_loss: 1.9902 - val_accuracy: 0.8012\n",
            "Epoch 5/30\n",
            "625/625 [==============================] - 3s 5ms/step - loss: 0.0053 - accuracy: 0.9985 - val_loss: 1.8894 - val_accuracy: 0.7971\n",
            "Epoch 6/30\n",
            "625/625 [==============================] - 3s 5ms/step - loss: 0.0043 - accuracy: 0.9988 - val_loss: 1.9728 - val_accuracy: 0.7962\n",
            "Epoch 7/30\n",
            "625/625 [==============================] - 3s 4ms/step - loss: 0.0052 - accuracy: 0.9985 - val_loss: 2.0318 - val_accuracy: 0.7967\n",
            "Epoch 8/30\n",
            "625/625 [==============================] - 3s 4ms/step - loss: 0.0046 - accuracy: 0.9983 - val_loss: 2.1234 - val_accuracy: 0.8009\n",
            "Epoch 9/30\n",
            "625/625 [==============================] - 3s 5ms/step - loss: 0.0046 - accuracy: 0.9987 - val_loss: 2.1106 - val_accuracy: 0.7986\n",
            "Epoch 10/30\n",
            "625/625 [==============================] - 3s 5ms/step - loss: 0.0039 - accuracy: 0.9987 - val_loss: 2.1462 - val_accuracy: 0.7967\n",
            "Epoch 11/30\n",
            "625/625 [==============================] - 6s 9ms/step - loss: 0.0041 - accuracy: 0.9989 - val_loss: 2.2600 - val_accuracy: 0.7973\n",
            "Epoch 12/30\n",
            "625/625 [==============================] - 6s 10ms/step - loss: 0.0049 - accuracy: 0.9983 - val_loss: 2.3507 - val_accuracy: 0.7982\n",
            "Epoch 13/30\n",
            "625/625 [==============================] - 3s 5ms/step - loss: 0.0040 - accuracy: 0.9985 - val_loss: 2.2628 - val_accuracy: 0.7967\n",
            "Epoch 14/30\n",
            "625/625 [==============================] - 3s 4ms/step - loss: 0.0046 - accuracy: 0.9985 - val_loss: 2.3782 - val_accuracy: 0.7985\n",
            "Epoch 15/30\n",
            "625/625 [==============================] - 3s 4ms/step - loss: 0.0033 - accuracy: 0.9989 - val_loss: 2.4324 - val_accuracy: 0.7973\n",
            "Epoch 16/30\n",
            "625/625 [==============================] - 6s 10ms/step - loss: 0.0042 - accuracy: 0.9986 - val_loss: 2.4908 - val_accuracy: 0.7973\n",
            "Epoch 17/30\n",
            "625/625 [==============================] - 5s 9ms/step - loss: 0.0035 - accuracy: 0.9988 - val_loss: 2.4477 - val_accuracy: 0.7946\n",
            "Epoch 18/30\n",
            "625/625 [==============================] - 4s 6ms/step - loss: 0.0044 - accuracy: 0.9987 - val_loss: 2.4634 - val_accuracy: 0.7946\n",
            "Epoch 19/30\n",
            "625/625 [==============================] - 3s 4ms/step - loss: 0.0026 - accuracy: 0.9991 - val_loss: 2.5746 - val_accuracy: 0.7970\n",
            "Epoch 20/30\n",
            "625/625 [==============================] - 3s 4ms/step - loss: 0.0025 - accuracy: 0.9992 - val_loss: 2.6386 - val_accuracy: 0.7942\n",
            "Epoch 21/30\n",
            "625/625 [==============================] - 3s 4ms/step - loss: 0.0026 - accuracy: 0.9994 - val_loss: 2.6966 - val_accuracy: 0.7948\n",
            "Epoch 22/30\n",
            "625/625 [==============================] - 3s 4ms/step - loss: 0.0026 - accuracy: 0.9994 - val_loss: 2.6844 - val_accuracy: 0.7945\n",
            "Epoch 23/30\n",
            "625/625 [==============================] - 3s 4ms/step - loss: 0.0031 - accuracy: 0.9991 - val_loss: 2.6873 - val_accuracy: 0.7933\n",
            "Epoch 24/30\n",
            "625/625 [==============================] - 3s 4ms/step - loss: 0.0048 - accuracy: 0.9981 - val_loss: 2.6574 - val_accuracy: 0.7949\n",
            "Epoch 25/30\n",
            "625/625 [==============================] - 3s 4ms/step - loss: 0.0027 - accuracy: 0.9988 - val_loss: 2.6866 - val_accuracy: 0.7927\n",
            "Epoch 26/30\n",
            "625/625 [==============================] - 3s 4ms/step - loss: 0.0026 - accuracy: 0.9991 - val_loss: 2.8343 - val_accuracy: 0.7948\n",
            "Epoch 27/30\n",
            "625/625 [==============================] - 3s 4ms/step - loss: 0.0017 - accuracy: 0.9996 - val_loss: 2.8023 - val_accuracy: 0.7924\n",
            "Epoch 28/30\n",
            "625/625 [==============================] - 3s 4ms/step - loss: 0.0018 - accuracy: 0.9995 - val_loss: 2.8502 - val_accuracy: 0.7936\n",
            "Epoch 29/30\n",
            "625/625 [==============================] - 3s 4ms/step - loss: 0.0031 - accuracy: 0.9992 - val_loss: 2.7415 - val_accuracy: 0.7879\n",
            "Epoch 30/30\n",
            "625/625 [==============================] - 3s 4ms/step - loss: 0.0026 - accuracy: 0.9992 - val_loss: 2.8626 - val_accuracy: 0.7945\n"
          ]
        }
      ]
    },
    {
      "cell_type": "code",
      "source": [
        "import matplotlib.pyplot as plt\n",
        "\n",
        "def plot_graphs(history, string):\n",
        "  plt.plot(history.history[string])\n",
        "  plt.plot(history.history['val_'+string])\n",
        "  plt.xlabel(\"Epochs\")\n",
        "  plt.ylabel(string)\n",
        "  plt.legend([string, 'val_'+string])\n",
        "  plt.show()\n",
        "  \n",
        "# Plot the accuracy and loss\n",
        "plot_graphs(hist, \"accuracy\")\n",
        "plot_graphs(hist, \"loss\")"
      ],
      "metadata": {
        "colab": {
          "base_uri": "https://localhost:8080/",
          "height": 545
        },
        "id": "JYDE_dB9h_wc",
        "outputId": "9ab704a7-17ca-4754-f172-69e978bdaa61"
      },
      "execution_count": 127,
      "outputs": [
        {
          "output_type": "display_data",
          "data": {
            "text/plain": [
              "<Figure size 432x288 with 1 Axes>"
            ],
            "image/png": "[encoded data removed]"
          },
          "metadata": {
            "needs_background": "light"
          }
        },
        {
          "output_type": "display_data",
          "data": {
            "text/plain": [
              "<Figure size 432x288 with 1 Axes>"
            ],
            "image/png": "[encoded data removed]"
          },
          "metadata": {
            "needs_background": "light"
          }
        }
      ]
    },
    {
      "cell_type": "code",
      "source": [
        "# Get the index-word dictionary\n",
        "reverse_word_index = tokenizer.index_word\n",
        "\n",
        "# Get the embedding layer from the model (i.e. first layer)\n",
        "embedding_layer = model.layers[0]\n",
        "\n",
        "# Get the weights of the embedding layer\n",
        "embedding_weights = embedding_layer.get_weights()[0]\n",
        "\n",
        "# Print the shape. Expected is (vocab_size, embedding_dim)\n",
        "print(embedding_weights.shape) "
      ],
      "metadata": {
        "colab": {
          "base_uri": "https://localhost:8080/"
        },
        "id": "WeAupJVkjceY",
        "outputId": "495edaad-dc3b-43b0-8b9c-2d2dab2b9f48"
      },
      "execution_count": 128,
      "outputs": [
        {
          "output_type": "stream",
          "name": "stdout",
          "text": [
            "(10000, 16)\n"
          ]
        }
      ]
    },
    {
      "cell_type": "code",
      "source": [],
      "metadata": {
        "id": "c7hPMVtDjiXR"
      },
      "execution_count": null,
      "outputs": []
    }
  ]
}