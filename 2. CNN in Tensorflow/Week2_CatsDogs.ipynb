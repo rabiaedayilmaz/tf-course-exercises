{
  "nbformat": 4,
  "nbformat_minor": 0,
  "metadata": {
    "colab": {
      "provenance": [],
      "collapsed_sections": []
    },
    "kernelspec": {
      "name": "python3",
      "display_name": "Python 3"
    },
    "language_info": {
      "name": "python"
    },
    "accelerator": "GPU"
  },
  "cells": [
    {
      "cell_type": "code",
      "execution_count": 1,
      "metadata": {
        "id": "PRt4TqHhSfys"
      },
      "outputs": [],
      "source": [
        "import tensorflow as tf\n",
        "import numpy as np\n",
        "import matplotlib.pyplot as plt\n",
        "import os\n",
        "import shutil\n",
        "from zipfile import ZipFile\n",
        "import random"
      ]
    },
    {
      "cell_type": "code",
      "source": [
        "!wget --no-check-certificate \\\n",
        "    \"https://download.microsoft.com/download/3/E/1/3E1C3F21-ECDB-4869-8368-6DEBA77B919F/kagglecatsanddogs_5340.zip\" \\\n",
        "    -O \"/tmp/cats-and-dogs.zip\""
      ],
      "metadata": {
        "colab": {
          "base_uri": "https://localhost:8080/"
        },
        "id": "G8b_oFkvSl17",
        "outputId": "5e3861db-f05d-407e-e141-ab9bd2475d65"
      },
      "execution_count": 2,
      "outputs": [
        {
          "output_type": "stream",
          "name": "stdout",
          "text": [
            "--2022-10-07 13:32:32--  https://download.microsoft.com/download/3/E/1/3E1C3F21-ECDB-4869-8368-6DEBA77B919F/kagglecatsanddogs_5340.zip\n",
            "Resolving download.microsoft.com (download.microsoft.com)... 104.117.233.21, 2600:1409:9800:98c::317f, 2600:1409:9800:984::317f\n",
            "Connecting to download.microsoft.com (download.microsoft.com)|104.117.233.21|:443... connected.\n",
            "HTTP request sent, awaiting response... 200 OK\n",
            "Length: 824887076 (787M) [application/octet-stream]\n",
            "Saving to: ‘/tmp/cats-and-dogs.zip’\n",
            "\n",
            "/tmp/cats-and-dogs. 100%[===================>] 786.67M   167MB/s    in 4.8s    \n",
            "\n",
            "2022-10-07 13:32:37 (165 MB/s) - ‘/tmp/cats-and-dogs.zip’ saved [824887076/824887076]\n",
            "\n"
          ]
        }
      ]
    },
    {
      "cell_type": "code",
      "source": [
        "def OpenZip(path):\n",
        "  with ZipFile(path, \"r\") as z:\n",
        "    z.extractall(\"/tmp\")\n",
        "    print(\"Done!\")\n",
        "\n",
        "OpenZip(\"/tmp/cats-and-dogs.zip\")"
      ],
      "metadata": {
        "colab": {
          "base_uri": "https://localhost:8080/"
        },
        "id": "-5BONJGoSsni",
        "outputId": "49b9af51-2baa-4f68-9af6-f96790c239de"
      },
      "execution_count": 3,
      "outputs": [
        {
          "output_type": "stream",
          "name": "stdout",
          "text": [
            "Done!\n"
          ]
        }
      ]
    },
    {
      "cell_type": "code",
      "source": [
        "base_dir = \"/tmp/PetImages\"\n",
        "\n",
        "base_dog_dir = os.path.join(base_dir, \"Dog\")\n",
        "base_cat_dir = os.path.join(base_dir, \"Cat\")"
      ],
      "metadata": {
        "id": "rE5jvBJrS1l_"
      },
      "execution_count": 4,
      "outputs": []
    },
    {
      "cell_type": "code",
      "source": [
        "dog_fnames = [dog for dog in os.listdir(base_dog_dir) if dog.split(\".\")[-1] == \"jpg\"]\n",
        "cat_fnames = [cat for cat in os.listdir(base_cat_dir) if cat.split(\".\")[-1] == \"jpg\"]"
      ],
      "metadata": {
        "id": "k-1FZj30ToNy"
      },
      "execution_count": 5,
      "outputs": []
    },
    {
      "cell_type": "code",
      "source": [
        "for dog in os.listdir(base_dog_dir):\n",
        "  if dog.split(\".\")[-1] != \"jpg\":\n",
        "    os.remove(os.path.join(base_dog_dir, dog))\n",
        "\n",
        "for cat in os.listdir(base_cat_dir):\n",
        "  if cat.split(\".\")[-1] != \"jpg\":\n",
        "    os.remove(os.path.join(base_cat_dir, cat))"
      ],
      "metadata": {
        "id": "Nn3LFnugkDRw"
      },
      "execution_count": 6,
      "outputs": []
    },
    {
      "cell_type": "code",
      "source": [
        "print(f\"Found {len(os.listdir(base_dog_dir)) - len(dog_fnames)} non-jpg file in dogs.\")\n",
        "print(f\"Found {len(os.listdir(base_cat_dir)) - len(cat_fnames)} non-jpg file in cats.\")"
      ],
      "metadata": {
        "colab": {
          "base_uri": "https://localhost:8080/"
        },
        "id": "t72MiaxTTqkH",
        "outputId": "aafd8ac8-0c29-4418-9d7b-fbf12d4e4424"
      },
      "execution_count": 7,
      "outputs": [
        {
          "output_type": "stream",
          "name": "stdout",
          "text": [
            "Found 0 non-jpg file in dogs.\n",
            "Found 0 non-jpg file in cats.\n"
          ]
        }
      ]
    },
    {
      "cell_type": "code",
      "source": [
        "print(f\"There are {len(dog_fnames)} images of dogs.\")\n",
        "print(f\"There are {len(cat_fnames)} images of cats.\")"
      ],
      "metadata": {
        "colab": {
          "base_uri": "https://localhost:8080/"
        },
        "id": "fVQBwB3JUEaV",
        "outputId": "c2754c4d-e92e-4440-bf56-8370261e2af7"
      },
      "execution_count": 8,
      "outputs": [
        {
          "output_type": "stream",
          "name": "stdout",
          "text": [
            "There are 12500 images of dogs.\n",
            "There are 12500 images of cats.\n"
          ]
        }
      ]
    },
    {
      "cell_type": "code",
      "source": [
        "root_dir = \"/tmp/cats-v-dogs\"\n",
        "\n",
        "# if there is already a root dir, empty it\n",
        "if os.path.exists(root_dir):\n",
        "  shutil.rmtree(root_dir)\n",
        "\n",
        "def create_train_val_dirs(root_path):\n",
        "  train_dir = os.path.join(root_dir, \"training\")\n",
        "  val_dir = os.path.join(root_dir, \"validation\")\n",
        "\n",
        "  os.makedirs(train_dir)\n",
        "  os.makedirs(val_dir)\n",
        "\n",
        "  os.makedirs(os.path.join(train_dir, \"cats\"))\n",
        "  os.makedirs(os.path.join(train_dir, \"dogs\"))\n",
        "\n",
        "  os.makedirs(os.path.join(val_dir, \"cats\"))\n",
        "  os.makedirs(os.path.join(val_dir, \"dogs\"))\n",
        "\n",
        "  print(\"Subdirectories are created!\\n\")\n",
        "\n",
        "create_train_val_dirs(root_dir)\n",
        "\n",
        "for rootdir, dirs, files in os.walk(root_dir):\n",
        "  for subdir in dirs:\n",
        "    print(\"Found -> \", os.path.join(rootdir, subdir))"
      ],
      "metadata": {
        "colab": {
          "base_uri": "https://localhost:8080/"
        },
        "id": "heV69g8xUdd1",
        "outputId": "73ac6324-55d6-454b-f814-715a50e5a0ba"
      },
      "execution_count": 9,
      "outputs": [
        {
          "output_type": "stream",
          "name": "stdout",
          "text": [
            "Subdirectories are created!\n",
            "\n",
            "Found ->  /tmp/cats-v-dogs/training\n",
            "Found ->  /tmp/cats-v-dogs/validation\n",
            "Found ->  /tmp/cats-v-dogs/training/dogs\n",
            "Found ->  /tmp/cats-v-dogs/training/cats\n",
            "Found ->  /tmp/cats-v-dogs/validation/dogs\n",
            "Found ->  /tmp/cats-v-dogs/validation/cats\n"
          ]
        }
      ]
    },
    {
      "cell_type": "code",
      "source": [
        "CAT_BASE_DIR = \"/tmp/PetImages/Cat\"\n",
        "TRAINING_CATS = \"/tmp/cats-v-dogs/training/cats\"\n",
        "VAL_CATS = \"/tmp/cats-v-dogs/validation/cats\"\n",
        "\n",
        "DOG_BASE_DIR = \"/tmp/PetImages/Dog\"\n",
        "TRAINING_DOGS = \"/tmp/cats-v-dogs/training/dogs\"\n",
        "VAL_DOGS = \"/tmp/cats-v-dogs/validation/dogs\""
      ],
      "metadata": {
        "id": "dzqtc51TdydQ"
      },
      "execution_count": 10,
      "outputs": []
    },
    {
      "cell_type": "code",
      "source": [
        "def split_data(base_dir, to_train_dir, to_val_dir, split_size):\n",
        "  all_files = []\n",
        "\n",
        "  for f in os.listdir(base_dir):\n",
        "    fpath = os.path.join(base_dir, f)\n",
        "    if os.path.getsize(fpath):\n",
        "      all_files.append(f)\n",
        "    else:\n",
        "      print(\"{} is zero length, so ignoring.\".format(f))\n",
        "      \n",
        "  n = len(all_files)\n",
        "  split_point = int(n * split_size)\n",
        "  shuffled = random.sample(all_files, n)\n",
        "\n",
        "  train_set = shuffled[:split_point]\n",
        "  val_set = shuffled[split_point:]\n",
        "\n",
        "  for f in train_set:\n",
        "    p = os.path.join(base_dir, f)\n",
        "    shutil.copyfile(p, os.path.join(to_train_dir, f))\n",
        "\n",
        "  for f in val_set:\n",
        "    p = os.path.join(base_dir, f)\n",
        "    shutil.copyfile(p, os.path.join(to_val_dir, f))"
      ],
      "metadata": {
        "id": "YXHpb_kMX7OV"
      },
      "execution_count": 11,
      "outputs": []
    },
    {
      "cell_type": "code",
      "source": [
        "# empty directories if you run multiple times\n",
        "if len(os.listdir(TRAINING_CATS)) > 0:\n",
        "  for file in os.scandir(TRAINING_CATS):\n",
        "    os.remove(file.path)\n",
        "if len(os.listdir(VAL_CATS)) > 0:\n",
        "  for file in os.scandir(VAL_CATS):\n",
        "    os.remove(file.path)\n",
        "if len(os.listdir(TRAINING_DOGS)) > 0:\n",
        "  for file in os.scandir(TRAINING_DOGS):\n",
        "    os.remove(file.path)\n",
        "if len(os.listdir(VAL_DOGS)) > 0:\n",
        "  for file in os.scandir(VAL_DOGS):\n",
        "    os.remove(file.path)"
      ],
      "metadata": {
        "id": "k8bi25J8bh2r"
      },
      "execution_count": 12,
      "outputs": []
    },
    {
      "cell_type": "code",
      "source": [
        "split_data(CAT_BASE_DIR, TRAINING_CATS, VAL_CATS, 0.9)\n",
        "split_data(DOG_BASE_DIR, TRAINING_DOGS, VAL_DOGS, 0.9)"
      ],
      "metadata": {
        "colab": {
          "base_uri": "https://localhost:8080/"
        },
        "id": "QqsXnxgMbFOU",
        "outputId": "c8bf5b6f-cc64-488f-eeab-27bf12dbd7c2"
      },
      "execution_count": 13,
      "outputs": [
        {
          "output_type": "stream",
          "name": "stdout",
          "text": [
            "666.jpg is zero length, so ignoring.\n",
            "11702.jpg is zero length, so ignoring.\n"
          ]
        }
      ]
    },
    {
      "cell_type": "code",
      "source": [
        "print(f\"Original cat's directory has {len(os.listdir(CAT_BASE_DIR))} images\")\n",
        "print(f\"Original dog's directory has {len(os.listdir(DOG_BASE_DIR))} images\\n\")\n",
        "\n",
        "# Training and validation splits\n",
        "print(f\"There are {len(os.listdir(TRAINING_CATS))} images of cats for training\")\n",
        "print(f\"There are {len(os.listdir(TRAINING_DOGS))} images of dogs for training\")\n",
        "print(f\"There are {len(os.listdir(VAL_CATS))} images of cats for validation\")\n",
        "print(f\"There are {len(os.listdir(VAL_DOGS))} images of dogs for validation\")"
      ],
      "metadata": {
        "id": "EZH-jY9WgfpS",
        "colab": {
          "base_uri": "https://localhost:8080/"
        },
        "outputId": "bb9315dd-1a4e-4c58-b1bf-19d793edf5f6"
      },
      "execution_count": 14,
      "outputs": [
        {
          "output_type": "stream",
          "name": "stdout",
          "text": [
            "Original cat's directory has 12500 images\n",
            "Original dog's directory has 12500 images\n",
            "\n",
            "There are 11249 images of cats for training\n",
            "There are 11249 images of dogs for training\n",
            "There are 1250 images of cats for validation\n",
            "There are 1250 images of dogs for validation\n"
          ]
        }
      ]
    },
    {
      "cell_type": "code",
      "source": [
        "def train_val_generators(train_dir, val_dir):\n",
        "  from tensorflow.keras.preprocessing.image import ImageDataGenerator\n",
        "  train_gen = ImageDataGenerator(rescale=1/255.)\n",
        "  val_gen = ImageDataGenerator(rescale=1/255.)\n",
        "\n",
        "  train_generator = train_gen.flow_from_directory(directory=train_dir,\n",
        "                                                  batch_size=32,\n",
        "                                                  class_mode=\"binary\",\n",
        "                                                  target_size=(150, 150))\n",
        "  val_generator = val_gen.flow_from_directory(directory=val_dir,\n",
        "                                              batch_size=32,\n",
        "                                              class_mode=\"binary\",\n",
        "                                              target_size=(150, 150))\n",
        "  return train_generator, val_generator"
      ],
      "metadata": {
        "id": "s4litSwajvIn"
      },
      "execution_count": 15,
      "outputs": []
    },
    {
      "cell_type": "code",
      "source": [
        "train_dir = \"/tmp/cats-v-dogs/training\"\n",
        "val_dir = \"/tmp/cats-v-dogs/validation\"\n",
        "\n",
        "train_generator, val_generator = train_val_generators(train_dir, val_dir)"
      ],
      "metadata": {
        "colab": {
          "base_uri": "https://localhost:8080/"
        },
        "id": "ozwOaXf_n7ye",
        "outputId": "e8d9b510-13aa-4b4f-9bb9-0f5488cccbaa"
      },
      "execution_count": 16,
      "outputs": [
        {
          "output_type": "stream",
          "name": "stdout",
          "text": [
            "Found 22498 images belonging to 2 classes.\n",
            "Found 2500 images belonging to 2 classes.\n"
          ]
        }
      ]
    },
    {
      "cell_type": "code",
      "source": [
        "def create_model():\n",
        "  model = tf.keras.Sequential([tf.keras.layers.Conv2D(32, (3,3), input_shape=(150, 150, 3), activation=\"relu\"),\n",
        "                               tf.keras.layers.MaxPooling2D(2,2),\n",
        "                               tf.keras.layers.Conv2D(32, (3,3), input_shape=(150, 150), activation=\"relu\"),\n",
        "                               tf.keras.layers.MaxPooling2D(2,2),\n",
        "                               tf.keras.layers.Dropout(0.2),\n",
        "                               \n",
        "                               tf.keras.layers.Flatten(),\n",
        "                               tf.keras.layers.Dense(128, activation=\"relu\"),\n",
        "                               tf.keras.layers.Dense(1, activation=\"sigmoid\")\n",
        "                               ])\n",
        "  model.compile(optimizer=\"adam\", loss=\"binary_crossentropy\", metrics=[\"accuracy\"])\n",
        "\n",
        "  return model"
      ],
      "metadata": {
        "id": "ZWGzl42CoTeA"
      },
      "execution_count": 17,
      "outputs": []
    },
    {
      "cell_type": "code",
      "source": [
        "model = create_model()\n",
        "\n",
        "hist = model.fit(train_generator, validation_data=val_generator, epochs=10, verbose=1)"
      ],
      "metadata": {
        "colab": {
          "base_uri": "https://localhost:8080/"
        },
        "id": "nwT6zstJo_eE",
        "outputId": "1987ce2c-5c32-4530-bf93-8f44d65b0caf"
      },
      "execution_count": 18,
      "outputs": [
        {
          "output_type": "stream",
          "name": "stdout",
          "text": [
            "Epoch 1/10\n",
            "415/704 [================>.............] - ETA: 40s - loss: 0.6364 - accuracy: 0.6416"
          ]
        },
        {
          "output_type": "stream",
          "name": "stderr",
          "text": [
            "/usr/local/lib/python3.7/dist-packages/PIL/TiffImagePlugin.py:770: UserWarning: Possibly corrupt EXIF data.  Expecting to read 32 bytes but only got 0. Skipping tag 270\n",
            "  \" Skipping tag %s\" % (size, len(data), tag)\n",
            "/usr/local/lib/python3.7/dist-packages/PIL/TiffImagePlugin.py:770: UserWarning: Possibly corrupt EXIF data.  Expecting to read 5 bytes but only got 0. Skipping tag 271\n",
            "  \" Skipping tag %s\" % (size, len(data), tag)\n",
            "/usr/local/lib/python3.7/dist-packages/PIL/TiffImagePlugin.py:770: UserWarning: Possibly corrupt EXIF data.  Expecting to read 8 bytes but only got 0. Skipping tag 272\n",
            "  \" Skipping tag %s\" % (size, len(data), tag)\n",
            "/usr/local/lib/python3.7/dist-packages/PIL/TiffImagePlugin.py:770: UserWarning: Possibly corrupt EXIF data.  Expecting to read 8 bytes but only got 0. Skipping tag 282\n",
            "  \" Skipping tag %s\" % (size, len(data), tag)\n",
            "/usr/local/lib/python3.7/dist-packages/PIL/TiffImagePlugin.py:770: UserWarning: Possibly corrupt EXIF data.  Expecting to read 8 bytes but only got 0. Skipping tag 283\n",
            "  \" Skipping tag %s\" % (size, len(data), tag)\n",
            "/usr/local/lib/python3.7/dist-packages/PIL/TiffImagePlugin.py:770: UserWarning: Possibly corrupt EXIF data.  Expecting to read 20 bytes but only got 0. Skipping tag 306\n",
            "  \" Skipping tag %s\" % (size, len(data), tag)\n",
            "/usr/local/lib/python3.7/dist-packages/PIL/TiffImagePlugin.py:770: UserWarning: Possibly corrupt EXIF data.  Expecting to read 48 bytes but only got 0. Skipping tag 532\n",
            "  \" Skipping tag %s\" % (size, len(data), tag)\n",
            "/usr/local/lib/python3.7/dist-packages/PIL/TiffImagePlugin.py:788: UserWarning: Corrupt EXIF data.  Expecting to read 2 bytes but only got 0. \n",
            "  warnings.warn(str(msg))\n"
          ]
        },
        {
          "output_type": "stream",
          "name": "stdout",
          "text": [
            "704/704 [==============================] - 109s 137ms/step - loss: 0.6010 - accuracy: 0.6763 - val_loss: 0.5151 - val_accuracy: 0.7572\n",
            "Epoch 2/10\n",
            "704/704 [==============================] - 77s 109ms/step - loss: 0.4707 - accuracy: 0.7728 - val_loss: 0.4776 - val_accuracy: 0.7800\n",
            "Epoch 3/10\n",
            "704/704 [==============================] - 77s 110ms/step - loss: 0.3886 - accuracy: 0.8244 - val_loss: 0.4701 - val_accuracy: 0.7864\n",
            "Epoch 4/10\n",
            "704/704 [==============================] - 75s 107ms/step - loss: 0.2962 - accuracy: 0.8723 - val_loss: 0.5055 - val_accuracy: 0.7860\n",
            "Epoch 5/10\n",
            "704/704 [==============================] - 75s 107ms/step - loss: 0.1948 - accuracy: 0.9211 - val_loss: 0.5900 - val_accuracy: 0.7916\n",
            "Epoch 6/10\n",
            "704/704 [==============================] - 74s 106ms/step - loss: 0.1134 - accuracy: 0.9568 - val_loss: 0.6479 - val_accuracy: 0.7856\n",
            "Epoch 7/10\n",
            "704/704 [==============================] - 79s 113ms/step - loss: 0.0615 - accuracy: 0.9793 - val_loss: 0.7804 - val_accuracy: 0.7872\n",
            "Epoch 8/10\n",
            "704/704 [==============================] - 88s 125ms/step - loss: 0.0468 - accuracy: 0.9848 - val_loss: 1.0291 - val_accuracy: 0.7864\n",
            "Epoch 9/10\n",
            "704/704 [==============================] - 91s 129ms/step - loss: 0.0325 - accuracy: 0.9901 - val_loss: 1.0832 - val_accuracy: 0.7824\n",
            "Epoch 10/10\n",
            "704/704 [==============================] - 77s 109ms/step - loss: 0.0364 - accuracy: 0.9880 - val_loss: 1.0599 - val_accuracy: 0.7752\n"
          ]
        }
      ]
    },
    {
      "cell_type": "code",
      "source": [
        "eps = range(len(hist.history[\"loss\"]))\n",
        "\n",
        "plt.plot(eps, hist.history[\"loss\"])\n",
        "plt.plot(eps, hist.history[\"val_loss\"])\n",
        "plt.legend([\"loss\", \"val_loss\"])"
      ],
      "metadata": {
        "colab": {
          "base_uri": "https://localhost:8080/",
          "height": 282
        },
        "id": "A2zsH7d8pMVk",
        "outputId": "40514035-4c3e-4913-dc92-5c35d3c72d05"
      },
      "execution_count": 22,
      "outputs": [
        {
          "output_type": "execute_result",
          "data": {
            "text/plain": [
              "<matplotlib.legend.Legend at 0x7f8ef5be1a50>"
            ]
          },
          "metadata": {},
          "execution_count": 22
        },
        {
          "output_type": "display_data",
          "data": {
            "text/plain": [
              "<Figure size 432x288 with 1 Axes>"
            ],
            "image/png": "[encoded data removed]"
          },
          "metadata": {
            "needs_background": "light"
          }
        }
      ]
    },
    {
      "cell_type": "code",
      "source": [
        "plt.plot(eps, hist.history[\"accuracy\"])\n",
        "plt.plot(eps, hist.history[\"val_accuracy\"])\n",
        "plt.legend([\"acc\",\"val_acc\"])"
      ],
      "metadata": {
        "colab": {
          "base_uri": "https://localhost:8080/",
          "height": 283
        },
        "id": "SkVCaMs1pao8",
        "outputId": "17404eab-8117-4c7c-fc4a-101326eb7eac"
      },
      "execution_count": 23,
      "outputs": [
        {
          "output_type": "execute_result",
          "data": {
            "text/plain": [
              "<matplotlib.legend.Legend at 0x7f8ef58c6bd0>"
            ]
          },
          "metadata": {},
          "execution_count": 23
        },
        {
          "output_type": "display_data",
          "data": {
            "text/plain": [
              "<Figure size 432x288 with 1 Axes>"
            ],
            "image/png": "[encoded data removed]"
          },
          "metadata": {
            "needs_background": "light"
          }
        }
      ]
    },
    {
      "cell_type": "markdown",
      "source": [
        "## Data Augmentation"
      ],
      "metadata": {
        "id": "eCXjEiCdriEH"
      }
    },
    {
      "cell_type": "code",
      "source": [
        "class myCallback(tf.keras.callbacks.Callback):\n",
        "  def on_epoch_end(self, model, logs={}):\n",
        "    if logs.get(\"accuracy\") > 0.9:\n",
        "      print(\"Accuracy is larger than 90%, so stopping.\")\n",
        "      self.model.stop_training=True"
      ],
      "metadata": {
        "id": "ebijnvWMsThj"
      },
      "execution_count": 24,
      "outputs": []
    },
    {
      "cell_type": "code",
      "source": [
        "def train_val_generators(train_dir, val_dir):\n",
        "  from tensorflow.keras.preprocessing.image import ImageDataGenerator\n",
        "  train_gen = ImageDataGenerator(rescale=1/255.,\n",
        "                                 rotation_range=40,\n",
        "                                 width_shift_range=0.2,\n",
        "                                 height_shift_range=0.2,\n",
        "                                 shear_range=0.2,\n",
        "                                 zoom_range=0.2,\n",
        "                                 horizontal_flip=True,\n",
        "                                 fill_mode=\"nearest\")\n",
        "  val_gen = ImageDataGenerator(rescale=1/255.)\n",
        "\n",
        "  train_generator = train_gen.flow_from_directory(directory=train_dir,\n",
        "                                                  batch_size=32,\n",
        "                                                  class_mode=\"binary\",\n",
        "                                                  target_size=(150, 150))\n",
        "  val_generator = val_gen.flow_from_directory(directory=val_dir,\n",
        "                                              batch_size=32,\n",
        "                                              class_mode=\"binary\",\n",
        "                                              target_size=(150, 150))\n",
        "  return train_generator, val_generator\n",
        "\n",
        "\n",
        "train_generator, val_generator = train_val_generators(train_dir, val_dir)\n",
        "model2 = create_model()\n",
        "\n",
        "hist = model2.fit(train_generator, validation_data=val_generator, epochs=10, verbose=1)"
      ],
      "metadata": {
        "colab": {
          "base_uri": "https://localhost:8080/"
        },
        "id": "IXndkiVRq7SS",
        "outputId": "6144c9e9-db1a-4fc8-b137-58bc4ebb8f13"
      },
      "execution_count": 25,
      "outputs": [
        {
          "output_type": "stream",
          "name": "stdout",
          "text": [
            "Found 22498 images belonging to 2 classes.\n",
            "Found 2500 images belonging to 2 classes.\n",
            "Epoch 1/10\n",
            "658/704 [===========================>..] - ETA: 10s - loss: 0.6744 - accuracy: 0.5975"
          ]
        },
        {
          "output_type": "stream",
          "name": "stderr",
          "text": [
            "/usr/local/lib/python3.7/dist-packages/PIL/TiffImagePlugin.py:770: UserWarning: Possibly corrupt EXIF data.  Expecting to read 32 bytes but only got 0. Skipping tag 270\n",
            "  \" Skipping tag %s\" % (size, len(data), tag)\n",
            "/usr/local/lib/python3.7/dist-packages/PIL/TiffImagePlugin.py:770: UserWarning: Possibly corrupt EXIF data.  Expecting to read 5 bytes but only got 0. Skipping tag 271\n",
            "  \" Skipping tag %s\" % (size, len(data), tag)\n",
            "/usr/local/lib/python3.7/dist-packages/PIL/TiffImagePlugin.py:770: UserWarning: Possibly corrupt EXIF data.  Expecting to read 8 bytes but only got 0. Skipping tag 272\n",
            "  \" Skipping tag %s\" % (size, len(data), tag)\n",
            "/usr/local/lib/python3.7/dist-packages/PIL/TiffImagePlugin.py:770: UserWarning: Possibly corrupt EXIF data.  Expecting to read 8 bytes but only got 0. Skipping tag 282\n",
            "  \" Skipping tag %s\" % (size, len(data), tag)\n",
            "/usr/local/lib/python3.7/dist-packages/PIL/TiffImagePlugin.py:770: UserWarning: Possibly corrupt EXIF data.  Expecting to read 8 bytes but only got 0. Skipping tag 283\n",
            "  \" Skipping tag %s\" % (size, len(data), tag)\n",
            "/usr/local/lib/python3.7/dist-packages/PIL/TiffImagePlugin.py:770: UserWarning: Possibly corrupt EXIF data.  Expecting to read 20 bytes but only got 0. Skipping tag 306\n",
            "  \" Skipping tag %s\" % (size, len(data), tag)\n",
            "/usr/local/lib/python3.7/dist-packages/PIL/TiffImagePlugin.py:770: UserWarning: Possibly corrupt EXIF data.  Expecting to read 48 bytes but only got 0. Skipping tag 532\n",
            "  \" Skipping tag %s\" % (size, len(data), tag)\n",
            "/usr/local/lib/python3.7/dist-packages/PIL/TiffImagePlugin.py:788: UserWarning: Corrupt EXIF data.  Expecting to read 2 bytes but only got 0. \n",
            "  warnings.warn(str(msg))\n"
          ]
        },
        {
          "output_type": "stream",
          "name": "stdout",
          "text": [
            "704/704 [==============================] - 168s 237ms/step - loss: 0.6719 - accuracy: 0.6002 - val_loss: 0.6265 - val_accuracy: 0.6460\n",
            "Epoch 2/10\n",
            "704/704 [==============================] - 166s 235ms/step - loss: 0.6109 - accuracy: 0.6642 - val_loss: 0.5736 - val_accuracy: 0.6944\n",
            "Epoch 3/10\n",
            "704/704 [==============================] - 165s 235ms/step - loss: 0.5760 - accuracy: 0.6973 - val_loss: 0.5296 - val_accuracy: 0.7224\n",
            "Epoch 4/10\n",
            "704/704 [==============================] - 165s 234ms/step - loss: 0.5560 - accuracy: 0.7147 - val_loss: 0.5138 - val_accuracy: 0.7504\n",
            "Epoch 5/10\n",
            "704/704 [==============================] - 164s 233ms/step - loss: 0.5404 - accuracy: 0.7288 - val_loss: 0.4810 - val_accuracy: 0.7700\n",
            "Epoch 6/10\n",
            "704/704 [==============================] - 163s 232ms/step - loss: 0.5297 - accuracy: 0.7318 - val_loss: 0.4920 - val_accuracy: 0.7672\n",
            "Epoch 7/10\n",
            "704/704 [==============================] - 164s 233ms/step - loss: 0.5175 - accuracy: 0.7413 - val_loss: 0.4841 - val_accuracy: 0.7644\n",
            "Epoch 8/10\n",
            "704/704 [==============================] - 164s 233ms/step - loss: 0.5091 - accuracy: 0.7493 - val_loss: 0.5012 - val_accuracy: 0.7696\n",
            "Epoch 9/10\n",
            "704/704 [==============================] - 166s 236ms/step - loss: 0.5033 - accuracy: 0.7547 - val_loss: 0.4370 - val_accuracy: 0.7984\n",
            "Epoch 10/10\n",
            "704/704 [==============================] - 166s 235ms/step - loss: 0.4954 - accuracy: 0.7587 - val_loss: 0.4652 - val_accuracy: 0.7816\n"
          ]
        }
      ]
    },
    {
      "cell_type": "code",
      "source": [
        "eps = range(len(hist.history[\"loss\"]))\n",
        "\n",
        "plt.plot(eps, hist.history[\"loss\"])\n",
        "plt.plot(eps, hist.history[\"val_loss\"])\n",
        "plt.legend([\"loss\", \"val_loss\"])"
      ],
      "metadata": {
        "colab": {
          "base_uri": "https://localhost:8080/",
          "height": 282
        },
        "id": "-O__nVr6sJRu",
        "outputId": "82d8caa6-8d8b-4870-ff87-6209ba43a1b8"
      },
      "execution_count": 28,
      "outputs": [
        {
          "output_type": "execute_result",
          "data": {
            "text/plain": [
              "<matplotlib.legend.Legend at 0x7f8ef7d59790>"
            ]
          },
          "metadata": {},
          "execution_count": 28
        },
        {
          "output_type": "display_data",
          "data": {
            "text/plain": [
              "<Figure size 432x288 with 1 Axes>"
            ],
            "image/png": "[encoded data removed]"
          },
          "metadata": {
            "needs_background": "light"
          }
        }
      ]
    },
    {
      "cell_type": "code",
      "source": [
        "plt.plot(eps, hist.history[\"accuracy\"])\n",
        "plt.plot(eps, hist.history[\"val_accuracy\"])\n",
        "plt.legend([\"acc\",\"val_acc\"])"
      ],
      "metadata": {
        "colab": {
          "base_uri": "https://localhost:8080/",
          "height": 282
        },
        "id": "xpuXzzNysJti",
        "outputId": "66fb27b5-5d99-464c-d385-32037fbb3845"
      },
      "execution_count": 29,
      "outputs": [
        {
          "output_type": "execute_result",
          "data": {
            "text/plain": [
              "<matplotlib.legend.Legend at 0x7f8ef7c80c90>"
            ]
          },
          "metadata": {},
          "execution_count": 29
        },
        {
          "output_type": "display_data",
          "data": {
            "text/plain": [
              "<Figure size 432x288 with 1 Axes>"
            ],
            "image/png": "[encoded data removed]"
          },
          "metadata": {
            "needs_background": "light"
          }
        }
      ]
    },
    {
      "cell_type": "code",
      "source": [],
      "metadata": {
        "id": "oo2d961szj_E"
      },
      "execution_count": null,
      "outputs": []
    }
  ]
}